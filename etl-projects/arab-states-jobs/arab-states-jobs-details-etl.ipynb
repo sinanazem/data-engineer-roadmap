{
 "cells": [
  {
   "cell_type": "markdown",
   "id": "2848f0e4-1e42-4a58-a42a-8319dbd2b1e0",
   "metadata": {},
   "source": [
    "# Step 1: Extract (Web Scraping)"
   ]
  },
  {
   "cell_type": "code",
   "execution_count": null,
   "id": "d26cbf4a-0998-44b1-bca1-739e4d6bfa25",
   "metadata": {},
   "outputs": [],
   "source": []
  },
  {
   "cell_type": "code",
   "execution_count": null,
   "id": "f0f61390-1b4d-40d3-b2c7-f35388753dc4",
   "metadata": {},
   "outputs": [],
   "source": []
  },
  {
   "cell_type": "code",
   "execution_count": null,
   "id": "664be138-c90a-4412-b361-fd8f0c02a6b0",
   "metadata": {},
   "outputs": [],
   "source": []
  },
  {
   "cell_type": "markdown",
   "id": "4e390ebe-915a-4720-896b-a7e39dcbdc1e",
   "metadata": {},
   "source": [
    "# Step 2: Transform (Data Transformation)"
   ]
  },
  {
   "cell_type": "code",
   "execution_count": null,
   "id": "98563e55-c233-49a4-a86f-73453e8a49a5",
   "metadata": {},
   "outputs": [],
   "source": []
  },
  {
   "cell_type": "code",
   "execution_count": null,
   "id": "4246ce64-a9f9-4fdf-814d-ac0c2340c6c8",
   "metadata": {},
   "outputs": [],
   "source": []
  },
  {
   "cell_type": "markdown",
   "id": "995d6821-e38b-4435-9040-c4acccffc455",
   "metadata": {},
   "source": [
    "# Step 3: Load"
   ]
  },
  {
   "cell_type": "code",
   "execution_count": null,
   "id": "6d42b7db-79f2-4ce7-9293-8480cf2f92fd",
   "metadata": {},
   "outputs": [],
   "source": []
  },
  {
   "cell_type": "markdown",
   "id": "a4deb9be-c7f0-47d9-8f80-e6a9f6c28617",
   "metadata": {},
   "source": [
    "### Create Database"
   ]
  },
  {
   "cell_type": "code",
   "execution_count": 132,
   "id": "347d2d14-2c94-47ba-b5d0-ad3658b6e58d",
   "metadata": {},
   "outputs": [],
   "source": []
  },
  {
   "cell_type": "code",
   "execution_count": 143,
   "id": "f79b9765-9e39-44bb-97dc-49a19a3a29ef",
   "metadata": {},
   "outputs": [],
   "source": []
  },
  {
   "cell_type": "code",
   "execution_count": 145,
   "id": "49bde044-e8f3-408d-8205-a3d8c58918c0",
   "metadata": {},
   "outputs": [],
   "source": []
  },
  {
   "cell_type": "markdown",
   "id": "335d5552-0aab-4bf1-bc31-288d7fef94cd",
   "metadata": {},
   "source": [
    "### Create Table with SQLalchemy (ORM)"
   ]
  },
  {
   "cell_type": "code",
   "execution_count": 139,
   "id": "a0e5c8f1-0f78-4076-9417-4dcebeed9720",
   "metadata": {},
   "outputs": [],
   "source": []
  },
  {
   "cell_type": "code",
   "execution_count": 140,
   "id": "4a139460-dcda-4341-8936-dbe2a117c53e",
   "metadata": {},
   "outputs": [],
   "source": []
  },
  {
   "cell_type": "code",
   "execution_count": 141,
   "id": "1566f589-90ac-4569-8655-e87acf33729a",
   "metadata": {},
   "outputs": [],
   "source": []
  },
  {
   "cell_type": "code",
   "execution_count": 142,
   "id": "881810e1-99a0-4460-986d-fba1a25f5f33",
   "metadata": {},
   "outputs": [],
   "source": []
  },
  {
   "cell_type": "markdown",
   "id": "48aa3697-6458-4338-b50e-32acf2e5816a",
   "metadata": {},
   "source": [
    "### Insert Data"
   ]
  },
  {
   "cell_type": "code",
   "execution_count": null,
   "id": "c70121e1-f9d8-45df-b189-ee0bbc9f6678",
   "metadata": {},
   "outputs": [],
   "source": []
  },
  {
   "cell_type": "code",
   "execution_count": null,
   "id": "c4ba5ce9-a0fe-48cd-b9e0-5ca657b21072",
   "metadata": {},
   "outputs": [],
   "source": []
  },
  {
   "cell_type": "code",
   "execution_count": 157,
   "id": "b70fa3df-07c6-49bd-bb68-823f72a95c2c",
   "metadata": {},
   "outputs": [],
   "source": [
    "session.add_all(list_of_job_row)"
   ]
  },
  {
   "cell_type": "code",
   "execution_count": 158,
   "id": "250fc619-a202-4406-8c1c-08195a976f19",
   "metadata": {},
   "outputs": [],
   "source": [
    "session.commit()"
   ]
  },
  {
   "cell_type": "code",
   "execution_count": null,
   "id": "380e558a-8f4a-4551-8638-f29cc5f8fc1a",
   "metadata": {},
   "outputs": [],
   "source": []
  }
 ],
 "metadata": {
  "kernelspec": {
   "display_name": "Python 3 (ipykernel)",
   "language": "python",
   "name": "python3"
  },
  "language_info": {
   "codemirror_mode": {
    "name": "ipython",
    "version": 3
   },
   "file_extension": ".py",
   "mimetype": "text/x-python",
   "name": "python",
   "nbconvert_exporter": "python",
   "pygments_lexer": "ipython3",
   "version": "3.11.3"
  }
 },
 "nbformat": 4,
 "nbformat_minor": 5
}
