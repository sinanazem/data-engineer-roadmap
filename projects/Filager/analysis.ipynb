{
 "cells": [
  {
   "cell_type": "code",
   "execution_count": 96,
   "metadata": {},
   "outputs": [],
   "source": [
    "import pandas as pd\n",
    "import jdatetime\n",
    "from loguru import logger"
   ]
  },
  {
   "cell_type": "code",
   "execution_count": 33,
   "metadata": {},
   "outputs": [
    {
     "data": {
      "text/html": [
       "<div>\n",
       "<style scoped>\n",
       "    .dataframe tbody tr th:only-of-type {\n",
       "        vertical-align: middle;\n",
       "    }\n",
       "\n",
       "    .dataframe tbody tr th {\n",
       "        vertical-align: top;\n",
       "    }\n",
       "\n",
       "    .dataframe thead th {\n",
       "        text-align: right;\n",
       "    }\n",
       "</style>\n",
       "<table border=\"1\" class=\"dataframe\">\n",
       "  <thead>\n",
       "    <tr style=\"text-align: right;\">\n",
       "      <th></th>\n",
       "      <th>نماد</th>\n",
       "      <th>نام</th>\n",
       "      <th>تعداد</th>\n",
       "      <th>حجم</th>\n",
       "      <th>ارزش</th>\n",
       "      <th>دیروز</th>\n",
       "      <th>اولین</th>\n",
       "      <th>آخرین معامله - مقدار</th>\n",
       "      <th>آخرین معامله - تغییر</th>\n",
       "      <th>آخرین معامله - درصد</th>\n",
       "      <th>قیمت پایانی - مقدار</th>\n",
       "      <th>قیمت پایانی - تغییر</th>\n",
       "      <th>قیمت پایانی - درصد</th>\n",
       "      <th>کمترین</th>\n",
       "      <th>بیشترین</th>\n",
       "    </tr>\n",
       "  </thead>\n",
       "  <tbody>\n",
       "    <tr>\n",
       "      <th>0</th>\n",
       "      <td>اهرم</td>\n",
       "      <td>صندوق س سهامي كاريزما- اهرمي</td>\n",
       "      <td>13886</td>\n",
       "      <td>169217134</td>\n",
       "      <td>3619838332400</td>\n",
       "      <td>21100</td>\n",
       "      <td>21580</td>\n",
       "      <td>21130</td>\n",
       "      <td>30</td>\n",
       "      <td>0.14</td>\n",
       "      <td>21390</td>\n",
       "      <td>290</td>\n",
       "      <td>1.37</td>\n",
       "      <td>21080</td>\n",
       "      <td>21810</td>\n",
       "    </tr>\n",
       "    <tr>\n",
       "      <th>1</th>\n",
       "      <td>ياقوت</td>\n",
       "      <td>صندوق س ياقوت آگاه-ثابت</td>\n",
       "      <td>11434</td>\n",
       "      <td>261132199</td>\n",
       "      <td>5521695017303</td>\n",
       "      <td>21117</td>\n",
       "      <td>21145</td>\n",
       "      <td>21146</td>\n",
       "      <td>29</td>\n",
       "      <td>0.14</td>\n",
       "      <td>21145</td>\n",
       "      <td>28</td>\n",
       "      <td>0.13</td>\n",
       "      <td>21145</td>\n",
       "      <td>21147</td>\n",
       "    </tr>\n",
       "    <tr>\n",
       "      <th>2</th>\n",
       "      <td>حفارس</td>\n",
       "      <td>حمل و نقل بين المللي خليج فارس</td>\n",
       "      <td>10251</td>\n",
       "      <td>715665409</td>\n",
       "      <td>1437830199036</td>\n",
       "      <td>1915</td>\n",
       "      <td>2010</td>\n",
       "      <td>2000</td>\n",
       "      <td>85</td>\n",
       "      <td>4.44</td>\n",
       "      <td>2009</td>\n",
       "      <td>94</td>\n",
       "      <td>4.91</td>\n",
       "      <td>1990</td>\n",
       "      <td>2010</td>\n",
       "    </tr>\n",
       "    <tr>\n",
       "      <th>3</th>\n",
       "      <td>دارا يكم</td>\n",
       "      <td>صندوق واسطه گري مالي يكم-سهام</td>\n",
       "      <td>10116</td>\n",
       "      <td>8272462</td>\n",
       "      <td>1515934757670</td>\n",
       "      <td>178760</td>\n",
       "      <td>182590</td>\n",
       "      <td>183600</td>\n",
       "      <td>4840</td>\n",
       "      <td>2.71</td>\n",
       "      <td>183250</td>\n",
       "      <td>4490</td>\n",
       "      <td>2.51</td>\n",
       "      <td>181720</td>\n",
       "      <td>184890</td>\n",
       "    </tr>\n",
       "    <tr>\n",
       "      <th>4</th>\n",
       "      <td>ثشاهد</td>\n",
       "      <td>سرمايه‌ گذاري‌ شاهد</td>\n",
       "      <td>9774</td>\n",
       "      <td>68284768</td>\n",
       "      <td>1211143431780</td>\n",
       "      <td>16830</td>\n",
       "      <td>16990</td>\n",
       "      <td>17560</td>\n",
       "      <td>730</td>\n",
       "      <td>4.34</td>\n",
       "      <td>17740</td>\n",
       "      <td>910</td>\n",
       "      <td>5.41</td>\n",
       "      <td>16990</td>\n",
       "      <td>18000</td>\n",
       "    </tr>\n",
       "    <tr>\n",
       "      <th>...</th>\n",
       "      <td>...</td>\n",
       "      <td>...</td>\n",
       "      <td>...</td>\n",
       "      <td>...</td>\n",
       "      <td>...</td>\n",
       "      <td>...</td>\n",
       "      <td>...</td>\n",
       "      <td>...</td>\n",
       "      <td>...</td>\n",
       "      <td>...</td>\n",
       "      <td>...</td>\n",
       "      <td>...</td>\n",
       "      <td>...</td>\n",
       "      <td>...</td>\n",
       "      <td>...</td>\n",
       "    </tr>\n",
       "    <tr>\n",
       "      <th>1275</th>\n",
       "      <td>طكارا1002</td>\n",
       "      <td>اختيارف كارا-16497-14021027</td>\n",
       "      <td>1</td>\n",
       "      <td>111</td>\n",
       "      <td>111000</td>\n",
       "      <td>1</td>\n",
       "      <td>1</td>\n",
       "      <td>1</td>\n",
       "      <td>0</td>\n",
       "      <td>0.00</td>\n",
       "      <td>1</td>\n",
       "      <td>0</td>\n",
       "      <td>0.00</td>\n",
       "      <td>1</td>\n",
       "      <td>1</td>\n",
       "    </tr>\n",
       "    <tr>\n",
       "      <th>1276</th>\n",
       "      <td>ضسلا1221</td>\n",
       "      <td>اختيارخ سلام-20000-1402/12/16</td>\n",
       "      <td>1</td>\n",
       "      <td>1</td>\n",
       "      <td>485000</td>\n",
       "      <td>600</td>\n",
       "      <td>485</td>\n",
       "      <td>485</td>\n",
       "      <td>-115</td>\n",
       "      <td>-19.17</td>\n",
       "      <td>485</td>\n",
       "      <td>-115</td>\n",
       "      <td>-19.17</td>\n",
       "      <td>485</td>\n",
       "      <td>485</td>\n",
       "    </tr>\n",
       "    <tr>\n",
       "      <th>1277</th>\n",
       "      <td>ضخوز1036</td>\n",
       "      <td>اختيارخ فخوز-3750-1402/10/17</td>\n",
       "      <td>1</td>\n",
       "      <td>14</td>\n",
       "      <td>700000</td>\n",
       "      <td>40</td>\n",
       "      <td>50</td>\n",
       "      <td>50</td>\n",
       "      <td>10</td>\n",
       "      <td>25.00</td>\n",
       "      <td>50</td>\n",
       "      <td>10</td>\n",
       "      <td>25.00</td>\n",
       "      <td>50</td>\n",
       "      <td>50</td>\n",
       "    </tr>\n",
       "    <tr>\n",
       "      <th>1278</th>\n",
       "      <td>ضترا1160</td>\n",
       "      <td>اختيارخ شتران-6500-1402/11/23</td>\n",
       "      <td>1</td>\n",
       "      <td>8</td>\n",
       "      <td>280000</td>\n",
       "      <td>1</td>\n",
       "      <td>35</td>\n",
       "      <td>35</td>\n",
       "      <td>34</td>\n",
       "      <td>3400.00</td>\n",
       "      <td>35</td>\n",
       "      <td>34</td>\n",
       "      <td>3400.00</td>\n",
       "      <td>35</td>\n",
       "      <td>35</td>\n",
       "    </tr>\n",
       "    <tr>\n",
       "      <th>1279</th>\n",
       "      <td>ضسپا1011</td>\n",
       "      <td>اختيارخ خساپا-5500-1402/10/20</td>\n",
       "      <td>1</td>\n",
       "      <td>1</td>\n",
       "      <td>1000</td>\n",
       "      <td>1</td>\n",
       "      <td>1</td>\n",
       "      <td>1</td>\n",
       "      <td>0</td>\n",
       "      <td>0.00</td>\n",
       "      <td>1</td>\n",
       "      <td>0</td>\n",
       "      <td>0.00</td>\n",
       "      <td>1</td>\n",
       "      <td>1</td>\n",
       "    </tr>\n",
       "  </tbody>\n",
       "</table>\n",
       "<p>1280 rows × 15 columns</p>\n",
       "</div>"
      ],
      "text/plain": [
       "           نماد                             نام  تعداد        حجم  \\\n",
       "0          اهرم    صندوق س سهامي كاريزما- اهرمي  13886  169217134   \n",
       "1         ياقوت         صندوق س ياقوت آگاه-ثابت  11434  261132199   \n",
       "2         حفارس  حمل و نقل بين المللي خليج فارس  10251  715665409   \n",
       "3      دارا يكم   صندوق واسطه گري مالي يكم-سهام  10116    8272462   \n",
       "4         ثشاهد             سرمايه‌ گذاري‌ شاهد   9774   68284768   \n",
       "...         ...                             ...    ...        ...   \n",
       "1275  طكارا1002     اختيارف كارا-16497-14021027      1        111   \n",
       "1276   ضسلا1221   اختيارخ سلام-20000-1402/12/16      1          1   \n",
       "1277   ضخوز1036    اختيارخ فخوز-3750-1402/10/17      1         14   \n",
       "1278   ضترا1160   اختيارخ شتران-6500-1402/11/23      1          8   \n",
       "1279   ضسپا1011   اختيارخ خساپا-5500-1402/10/20      1          1   \n",
       "\n",
       "               ارزش   دیروز   اولین  آخرین معامله - مقدار  \\\n",
       "0     3619838332400   21100   21580                 21130   \n",
       "1     5521695017303   21117   21145                 21146   \n",
       "2     1437830199036    1915    2010                  2000   \n",
       "3     1515934757670  178760  182590                183600   \n",
       "4     1211143431780   16830   16990                 17560   \n",
       "...             ...     ...     ...                   ...   \n",
       "1275         111000       1       1                     1   \n",
       "1276         485000     600     485                   485   \n",
       "1277         700000      40      50                    50   \n",
       "1278         280000       1      35                    35   \n",
       "1279           1000       1       1                     1   \n",
       "\n",
       "      آخرین معامله - تغییر  آخرین معامله - درصد  قیمت پایانی - مقدار  \\\n",
       "0                       30                 0.14                21390   \n",
       "1                       29                 0.14                21145   \n",
       "2                       85                 4.44                 2009   \n",
       "3                     4840                 2.71               183250   \n",
       "4                      730                 4.34                17740   \n",
       "...                    ...                  ...                  ...   \n",
       "1275                     0                 0.00                    1   \n",
       "1276                  -115               -19.17                  485   \n",
       "1277                    10                25.00                   50   \n",
       "1278                    34              3400.00                   35   \n",
       "1279                     0                 0.00                    1   \n",
       "\n",
       "      قیمت پایانی - تغییر  قیمت پایانی - درصد  کمترین  بیشترین  \n",
       "0                     290                1.37   21080    21810  \n",
       "1                      28                0.13   21145    21147  \n",
       "2                      94                4.91    1990     2010  \n",
       "3                    4490                2.51  181720   184890  \n",
       "4                     910                5.41   16990    18000  \n",
       "...                   ...                 ...     ...      ...  \n",
       "1275                    0                0.00       1        1  \n",
       "1276                 -115              -19.17     485      485  \n",
       "1277                   10               25.00      50       50  \n",
       "1278                   34             3400.00      35       35  \n",
       "1279                    0                0.00       1        1  \n",
       "\n",
       "[1280 rows x 15 columns]"
      ]
     },
     "execution_count": 33,
     "metadata": {},
     "output_type": "execute_result"
    }
   ],
   "source": [
    "df = pd.read_csv(\"src/datalake/tehran_stock_exchange_1402-10-09.csv\")\n",
    "df"
   ]
  },
  {
   "cell_type": "code",
   "execution_count": 9,
   "metadata": {},
   "outputs": [
    {
     "data": {
      "text/plain": [
       "0           دي\n",
       "1117    وبملت2\n",
       "997     پاداش2\n",
       "44        كارا\n",
       "1081    هامرز4\n",
       "26      هامرز2\n",
       "1201    كارين4\n",
       "1063     كارا2\n",
       "1240    شفارس4\n",
       "24        شستا\n",
       "Name: نماد, dtype: object"
      ]
     },
     "execution_count": 9,
     "metadata": {},
     "output_type": "execute_result"
    }
   ],
   "source": [
    "df[\"تاریخ\"] = "
   ]
  },
  {
   "cell_type": "code",
   "execution_count": 13,
   "metadata": {},
   "outputs": [
    {
     "name": "stdout",
     "output_type": "stream",
     "text": [
      "1402-10-02\n",
      "1402-10-03\n",
      "1402-10-04\n",
      "1402-10-05\n",
      "1402-10-06\n",
      "1402-10-09\n",
      "1402-10-10\n"
     ]
    }
   ],
   "source": [
    "import re\n",
    "\n",
    "def extract_date_from_file_path(file_path):\n",
    "    # Define a regular expression pattern to match the date in the file path\n",
    "    pattern = r'(\\d{4}-\\d{2}-\\d{2})'\n",
    "\n",
    "    # Use re.search to find the date in the file path\n",
    "    match = re.search(pattern, file_path)\n",
    "\n",
    "    # Check if a match is found\n",
    "    if match:\n",
    "        extracted_date = match.group(1)\n",
    "        return extracted_date\n",
    "    else:\n",
    "        return None\n",
    "\n",
    "import pathlib\n",
    "file_path_list = pathlib.Path('/mnt/c/Users/user/OneDrive/Desktop/data-engineer-roadmap/projects/Filager/src/datalake').resolve()\n",
    "\n",
    "for file_path in file_path_list.glob('*'):\n",
    "    print(extract_date_from_file_path(str(file_path)))"
   ]
  },
  {
   "cell_type": "code",
   "execution_count": 56,
   "metadata": {},
   "outputs": [],
   "source": [
    "\n",
    "def read_and_concat_csv_files(directory_path):\n",
    "    directory_path = pathlib.Path(directory_path)\n",
    "    csv_files = directory_path.glob('*.csv')\n",
    "    dfs = []\n",
    "\n",
    "    for csv_file in csv_files:\n",
    "        df = pd.read_csv(csv_file)\n",
    "        print(df.shape)\n",
    "        date = extract_date_from_file_path(str(csv_file))\n",
    "        df[\"تاریخ شمسی\"] = date\n",
    "        df[\"تاریخ میلادی\"] = jdatetime.date.togregorian(jdatetime.datetime.strptime(date, format=\"%Y-%m-%d\"))      \n",
    "        \n",
    "        dfs.append(df)\n",
    "        \n",
    "    concatenated_df = pd.concat(dfs, ignore_index=True)\n",
    "    concatenated_df[\"تاریخ میلادی\"] = pd.to_datetime(concatenated_df[\"تاریخ میلادی\"])\n",
    "\n",
    "    return concatenated_df"
   ]
  },
  {
   "cell_type": "code",
   "execution_count": 57,
   "metadata": {},
   "outputs": [
    {
     "name": "stdout",
     "output_type": "stream",
     "text": [
      "(1245, 15)\n",
      "(1301, 15)\n",
      "(1435, 15)\n",
      "(1311, 15)\n",
      "(1299, 15)\n",
      "(1280, 15)\n",
      "(1312, 15)\n"
     ]
    }
   ],
   "source": [
    "df = read_and_concat_csv_files(\"/mnt/c/Users/user/OneDrive/Desktop/data-engineer-roadmap/projects/Filager/src/datalake\")"
   ]
  },
  {
   "cell_type": "code",
   "execution_count": 58,
   "metadata": {},
   "outputs": [
    {
     "data": {
      "text/html": [
       "<div>\n",
       "<style scoped>\n",
       "    .dataframe tbody tr th:only-of-type {\n",
       "        vertical-align: middle;\n",
       "    }\n",
       "\n",
       "    .dataframe tbody tr th {\n",
       "        vertical-align: top;\n",
       "    }\n",
       "\n",
       "    .dataframe thead th {\n",
       "        text-align: right;\n",
       "    }\n",
       "</style>\n",
       "<table border=\"1\" class=\"dataframe\">\n",
       "  <thead>\n",
       "    <tr style=\"text-align: right;\">\n",
       "      <th></th>\n",
       "      <th>نماد</th>\n",
       "      <th>نام</th>\n",
       "      <th>تعداد</th>\n",
       "      <th>حجم</th>\n",
       "      <th>ارزش</th>\n",
       "      <th>دیروز</th>\n",
       "      <th>اولین</th>\n",
       "      <th>آخرین معامله - مقدار</th>\n",
       "      <th>آخرین معامله - تغییر</th>\n",
       "      <th>آخرین معامله - درصد</th>\n",
       "      <th>قیمت پایانی - مقدار</th>\n",
       "      <th>قیمت پایانی - تغییر</th>\n",
       "      <th>قیمت پایانی - درصد</th>\n",
       "      <th>کمترین</th>\n",
       "      <th>بیشترین</th>\n",
       "      <th>تاریخ شمسی</th>\n",
       "      <th>تاریخ میلادی</th>\n",
       "    </tr>\n",
       "  </thead>\n",
       "  <tbody>\n",
       "    <tr>\n",
       "      <th>0</th>\n",
       "      <td>دي</td>\n",
       "      <td>بانك دي</td>\n",
       "      <td>21905</td>\n",
       "      <td>1658090827</td>\n",
       "      <td>1770778820644</td>\n",
       "      <td>1000</td>\n",
       "      <td>1089</td>\n",
       "      <td>1064</td>\n",
       "      <td>64</td>\n",
       "      <td>6.40</td>\n",
       "      <td>1068</td>\n",
       "      <td>68</td>\n",
       "      <td>6.80</td>\n",
       "      <td>1057</td>\n",
       "      <td>1119</td>\n",
       "      <td>1402-10-02</td>\n",
       "      <td>2023-12-23</td>\n",
       "    </tr>\n",
       "    <tr>\n",
       "      <th>1</th>\n",
       "      <td>كروميت</td>\n",
       "      <td>توسعه معادن كروميت كاوندگان</td>\n",
       "      <td>17801</td>\n",
       "      <td>76610745</td>\n",
       "      <td>996189539570</td>\n",
       "      <td>12550</td>\n",
       "      <td>12940</td>\n",
       "      <td>12700</td>\n",
       "      <td>150</td>\n",
       "      <td>1.20</td>\n",
       "      <td>13000</td>\n",
       "      <td>450</td>\n",
       "      <td>3.59</td>\n",
       "      <td>12500</td>\n",
       "      <td>13170</td>\n",
       "      <td>1402-10-02</td>\n",
       "      <td>2023-12-23</td>\n",
       "    </tr>\n",
       "    <tr>\n",
       "      <th>2</th>\n",
       "      <td>اهرم</td>\n",
       "      <td>صندوق س سهامي كاريزما- اهرمي</td>\n",
       "      <td>11348</td>\n",
       "      <td>120413172</td>\n",
       "      <td>2616918044630</td>\n",
       "      <td>21630</td>\n",
       "      <td>21570</td>\n",
       "      <td>21620</td>\n",
       "      <td>-10</td>\n",
       "      <td>-0.05</td>\n",
       "      <td>21730</td>\n",
       "      <td>100</td>\n",
       "      <td>0.46</td>\n",
       "      <td>21450</td>\n",
       "      <td>21950</td>\n",
       "      <td>1402-10-02</td>\n",
       "      <td>2023-12-23</td>\n",
       "    </tr>\n",
       "    <tr>\n",
       "      <th>3</th>\n",
       "      <td>دارا يكم</td>\n",
       "      <td>صندوق واسطه گري مالي يكم-سهام</td>\n",
       "      <td>9405</td>\n",
       "      <td>7645507</td>\n",
       "      <td>1367886108350</td>\n",
       "      <td>177100</td>\n",
       "      <td>177450</td>\n",
       "      <td>178750</td>\n",
       "      <td>1650</td>\n",
       "      <td>0.93</td>\n",
       "      <td>178910</td>\n",
       "      <td>1810</td>\n",
       "      <td>1.02</td>\n",
       "      <td>176160</td>\n",
       "      <td>180850</td>\n",
       "      <td>1402-10-02</td>\n",
       "      <td>2023-12-23</td>\n",
       "    </tr>\n",
       "    <tr>\n",
       "      <th>4</th>\n",
       "      <td>تسه1402</td>\n",
       "      <td>امتيازتسهيلات مسكن سال1402</td>\n",
       "      <td>9207</td>\n",
       "      <td>579747</td>\n",
       "      <td>681234700824</td>\n",
       "      <td>1177937</td>\n",
       "      <td>1178000</td>\n",
       "      <td>1183000</td>\n",
       "      <td>5063</td>\n",
       "      <td>0.43</td>\n",
       "      <td>1175055</td>\n",
       "      <td>-2882</td>\n",
       "      <td>-0.24</td>\n",
       "      <td>1145000</td>\n",
       "      <td>1200000</td>\n",
       "      <td>1402-10-02</td>\n",
       "      <td>2023-12-23</td>\n",
       "    </tr>\n",
       "    <tr>\n",
       "      <th>...</th>\n",
       "      <td>...</td>\n",
       "      <td>...</td>\n",
       "      <td>...</td>\n",
       "      <td>...</td>\n",
       "      <td>...</td>\n",
       "      <td>...</td>\n",
       "      <td>...</td>\n",
       "      <td>...</td>\n",
       "      <td>...</td>\n",
       "      <td>...</td>\n",
       "      <td>...</td>\n",
       "      <td>...</td>\n",
       "      <td>...</td>\n",
       "      <td>...</td>\n",
       "      <td>...</td>\n",
       "      <td>...</td>\n",
       "      <td>...</td>\n",
       "    </tr>\n",
       "    <tr>\n",
       "      <th>9178</th>\n",
       "      <td>فزر2</td>\n",
       "      <td>پويا زركان آق دره</td>\n",
       "      <td>1</td>\n",
       "      <td>800000</td>\n",
       "      <td>37320000000</td>\n",
       "      <td>46850</td>\n",
       "      <td>46650</td>\n",
       "      <td>46650</td>\n",
       "      <td>-200</td>\n",
       "      <td>-0.43</td>\n",
       "      <td>46650</td>\n",
       "      <td>-200</td>\n",
       "      <td>-0.43</td>\n",
       "      <td>46650</td>\n",
       "      <td>46650</td>\n",
       "      <td>1402-10-10</td>\n",
       "      <td>2023-12-31</td>\n",
       "    </tr>\n",
       "    <tr>\n",
       "      <th>9179</th>\n",
       "      <td>ضشنا1208</td>\n",
       "      <td>اختيارخ شپنا-11000-1402/12/02</td>\n",
       "      <td>1</td>\n",
       "      <td>1000</td>\n",
       "      <td>25000000</td>\n",
       "      <td>109</td>\n",
       "      <td>25</td>\n",
       "      <td>25</td>\n",
       "      <td>-84</td>\n",
       "      <td>-77.06</td>\n",
       "      <td>25</td>\n",
       "      <td>-84</td>\n",
       "      <td>-77.06</td>\n",
       "      <td>25</td>\n",
       "      <td>25</td>\n",
       "      <td>1402-10-10</td>\n",
       "      <td>2023-12-31</td>\n",
       "    </tr>\n",
       "    <tr>\n",
       "      <th>9180</th>\n",
       "      <td>ضخود0115</td>\n",
       "      <td>اختيارخ خودرو-1900-1403/01/08</td>\n",
       "      <td>1</td>\n",
       "      <td>10</td>\n",
       "      <td>10450000</td>\n",
       "      <td>1070</td>\n",
       "      <td>1045</td>\n",
       "      <td>1045</td>\n",
       "      <td>-25</td>\n",
       "      <td>-2.34</td>\n",
       "      <td>1045</td>\n",
       "      <td>-25</td>\n",
       "      <td>-2.34</td>\n",
       "      <td>1045</td>\n",
       "      <td>1045</td>\n",
       "      <td>1402-10-10</td>\n",
       "      <td>2023-12-31</td>\n",
       "    </tr>\n",
       "    <tr>\n",
       "      <th>9181</th>\n",
       "      <td>عقيق2</td>\n",
       "      <td>صندوق سرمايه گذاري عقيق-سهام</td>\n",
       "      <td>1</td>\n",
       "      <td>400000</td>\n",
       "      <td>400000</td>\n",
       "      <td>78700</td>\n",
       "      <td>1</td>\n",
       "      <td>1</td>\n",
       "      <td>-78699</td>\n",
       "      <td>-100.00</td>\n",
       "      <td>1</td>\n",
       "      <td>-78699</td>\n",
       "      <td>-100.00</td>\n",
       "      <td>1</td>\n",
       "      <td>1</td>\n",
       "      <td>1402-10-10</td>\n",
       "      <td>2023-12-31</td>\n",
       "    </tr>\n",
       "    <tr>\n",
       "      <th>9182</th>\n",
       "      <td>شسپا2</td>\n",
       "      <td>نفت سپاهان</td>\n",
       "      <td>1</td>\n",
       "      <td>4000000</td>\n",
       "      <td>20000000000</td>\n",
       "      <td>5030</td>\n",
       "      <td>5000</td>\n",
       "      <td>5000</td>\n",
       "      <td>-30</td>\n",
       "      <td>-0.60</td>\n",
       "      <td>5000</td>\n",
       "      <td>-30</td>\n",
       "      <td>-0.60</td>\n",
       "      <td>5000</td>\n",
       "      <td>5000</td>\n",
       "      <td>1402-10-10</td>\n",
       "      <td>2023-12-31</td>\n",
       "    </tr>\n",
       "  </tbody>\n",
       "</table>\n",
       "<p>9183 rows × 17 columns</p>\n",
       "</div>"
      ],
      "text/plain": [
       "          نماد                            نام  تعداد         حجم  \\\n",
       "0           دي                        بانك دي  21905  1658090827   \n",
       "1       كروميت    توسعه معادن كروميت كاوندگان  17801    76610745   \n",
       "2         اهرم   صندوق س سهامي كاريزما- اهرمي  11348   120413172   \n",
       "3     دارا يكم  صندوق واسطه گري مالي يكم-سهام   9405     7645507   \n",
       "4      تسه1402     امتيازتسهيلات مسكن سال1402   9207      579747   \n",
       "...        ...                            ...    ...         ...   \n",
       "9178      فزر2              پويا زركان آق دره      1      800000   \n",
       "9179  ضشنا1208  اختيارخ شپنا-11000-1402/12/02      1        1000   \n",
       "9180  ضخود0115  اختيارخ خودرو-1900-1403/01/08      1          10   \n",
       "9181     عقيق2   صندوق سرمايه گذاري عقيق-سهام      1      400000   \n",
       "9182     شسپا2                     نفت سپاهان      1     4000000   \n",
       "\n",
       "               ارزش    دیروز    اولین  آخرین معامله - مقدار  \\\n",
       "0     1770778820644     1000     1089                  1064   \n",
       "1      996189539570    12550    12940                 12700   \n",
       "2     2616918044630    21630    21570                 21620   \n",
       "3     1367886108350   177100   177450                178750   \n",
       "4      681234700824  1177937  1178000               1183000   \n",
       "...             ...      ...      ...                   ...   \n",
       "9178    37320000000    46850    46650                 46650   \n",
       "9179       25000000      109       25                    25   \n",
       "9180       10450000     1070     1045                  1045   \n",
       "9181         400000    78700        1                     1   \n",
       "9182    20000000000     5030     5000                  5000   \n",
       "\n",
       "      آخرین معامله - تغییر  آخرین معامله - درصد  قیمت پایانی - مقدار  \\\n",
       "0                       64                 6.40                 1068   \n",
       "1                      150                 1.20                13000   \n",
       "2                      -10                -0.05                21730   \n",
       "3                     1650                 0.93               178910   \n",
       "4                     5063                 0.43              1175055   \n",
       "...                    ...                  ...                  ...   \n",
       "9178                  -200                -0.43                46650   \n",
       "9179                   -84               -77.06                   25   \n",
       "9180                   -25                -2.34                 1045   \n",
       "9181                -78699              -100.00                    1   \n",
       "9182                   -30                -0.60                 5000   \n",
       "\n",
       "      قیمت پایانی - تغییر  قیمت پایانی - درصد   کمترین  بیشترین  تاریخ شمسی  \\\n",
       "0                      68                6.80     1057     1119  1402-10-02   \n",
       "1                     450                3.59    12500    13170  1402-10-02   \n",
       "2                     100                0.46    21450    21950  1402-10-02   \n",
       "3                    1810                1.02   176160   180850  1402-10-02   \n",
       "4                   -2882               -0.24  1145000  1200000  1402-10-02   \n",
       "...                   ...                 ...      ...      ...         ...   \n",
       "9178                 -200               -0.43    46650    46650  1402-10-10   \n",
       "9179                  -84              -77.06       25       25  1402-10-10   \n",
       "9180                  -25               -2.34     1045     1045  1402-10-10   \n",
       "9181               -78699             -100.00        1        1  1402-10-10   \n",
       "9182                  -30               -0.60     5000     5000  1402-10-10   \n",
       "\n",
       "     تاریخ میلادی  \n",
       "0      2023-12-23  \n",
       "1      2023-12-23  \n",
       "2      2023-12-23  \n",
       "3      2023-12-23  \n",
       "4      2023-12-23  \n",
       "...           ...  \n",
       "9178   2023-12-31  \n",
       "9179   2023-12-31  \n",
       "9180   2023-12-31  \n",
       "9181   2023-12-31  \n",
       "9182   2023-12-31  \n",
       "\n",
       "[9183 rows x 17 columns]"
      ]
     },
     "execution_count": 58,
     "metadata": {},
     "output_type": "execute_result"
    }
   ],
   "source": [
    "df"
   ]
  },
  {
   "cell_type": "code",
   "execution_count": 99,
   "metadata": {},
   "outputs": [],
   "source": [
    "class StockAnalysis:\n",
    "    \n",
    "    def __init__(self, datalake_path, start_date, end_date):\n",
    "        \n",
    "        self.datalake_path = datalake_path\n",
    "        self.data = self.data_preparation()\n",
    "    \n",
    "    \n",
    "    def __data_preparation(self):\n",
    "        datalake_path = pathlib.Path(self.datalake_path)\n",
    "        csv_files = datalake_path.glob('*.csv')\n",
    "        dfs = []\n",
    "\n",
    "        for csv_file in csv_files:\n",
    "            df = pd.read_csv(csv_file)\n",
    "            \n",
    "            \n",
    "            logger.info(f\" Data read from {csv_file} successfully!\")\n",
    "            logger.info(f\" Shape of Data:  {df.shape} successfully!\")\n",
    "            # logger.info(f\" Sample of Data:  {df.sample(3)} successfully!\")\n",
    "            \n",
    "            date = extract_date_from_file_path(str(csv_file))\n",
    "            df[\"تاریخ شمسی\"] = date\n",
    "            df[\"تاریخ میلادی\"] = jdatetime.date.togregorian(jdatetime.datetime.strptime(date, format=\"%Y-%m-%d\"))      \n",
    "            \n",
    "            dfs.append(df)\n",
    "            \n",
    "        concatenated_df = pd.concat(dfs, ignore_index=True)\n",
    "        concatenated_df[\"تاریخ میلادی\"] = pd.to_datetime(concatenated_df[\"تاریخ میلادی\"])\n",
    "\n",
    "        return concatenated_df\n",
    "    \n",
    "    \n",
    "    def get_top_volume_stock_symbols(self, number=10):\n",
    "        return df.groupby(\"نماد\")[\"حجم\"].sum().sort_values(ascending=False)[:number]\n",
    "    \n",
    "    \n",
    "    \n",
    "    \n",
    "    \n",
    "\n",
    "        \n",
    "    "
   ]
  },
  {
   "cell_type": "code",
   "execution_count": null,
   "metadata": {},
   "outputs": [],
   "source": [
    "obj = StockAnalysis(\"/mnt/c/Users/user/OneDrive/Desktop/data-engineer-roadmap/projects/Filager/src/datalake\")"
   ]
  },
  {
   "cell_type": "markdown",
   "metadata": {},
   "source": [
    "# Descriptive Statistics about the Data"
   ]
  },
  {
   "cell_type": "code",
   "execution_count": 64,
   "metadata": {},
   "outputs": [],
   "source": [
    "# pip install plotly"
   ]
  },
  {
   "cell_type": "code",
   "execution_count": 67,
   "metadata": {},
   "outputs": [
    {
     "data": {
      "application/vnd.plotly.v1+json": {
       "config": {
        "plotlyServerURL": "https://plot.ly"
       },
       "data": [
        {
         "hovertemplate": "x=%{x}<br>y=%{y}<extra></extra>",
         "legendgroup": "",
         "line": {
          "color": "#636efa",
          "dash": "solid"
         },
         "marker": {
          "symbol": "circle"
         },
         "mode": "lines",
         "name": "",
         "orientation": "v",
         "showlegend": false,
         "type": "scatter",
         "x": [
          "2023-12-23T00:00:00",
          "2023-12-24T00:00:00",
          "2023-12-25T00:00:00",
          "2023-12-26T00:00:00",
          "2023-12-27T00:00:00",
          "2023-12-30T00:00:00",
          "2023-12-31T00:00:00"
         ],
         "xaxis": "x",
         "y": [
          21570,
          21670,
          20990,
          21050,
          20800,
          21580,
          21250
         ],
         "yaxis": "y"
        }
       ],
       "layout": {
        "legend": {
         "tracegroupgap": 0
        },
        "margin": {
         "t": 60
        },
        "template": {
         "data": {
          "bar": [
           {
            "error_x": {
             "color": "#2a3f5f"
            },
            "error_y": {
             "color": "#2a3f5f"
            },
            "marker": {
             "line": {
              "color": "#E5ECF6",
              "width": 0.5
             },
             "pattern": {
              "fillmode": "overlay",
              "size": 10,
              "solidity": 0.2
             }
            },
            "type": "bar"
           }
          ],
          "barpolar": [
           {
            "marker": {
             "line": {
              "color": "#E5ECF6",
              "width": 0.5
             },
             "pattern": {
              "fillmode": "overlay",
              "size": 10,
              "solidity": 0.2
             }
            },
            "type": "barpolar"
           }
          ],
          "carpet": [
           {
            "aaxis": {
             "endlinecolor": "#2a3f5f",
             "gridcolor": "white",
             "linecolor": "white",
             "minorgridcolor": "white",
             "startlinecolor": "#2a3f5f"
            },
            "baxis": {
             "endlinecolor": "#2a3f5f",
             "gridcolor": "white",
             "linecolor": "white",
             "minorgridcolor": "white",
             "startlinecolor": "#2a3f5f"
            },
            "type": "carpet"
           }
          ],
          "choropleth": [
           {
            "colorbar": {
             "outlinewidth": 0,
             "ticks": ""
            },
            "type": "choropleth"
           }
          ],
          "contour": [
           {
            "colorbar": {
             "outlinewidth": 0,
             "ticks": ""
            },
            "colorscale": [
             [
              0,
              "#0d0887"
             ],
             [
              0.1111111111111111,
              "#46039f"
             ],
             [
              0.2222222222222222,
              "#7201a8"
             ],
             [
              0.3333333333333333,
              "#9c179e"
             ],
             [
              0.4444444444444444,
              "#bd3786"
             ],
             [
              0.5555555555555556,
              "#d8576b"
             ],
             [
              0.6666666666666666,
              "#ed7953"
             ],
             [
              0.7777777777777778,
              "#fb9f3a"
             ],
             [
              0.8888888888888888,
              "#fdca26"
             ],
             [
              1,
              "#f0f921"
             ]
            ],
            "type": "contour"
           }
          ],
          "contourcarpet": [
           {
            "colorbar": {
             "outlinewidth": 0,
             "ticks": ""
            },
            "type": "contourcarpet"
           }
          ],
          "heatmap": [
           {
            "colorbar": {
             "outlinewidth": 0,
             "ticks": ""
            },
            "colorscale": [
             [
              0,
              "#0d0887"
             ],
             [
              0.1111111111111111,
              "#46039f"
             ],
             [
              0.2222222222222222,
              "#7201a8"
             ],
             [
              0.3333333333333333,
              "#9c179e"
             ],
             [
              0.4444444444444444,
              "#bd3786"
             ],
             [
              0.5555555555555556,
              "#d8576b"
             ],
             [
              0.6666666666666666,
              "#ed7953"
             ],
             [
              0.7777777777777778,
              "#fb9f3a"
             ],
             [
              0.8888888888888888,
              "#fdca26"
             ],
             [
              1,
              "#f0f921"
             ]
            ],
            "type": "heatmap"
           }
          ],
          "heatmapgl": [
           {
            "colorbar": {
             "outlinewidth": 0,
             "ticks": ""
            },
            "colorscale": [
             [
              0,
              "#0d0887"
             ],
             [
              0.1111111111111111,
              "#46039f"
             ],
             [
              0.2222222222222222,
              "#7201a8"
             ],
             [
              0.3333333333333333,
              "#9c179e"
             ],
             [
              0.4444444444444444,
              "#bd3786"
             ],
             [
              0.5555555555555556,
              "#d8576b"
             ],
             [
              0.6666666666666666,
              "#ed7953"
             ],
             [
              0.7777777777777778,
              "#fb9f3a"
             ],
             [
              0.8888888888888888,
              "#fdca26"
             ],
             [
              1,
              "#f0f921"
             ]
            ],
            "type": "heatmapgl"
           }
          ],
          "histogram": [
           {
            "marker": {
             "pattern": {
              "fillmode": "overlay",
              "size": 10,
              "solidity": 0.2
             }
            },
            "type": "histogram"
           }
          ],
          "histogram2d": [
           {
            "colorbar": {
             "outlinewidth": 0,
             "ticks": ""
            },
            "colorscale": [
             [
              0,
              "#0d0887"
             ],
             [
              0.1111111111111111,
              "#46039f"
             ],
             [
              0.2222222222222222,
              "#7201a8"
             ],
             [
              0.3333333333333333,
              "#9c179e"
             ],
             [
              0.4444444444444444,
              "#bd3786"
             ],
             [
              0.5555555555555556,
              "#d8576b"
             ],
             [
              0.6666666666666666,
              "#ed7953"
             ],
             [
              0.7777777777777778,
              "#fb9f3a"
             ],
             [
              0.8888888888888888,
              "#fdca26"
             ],
             [
              1,
              "#f0f921"
             ]
            ],
            "type": "histogram2d"
           }
          ],
          "histogram2dcontour": [
           {
            "colorbar": {
             "outlinewidth": 0,
             "ticks": ""
            },
            "colorscale": [
             [
              0,
              "#0d0887"
             ],
             [
              0.1111111111111111,
              "#46039f"
             ],
             [
              0.2222222222222222,
              "#7201a8"
             ],
             [
              0.3333333333333333,
              "#9c179e"
             ],
             [
              0.4444444444444444,
              "#bd3786"
             ],
             [
              0.5555555555555556,
              "#d8576b"
             ],
             [
              0.6666666666666666,
              "#ed7953"
             ],
             [
              0.7777777777777778,
              "#fb9f3a"
             ],
             [
              0.8888888888888888,
              "#fdca26"
             ],
             [
              1,
              "#f0f921"
             ]
            ],
            "type": "histogram2dcontour"
           }
          ],
          "mesh3d": [
           {
            "colorbar": {
             "outlinewidth": 0,
             "ticks": ""
            },
            "type": "mesh3d"
           }
          ],
          "parcoords": [
           {
            "line": {
             "colorbar": {
              "outlinewidth": 0,
              "ticks": ""
             }
            },
            "type": "parcoords"
           }
          ],
          "pie": [
           {
            "automargin": true,
            "type": "pie"
           }
          ],
          "scatter": [
           {
            "fillpattern": {
             "fillmode": "overlay",
             "size": 10,
             "solidity": 0.2
            },
            "type": "scatter"
           }
          ],
          "scatter3d": [
           {
            "line": {
             "colorbar": {
              "outlinewidth": 0,
              "ticks": ""
             }
            },
            "marker": {
             "colorbar": {
              "outlinewidth": 0,
              "ticks": ""
             }
            },
            "type": "scatter3d"
           }
          ],
          "scattercarpet": [
           {
            "marker": {
             "colorbar": {
              "outlinewidth": 0,
              "ticks": ""
             }
            },
            "type": "scattercarpet"
           }
          ],
          "scattergeo": [
           {
            "marker": {
             "colorbar": {
              "outlinewidth": 0,
              "ticks": ""
             }
            },
            "type": "scattergeo"
           }
          ],
          "scattergl": [
           {
            "marker": {
             "colorbar": {
              "outlinewidth": 0,
              "ticks": ""
             }
            },
            "type": "scattergl"
           }
          ],
          "scattermapbox": [
           {
            "marker": {
             "colorbar": {
              "outlinewidth": 0,
              "ticks": ""
             }
            },
            "type": "scattermapbox"
           }
          ],
          "scatterpolar": [
           {
            "marker": {
             "colorbar": {
              "outlinewidth": 0,
              "ticks": ""
             }
            },
            "type": "scatterpolar"
           }
          ],
          "scatterpolargl": [
           {
            "marker": {
             "colorbar": {
              "outlinewidth": 0,
              "ticks": ""
             }
            },
            "type": "scatterpolargl"
           }
          ],
          "scatterternary": [
           {
            "marker": {
             "colorbar": {
              "outlinewidth": 0,
              "ticks": ""
             }
            },
            "type": "scatterternary"
           }
          ],
          "surface": [
           {
            "colorbar": {
             "outlinewidth": 0,
             "ticks": ""
            },
            "colorscale": [
             [
              0,
              "#0d0887"
             ],
             [
              0.1111111111111111,
              "#46039f"
             ],
             [
              0.2222222222222222,
              "#7201a8"
             ],
             [
              0.3333333333333333,
              "#9c179e"
             ],
             [
              0.4444444444444444,
              "#bd3786"
             ],
             [
              0.5555555555555556,
              "#d8576b"
             ],
             [
              0.6666666666666666,
              "#ed7953"
             ],
             [
              0.7777777777777778,
              "#fb9f3a"
             ],
             [
              0.8888888888888888,
              "#fdca26"
             ],
             [
              1,
              "#f0f921"
             ]
            ],
            "type": "surface"
           }
          ],
          "table": [
           {
            "cells": {
             "fill": {
              "color": "#EBF0F8"
             },
             "line": {
              "color": "white"
             }
            },
            "header": {
             "fill": {
              "color": "#C8D4E3"
             },
             "line": {
              "color": "white"
             }
            },
            "type": "table"
           }
          ]
         },
         "layout": {
          "annotationdefaults": {
           "arrowcolor": "#2a3f5f",
           "arrowhead": 0,
           "arrowwidth": 1
          },
          "autotypenumbers": "strict",
          "coloraxis": {
           "colorbar": {
            "outlinewidth": 0,
            "ticks": ""
           }
          },
          "colorscale": {
           "diverging": [
            [
             0,
             "#8e0152"
            ],
            [
             0.1,
             "#c51b7d"
            ],
            [
             0.2,
             "#de77ae"
            ],
            [
             0.3,
             "#f1b6da"
            ],
            [
             0.4,
             "#fde0ef"
            ],
            [
             0.5,
             "#f7f7f7"
            ],
            [
             0.6,
             "#e6f5d0"
            ],
            [
             0.7,
             "#b8e186"
            ],
            [
             0.8,
             "#7fbc41"
            ],
            [
             0.9,
             "#4d9221"
            ],
            [
             1,
             "#276419"
            ]
           ],
           "sequential": [
            [
             0,
             "#0d0887"
            ],
            [
             0.1111111111111111,
             "#46039f"
            ],
            [
             0.2222222222222222,
             "#7201a8"
            ],
            [
             0.3333333333333333,
             "#9c179e"
            ],
            [
             0.4444444444444444,
             "#bd3786"
            ],
            [
             0.5555555555555556,
             "#d8576b"
            ],
            [
             0.6666666666666666,
             "#ed7953"
            ],
            [
             0.7777777777777778,
             "#fb9f3a"
            ],
            [
             0.8888888888888888,
             "#fdca26"
            ],
            [
             1,
             "#f0f921"
            ]
           ],
           "sequentialminus": [
            [
             0,
             "#0d0887"
            ],
            [
             0.1111111111111111,
             "#46039f"
            ],
            [
             0.2222222222222222,
             "#7201a8"
            ],
            [
             0.3333333333333333,
             "#9c179e"
            ],
            [
             0.4444444444444444,
             "#bd3786"
            ],
            [
             0.5555555555555556,
             "#d8576b"
            ],
            [
             0.6666666666666666,
             "#ed7953"
            ],
            [
             0.7777777777777778,
             "#fb9f3a"
            ],
            [
             0.8888888888888888,
             "#fdca26"
            ],
            [
             1,
             "#f0f921"
            ]
           ]
          },
          "colorway": [
           "#636efa",
           "#EF553B",
           "#00cc96",
           "#ab63fa",
           "#FFA15A",
           "#19d3f3",
           "#FF6692",
           "#B6E880",
           "#FF97FF",
           "#FECB52"
          ],
          "font": {
           "color": "#2a3f5f"
          },
          "geo": {
           "bgcolor": "white",
           "lakecolor": "white",
           "landcolor": "#E5ECF6",
           "showlakes": true,
           "showland": true,
           "subunitcolor": "white"
          },
          "hoverlabel": {
           "align": "left"
          },
          "hovermode": "closest",
          "mapbox": {
           "style": "light"
          },
          "paper_bgcolor": "white",
          "plot_bgcolor": "#E5ECF6",
          "polar": {
           "angularaxis": {
            "gridcolor": "white",
            "linecolor": "white",
            "ticks": ""
           },
           "bgcolor": "#E5ECF6",
           "radialaxis": {
            "gridcolor": "white",
            "linecolor": "white",
            "ticks": ""
           }
          },
          "scene": {
           "xaxis": {
            "backgroundcolor": "#E5ECF6",
            "gridcolor": "white",
            "gridwidth": 2,
            "linecolor": "white",
            "showbackground": true,
            "ticks": "",
            "zerolinecolor": "white"
           },
           "yaxis": {
            "backgroundcolor": "#E5ECF6",
            "gridcolor": "white",
            "gridwidth": 2,
            "linecolor": "white",
            "showbackground": true,
            "ticks": "",
            "zerolinecolor": "white"
           },
           "zaxis": {
            "backgroundcolor": "#E5ECF6",
            "gridcolor": "white",
            "gridwidth": 2,
            "linecolor": "white",
            "showbackground": true,
            "ticks": "",
            "zerolinecolor": "white"
           }
          },
          "shapedefaults": {
           "line": {
            "color": "#2a3f5f"
           }
          },
          "ternary": {
           "aaxis": {
            "gridcolor": "white",
            "linecolor": "white",
            "ticks": ""
           },
           "baxis": {
            "gridcolor": "white",
            "linecolor": "white",
            "ticks": ""
           },
           "bgcolor": "#E5ECF6",
           "caxis": {
            "gridcolor": "white",
            "linecolor": "white",
            "ticks": ""
           }
          },
          "title": {
           "x": 0.05
          },
          "xaxis": {
           "automargin": true,
           "gridcolor": "white",
           "linecolor": "white",
           "ticks": "",
           "title": {
            "standoff": 15
           },
           "zerolinecolor": "white",
           "zerolinewidth": 2
          },
          "yaxis": {
           "automargin": true,
           "gridcolor": "white",
           "linecolor": "white",
           "ticks": "",
           "title": {
            "standoff": 15
           },
           "zerolinecolor": "white",
           "zerolinewidth": 2
          }
         }
        },
        "xaxis": {
         "anchor": "y",
         "calendar": "jalali",
         "domain": [
          0,
          1
         ],
         "title": {
          "text": "x"
         }
        },
        "yaxis": {
         "anchor": "x",
         "domain": [
          0,
          1
         ],
         "title": {
          "text": "y"
         }
        }
       }
      },
      "text/html": [
       "<div>                            <div id=\"39dd499c-57ce-4d42-b4d8-ce4f6d288d47\" class=\"plotly-graph-div\" style=\"height:525px; width:100%;\"></div>            <script type=\"text/javascript\">                require([\"plotly\"], function(Plotly) {                    window.PLOTLYENV=window.PLOTLYENV || {};                                    if (document.getElementById(\"39dd499c-57ce-4d42-b4d8-ce4f6d288d47\")) {                    Plotly.newPlot(                        \"39dd499c-57ce-4d42-b4d8-ce4f6d288d47\",                        [{\"hovertemplate\":\"x=%{x}\\u003cbr\\u003ey=%{y}\\u003cextra\\u003e\\u003c\\u002fextra\\u003e\",\"legendgroup\":\"\",\"line\":{\"color\":\"#636efa\",\"dash\":\"solid\"},\"marker\":{\"symbol\":\"circle\"},\"mode\":\"lines\",\"name\":\"\",\"orientation\":\"v\",\"showlegend\":false,\"x\":[\"2023-12-23T00:00:00\",\"2023-12-24T00:00:00\",\"2023-12-25T00:00:00\",\"2023-12-26T00:00:00\",\"2023-12-27T00:00:00\",\"2023-12-30T00:00:00\",\"2023-12-31T00:00:00\"],\"xaxis\":\"x\",\"y\":[21570,21670,20990,21050,20800,21580,21250],\"yaxis\":\"y\",\"type\":\"scatter\"}],                        {\"template\":{\"data\":{\"histogram2dcontour\":[{\"type\":\"histogram2dcontour\",\"colorbar\":{\"outlinewidth\":0,\"ticks\":\"\"},\"colorscale\":[[0.0,\"#0d0887\"],[0.1111111111111111,\"#46039f\"],[0.2222222222222222,\"#7201a8\"],[0.3333333333333333,\"#9c179e\"],[0.4444444444444444,\"#bd3786\"],[0.5555555555555556,\"#d8576b\"],[0.6666666666666666,\"#ed7953\"],[0.7777777777777778,\"#fb9f3a\"],[0.8888888888888888,\"#fdca26\"],[1.0,\"#f0f921\"]]}],\"choropleth\":[{\"type\":\"choropleth\",\"colorbar\":{\"outlinewidth\":0,\"ticks\":\"\"}}],\"histogram2d\":[{\"type\":\"histogram2d\",\"colorbar\":{\"outlinewidth\":0,\"ticks\":\"\"},\"colorscale\":[[0.0,\"#0d0887\"],[0.1111111111111111,\"#46039f\"],[0.2222222222222222,\"#7201a8\"],[0.3333333333333333,\"#9c179e\"],[0.4444444444444444,\"#bd3786\"],[0.5555555555555556,\"#d8576b\"],[0.6666666666666666,\"#ed7953\"],[0.7777777777777778,\"#fb9f3a\"],[0.8888888888888888,\"#fdca26\"],[1.0,\"#f0f921\"]]}],\"heatmap\":[{\"type\":\"heatmap\",\"colorbar\":{\"outlinewidth\":0,\"ticks\":\"\"},\"colorscale\":[[0.0,\"#0d0887\"],[0.1111111111111111,\"#46039f\"],[0.2222222222222222,\"#7201a8\"],[0.3333333333333333,\"#9c179e\"],[0.4444444444444444,\"#bd3786\"],[0.5555555555555556,\"#d8576b\"],[0.6666666666666666,\"#ed7953\"],[0.7777777777777778,\"#fb9f3a\"],[0.8888888888888888,\"#fdca26\"],[1.0,\"#f0f921\"]]}],\"heatmapgl\":[{\"type\":\"heatmapgl\",\"colorbar\":{\"outlinewidth\":0,\"ticks\":\"\"},\"colorscale\":[[0.0,\"#0d0887\"],[0.1111111111111111,\"#46039f\"],[0.2222222222222222,\"#7201a8\"],[0.3333333333333333,\"#9c179e\"],[0.4444444444444444,\"#bd3786\"],[0.5555555555555556,\"#d8576b\"],[0.6666666666666666,\"#ed7953\"],[0.7777777777777778,\"#fb9f3a\"],[0.8888888888888888,\"#fdca26\"],[1.0,\"#f0f921\"]]}],\"contourcarpet\":[{\"type\":\"contourcarpet\",\"colorbar\":{\"outlinewidth\":0,\"ticks\":\"\"}}],\"contour\":[{\"type\":\"contour\",\"colorbar\":{\"outlinewidth\":0,\"ticks\":\"\"},\"colorscale\":[[0.0,\"#0d0887\"],[0.1111111111111111,\"#46039f\"],[0.2222222222222222,\"#7201a8\"],[0.3333333333333333,\"#9c179e\"],[0.4444444444444444,\"#bd3786\"],[0.5555555555555556,\"#d8576b\"],[0.6666666666666666,\"#ed7953\"],[0.7777777777777778,\"#fb9f3a\"],[0.8888888888888888,\"#fdca26\"],[1.0,\"#f0f921\"]]}],\"surface\":[{\"type\":\"surface\",\"colorbar\":{\"outlinewidth\":0,\"ticks\":\"\"},\"colorscale\":[[0.0,\"#0d0887\"],[0.1111111111111111,\"#46039f\"],[0.2222222222222222,\"#7201a8\"],[0.3333333333333333,\"#9c179e\"],[0.4444444444444444,\"#bd3786\"],[0.5555555555555556,\"#d8576b\"],[0.6666666666666666,\"#ed7953\"],[0.7777777777777778,\"#fb9f3a\"],[0.8888888888888888,\"#fdca26\"],[1.0,\"#f0f921\"]]}],\"mesh3d\":[{\"type\":\"mesh3d\",\"colorbar\":{\"outlinewidth\":0,\"ticks\":\"\"}}],\"scatter\":[{\"fillpattern\":{\"fillmode\":\"overlay\",\"size\":10,\"solidity\":0.2},\"type\":\"scatter\"}],\"parcoords\":[{\"type\":\"parcoords\",\"line\":{\"colorbar\":{\"outlinewidth\":0,\"ticks\":\"\"}}}],\"scatterpolargl\":[{\"type\":\"scatterpolargl\",\"marker\":{\"colorbar\":{\"outlinewidth\":0,\"ticks\":\"\"}}}],\"bar\":[{\"error_x\":{\"color\":\"#2a3f5f\"},\"error_y\":{\"color\":\"#2a3f5f\"},\"marker\":{\"line\":{\"color\":\"#E5ECF6\",\"width\":0.5},\"pattern\":{\"fillmode\":\"overlay\",\"size\":10,\"solidity\":0.2}},\"type\":\"bar\"}],\"scattergeo\":[{\"type\":\"scattergeo\",\"marker\":{\"colorbar\":{\"outlinewidth\":0,\"ticks\":\"\"}}}],\"scatterpolar\":[{\"type\":\"scatterpolar\",\"marker\":{\"colorbar\":{\"outlinewidth\":0,\"ticks\":\"\"}}}],\"histogram\":[{\"marker\":{\"pattern\":{\"fillmode\":\"overlay\",\"size\":10,\"solidity\":0.2}},\"type\":\"histogram\"}],\"scattergl\":[{\"type\":\"scattergl\",\"marker\":{\"colorbar\":{\"outlinewidth\":0,\"ticks\":\"\"}}}],\"scatter3d\":[{\"type\":\"scatter3d\",\"line\":{\"colorbar\":{\"outlinewidth\":0,\"ticks\":\"\"}},\"marker\":{\"colorbar\":{\"outlinewidth\":0,\"ticks\":\"\"}}}],\"scattermapbox\":[{\"type\":\"scattermapbox\",\"marker\":{\"colorbar\":{\"outlinewidth\":0,\"ticks\":\"\"}}}],\"scatterternary\":[{\"type\":\"scatterternary\",\"marker\":{\"colorbar\":{\"outlinewidth\":0,\"ticks\":\"\"}}}],\"scattercarpet\":[{\"type\":\"scattercarpet\",\"marker\":{\"colorbar\":{\"outlinewidth\":0,\"ticks\":\"\"}}}],\"carpet\":[{\"aaxis\":{\"endlinecolor\":\"#2a3f5f\",\"gridcolor\":\"white\",\"linecolor\":\"white\",\"minorgridcolor\":\"white\",\"startlinecolor\":\"#2a3f5f\"},\"baxis\":{\"endlinecolor\":\"#2a3f5f\",\"gridcolor\":\"white\",\"linecolor\":\"white\",\"minorgridcolor\":\"white\",\"startlinecolor\":\"#2a3f5f\"},\"type\":\"carpet\"}],\"table\":[{\"cells\":{\"fill\":{\"color\":\"#EBF0F8\"},\"line\":{\"color\":\"white\"}},\"header\":{\"fill\":{\"color\":\"#C8D4E3\"},\"line\":{\"color\":\"white\"}},\"type\":\"table\"}],\"barpolar\":[{\"marker\":{\"line\":{\"color\":\"#E5ECF6\",\"width\":0.5},\"pattern\":{\"fillmode\":\"overlay\",\"size\":10,\"solidity\":0.2}},\"type\":\"barpolar\"}],\"pie\":[{\"automargin\":true,\"type\":\"pie\"}]},\"layout\":{\"autotypenumbers\":\"strict\",\"colorway\":[\"#636efa\",\"#EF553B\",\"#00cc96\",\"#ab63fa\",\"#FFA15A\",\"#19d3f3\",\"#FF6692\",\"#B6E880\",\"#FF97FF\",\"#FECB52\"],\"font\":{\"color\":\"#2a3f5f\"},\"hovermode\":\"closest\",\"hoverlabel\":{\"align\":\"left\"},\"paper_bgcolor\":\"white\",\"plot_bgcolor\":\"#E5ECF6\",\"polar\":{\"bgcolor\":\"#E5ECF6\",\"angularaxis\":{\"gridcolor\":\"white\",\"linecolor\":\"white\",\"ticks\":\"\"},\"radialaxis\":{\"gridcolor\":\"white\",\"linecolor\":\"white\",\"ticks\":\"\"}},\"ternary\":{\"bgcolor\":\"#E5ECF6\",\"aaxis\":{\"gridcolor\":\"white\",\"linecolor\":\"white\",\"ticks\":\"\"},\"baxis\":{\"gridcolor\":\"white\",\"linecolor\":\"white\",\"ticks\":\"\"},\"caxis\":{\"gridcolor\":\"white\",\"linecolor\":\"white\",\"ticks\":\"\"}},\"coloraxis\":{\"colorbar\":{\"outlinewidth\":0,\"ticks\":\"\"}},\"colorscale\":{\"sequential\":[[0.0,\"#0d0887\"],[0.1111111111111111,\"#46039f\"],[0.2222222222222222,\"#7201a8\"],[0.3333333333333333,\"#9c179e\"],[0.4444444444444444,\"#bd3786\"],[0.5555555555555556,\"#d8576b\"],[0.6666666666666666,\"#ed7953\"],[0.7777777777777778,\"#fb9f3a\"],[0.8888888888888888,\"#fdca26\"],[1.0,\"#f0f921\"]],\"sequentialminus\":[[0.0,\"#0d0887\"],[0.1111111111111111,\"#46039f\"],[0.2222222222222222,\"#7201a8\"],[0.3333333333333333,\"#9c179e\"],[0.4444444444444444,\"#bd3786\"],[0.5555555555555556,\"#d8576b\"],[0.6666666666666666,\"#ed7953\"],[0.7777777777777778,\"#fb9f3a\"],[0.8888888888888888,\"#fdca26\"],[1.0,\"#f0f921\"]],\"diverging\":[[0,\"#8e0152\"],[0.1,\"#c51b7d\"],[0.2,\"#de77ae\"],[0.3,\"#f1b6da\"],[0.4,\"#fde0ef\"],[0.5,\"#f7f7f7\"],[0.6,\"#e6f5d0\"],[0.7,\"#b8e186\"],[0.8,\"#7fbc41\"],[0.9,\"#4d9221\"],[1,\"#276419\"]]},\"xaxis\":{\"gridcolor\":\"white\",\"linecolor\":\"white\",\"ticks\":\"\",\"title\":{\"standoff\":15},\"zerolinecolor\":\"white\",\"automargin\":true,\"zerolinewidth\":2},\"yaxis\":{\"gridcolor\":\"white\",\"linecolor\":\"white\",\"ticks\":\"\",\"title\":{\"standoff\":15},\"zerolinecolor\":\"white\",\"automargin\":true,\"zerolinewidth\":2},\"scene\":{\"xaxis\":{\"backgroundcolor\":\"#E5ECF6\",\"gridcolor\":\"white\",\"linecolor\":\"white\",\"showbackground\":true,\"ticks\":\"\",\"zerolinecolor\":\"white\",\"gridwidth\":2},\"yaxis\":{\"backgroundcolor\":\"#E5ECF6\",\"gridcolor\":\"white\",\"linecolor\":\"white\",\"showbackground\":true,\"ticks\":\"\",\"zerolinecolor\":\"white\",\"gridwidth\":2},\"zaxis\":{\"backgroundcolor\":\"#E5ECF6\",\"gridcolor\":\"white\",\"linecolor\":\"white\",\"showbackground\":true,\"ticks\":\"\",\"zerolinecolor\":\"white\",\"gridwidth\":2}},\"shapedefaults\":{\"line\":{\"color\":\"#2a3f5f\"}},\"annotationdefaults\":{\"arrowcolor\":\"#2a3f5f\",\"arrowhead\":0,\"arrowwidth\":1},\"geo\":{\"bgcolor\":\"white\",\"landcolor\":\"#E5ECF6\",\"subunitcolor\":\"white\",\"showland\":true,\"showlakes\":true,\"lakecolor\":\"white\"},\"title\":{\"x\":0.05},\"mapbox\":{\"style\":\"light\"}}},\"xaxis\":{\"anchor\":\"y\",\"domain\":[0.0,1.0],\"title\":{\"text\":\"x\"},\"calendar\":\"jalali\"},\"yaxis\":{\"anchor\":\"x\",\"domain\":[0.0,1.0],\"title\":{\"text\":\"y\"}},\"legend\":{\"tracegroupgap\":0},\"margin\":{\"t\":60}},                        {\"responsive\": true}                    ).then(function(){\n",
       "                            \n",
       "var gd = document.getElementById('39dd499c-57ce-4d42-b4d8-ce4f6d288d47');\n",
       "var x = new MutationObserver(function (mutations, observer) {{\n",
       "        var display = window.getComputedStyle(gd).display;\n",
       "        if (!display || display === 'none') {{\n",
       "            console.log([gd, 'removed!']);\n",
       "            Plotly.purge(gd);\n",
       "            observer.disconnect();\n",
       "        }}\n",
       "}});\n",
       "\n",
       "// Listen for the removal of the full notebook cells\n",
       "var notebookContainer = gd.closest('#notebook-container');\n",
       "if (notebookContainer) {{\n",
       "    x.observe(notebookContainer, {childList: true});\n",
       "}}\n",
       "\n",
       "// Listen for the clearing of the current output cell\n",
       "var outputEl = gd.closest('.output');\n",
       "if (outputEl) {{\n",
       "    x.observe(outputEl, {childList: true});\n",
       "}}\n",
       "\n",
       "                        })                };                });            </script>        </div>"
      ]
     },
     "metadata": {},
     "output_type": "display_data"
    }
   ],
   "source": [
    "import datetime\n",
    "import seaborn as sns\n",
    "import plotly.express as px\n",
    "\n",
    "a = df[df['نماد'] == \"اهرم\"]\n",
    "\n",
    "base = datetime.datetime.today()\n",
    "date_list = a[\"تاریخ میلادی\"].tolist()\n",
    "nums = a[\"اولین\"]\n",
    "\n",
    "fig = px.line(x=date_list, y=nums)\n",
    "fig.update_xaxes(calendar='jalali')\n",
    "fig.show()"
   ]
  },
  {
   "cell_type": "code",
   "execution_count": 68,
   "metadata": {},
   "outputs": [
    {
     "data": {
      "text/html": [
       "<div>\n",
       "<style scoped>\n",
       "    .dataframe tbody tr th:only-of-type {\n",
       "        vertical-align: middle;\n",
       "    }\n",
       "\n",
       "    .dataframe tbody tr th {\n",
       "        vertical-align: top;\n",
       "    }\n",
       "\n",
       "    .dataframe thead th {\n",
       "        text-align: right;\n",
       "    }\n",
       "</style>\n",
       "<table border=\"1\" class=\"dataframe\">\n",
       "  <thead>\n",
       "    <tr style=\"text-align: right;\">\n",
       "      <th></th>\n",
       "      <th>تعداد</th>\n",
       "      <th>حجم</th>\n",
       "      <th>ارزش</th>\n",
       "      <th>دیروز</th>\n",
       "      <th>اولین</th>\n",
       "      <th>آخرین معامله - مقدار</th>\n",
       "      <th>آخرین معامله - تغییر</th>\n",
       "      <th>آخرین معامله - درصد</th>\n",
       "      <th>قیمت پایانی - مقدار</th>\n",
       "      <th>قیمت پایانی - تغییر</th>\n",
       "      <th>قیمت پایانی - درصد</th>\n",
       "      <th>کمترین</th>\n",
       "      <th>بیشترین</th>\n",
       "      <th>تاریخ میلادی</th>\n",
       "    </tr>\n",
       "  </thead>\n",
       "  <tbody>\n",
       "    <tr>\n",
       "      <th>count</th>\n",
       "      <td>7.000000</td>\n",
       "      <td>7.000000e+00</td>\n",
       "      <td>7.000000e+00</td>\n",
       "      <td>7.000000</td>\n",
       "      <td>7.000000</td>\n",
       "      <td>7.000000</td>\n",
       "      <td>7.000000</td>\n",
       "      <td>7.000000</td>\n",
       "      <td>7.000000</td>\n",
       "      <td>7.000000</td>\n",
       "      <td>7.000000</td>\n",
       "      <td>7.000000</td>\n",
       "      <td>7.000000</td>\n",
       "      <td>7</td>\n",
       "    </tr>\n",
       "    <tr>\n",
       "      <th>mean</th>\n",
       "      <td>11245.857143</td>\n",
       "      <td>1.297175e+08</td>\n",
       "      <td>2.755028e+12</td>\n",
       "      <td>21298.571429</td>\n",
       "      <td>21272.857143</td>\n",
       "      <td>21172.857143</td>\n",
       "      <td>-125.714286</td>\n",
       "      <td>-0.577143</td>\n",
       "      <td>21225.714286</td>\n",
       "      <td>-72.857143</td>\n",
       "      <td>-0.332857</td>\n",
       "      <td>20971.428571</td>\n",
       "      <td>21501.428571</td>\n",
       "      <td>2023-12-26 13:42:51.428571392</td>\n",
       "    </tr>\n",
       "    <tr>\n",
       "      <th>min</th>\n",
       "      <td>6976.000000</td>\n",
       "      <td>9.062195e+07</td>\n",
       "      <td>1.913855e+12</td>\n",
       "      <td>20900.000000</td>\n",
       "      <td>20800.000000</td>\n",
       "      <td>20760.000000</td>\n",
       "      <td>-710.000000</td>\n",
       "      <td>-3.270000</td>\n",
       "      <td>20900.000000</td>\n",
       "      <td>-480.000000</td>\n",
       "      <td>-2.210000</td>\n",
       "      <td>20740.000000</td>\n",
       "      <td>21060.000000</td>\n",
       "      <td>2023-12-23 00:00:00</td>\n",
       "    </tr>\n",
       "    <tr>\n",
       "      <th>25%</th>\n",
       "      <td>9437.500000</td>\n",
       "      <td>1.100614e+08</td>\n",
       "      <td>2.350362e+12</td>\n",
       "      <td>21095.000000</td>\n",
       "      <td>21020.000000</td>\n",
       "      <td>21075.000000</td>\n",
       "      <td>-285.000000</td>\n",
       "      <td>-1.340000</td>\n",
       "      <td>21095.000000</td>\n",
       "      <td>-230.000000</td>\n",
       "      <td>-1.080000</td>\n",
       "      <td>20800.000000</td>\n",
       "      <td>21310.000000</td>\n",
       "      <td>2023-12-24 12:00:00</td>\n",
       "    </tr>\n",
       "    <tr>\n",
       "      <th>50%</th>\n",
       "      <td>11348.000000</td>\n",
       "      <td>1.266791e+08</td>\n",
       "      <td>2.671166e+12</td>\n",
       "      <td>21250.000000</td>\n",
       "      <td>21250.000000</td>\n",
       "      <td>21150.000000</td>\n",
       "      <td>-50.000000</td>\n",
       "      <td>-0.240000</td>\n",
       "      <td>21120.000000</td>\n",
       "      <td>-160.000000</td>\n",
       "      <td>-0.750000</td>\n",
       "      <td>20930.000000</td>\n",
       "      <td>21350.000000</td>\n",
       "      <td>2023-12-26 00:00:00</td>\n",
       "    </tr>\n",
       "    <tr>\n",
       "      <th>75%</th>\n",
       "      <td>13500.500000</td>\n",
       "      <td>1.506907e+08</td>\n",
       "      <td>3.189806e+12</td>\n",
       "      <td>21510.000000</td>\n",
       "      <td>21575.000000</td>\n",
       "      <td>21265.000000</td>\n",
       "      <td>10.000000</td>\n",
       "      <td>0.045000</td>\n",
       "      <td>21320.000000</td>\n",
       "      <td>150.000000</td>\n",
       "      <td>0.710000</td>\n",
       "      <td>21040.000000</td>\n",
       "      <td>21765.000000</td>\n",
       "      <td>2023-12-28 12:00:00</td>\n",
       "    </tr>\n",
       "    <tr>\n",
       "      <th>max</th>\n",
       "      <td>14521.000000</td>\n",
       "      <td>1.692171e+08</td>\n",
       "      <td>3.619838e+12</td>\n",
       "      <td>21730.000000</td>\n",
       "      <td>21670.000000</td>\n",
       "      <td>21620.000000</td>\n",
       "      <td>430.000000</td>\n",
       "      <td>2.060000</td>\n",
       "      <td>21730.000000</td>\n",
       "      <td>290.000000</td>\n",
       "      <td>1.370000</td>\n",
       "      <td>21450.000000</td>\n",
       "      <td>21950.000000</td>\n",
       "      <td>2023-12-31 00:00:00</td>\n",
       "    </tr>\n",
       "    <tr>\n",
       "      <th>std</th>\n",
       "      <td>2867.335431</td>\n",
       "      <td>3.027708e+07</td>\n",
       "      <td>6.500616e+11</td>\n",
       "      <td>302.347955</td>\n",
       "      <td>340.133027</td>\n",
       "      <td>265.060640</td>\n",
       "      <td>353.169324</td>\n",
       "      <td>1.651895</td>\n",
       "      <td>268.753738</td>\n",
       "      <td>277.471577</td>\n",
       "      <td>1.296067</td>\n",
       "      <td>243.476800</td>\n",
       "      <td>325.854189</td>\n",
       "      <td>NaN</td>\n",
       "    </tr>\n",
       "  </tbody>\n",
       "</table>\n",
       "</div>"
      ],
      "text/plain": [
       "              تعداد           حجم          ارزش         دیروز         اولین  \\\n",
       "count      7.000000  7.000000e+00  7.000000e+00      7.000000      7.000000   \n",
       "mean   11245.857143  1.297175e+08  2.755028e+12  21298.571429  21272.857143   \n",
       "min     6976.000000  9.062195e+07  1.913855e+12  20900.000000  20800.000000   \n",
       "25%     9437.500000  1.100614e+08  2.350362e+12  21095.000000  21020.000000   \n",
       "50%    11348.000000  1.266791e+08  2.671166e+12  21250.000000  21250.000000   \n",
       "75%    13500.500000  1.506907e+08  3.189806e+12  21510.000000  21575.000000   \n",
       "max    14521.000000  1.692171e+08  3.619838e+12  21730.000000  21670.000000   \n",
       "std     2867.335431  3.027708e+07  6.500616e+11    302.347955    340.133027   \n",
       "\n",
       "       آخرین معامله - مقدار  آخرین معامله - تغییر  آخرین معامله - درصد  \\\n",
       "count              7.000000              7.000000             7.000000   \n",
       "mean           21172.857143           -125.714286            -0.577143   \n",
       "min            20760.000000           -710.000000            -3.270000   \n",
       "25%            21075.000000           -285.000000            -1.340000   \n",
       "50%            21150.000000            -50.000000            -0.240000   \n",
       "75%            21265.000000             10.000000             0.045000   \n",
       "max            21620.000000            430.000000             2.060000   \n",
       "std              265.060640            353.169324             1.651895   \n",
       "\n",
       "       قیمت پایانی - مقدار  قیمت پایانی - تغییر  قیمت پایانی - درصد  \\\n",
       "count             7.000000             7.000000            7.000000   \n",
       "mean          21225.714286           -72.857143           -0.332857   \n",
       "min           20900.000000          -480.000000           -2.210000   \n",
       "25%           21095.000000          -230.000000           -1.080000   \n",
       "50%           21120.000000          -160.000000           -0.750000   \n",
       "75%           21320.000000           150.000000            0.710000   \n",
       "max           21730.000000           290.000000            1.370000   \n",
       "std             268.753738           277.471577            1.296067   \n",
       "\n",
       "             کمترین       بیشترین                   تاریخ میلادی  \n",
       "count      7.000000      7.000000                              7  \n",
       "mean   20971.428571  21501.428571  2023-12-26 13:42:51.428571392  \n",
       "min    20740.000000  21060.000000            2023-12-23 00:00:00  \n",
       "25%    20800.000000  21310.000000            2023-12-24 12:00:00  \n",
       "50%    20930.000000  21350.000000            2023-12-26 00:00:00  \n",
       "75%    21040.000000  21765.000000            2023-12-28 12:00:00  \n",
       "max    21450.000000  21950.000000            2023-12-31 00:00:00  \n",
       "std      243.476800    325.854189                            NaN  "
      ]
     },
     "execution_count": 68,
     "metadata": {},
     "output_type": "execute_result"
    }
   ],
   "source": [
    "a.describe()"
   ]
  },
  {
   "cell_type": "code",
   "execution_count": 69,
   "metadata": {},
   "outputs": [
    {
     "data": {
      "text/html": [
       "<div>\n",
       "<style scoped>\n",
       "    .dataframe tbody tr th:only-of-type {\n",
       "        vertical-align: middle;\n",
       "    }\n",
       "\n",
       "    .dataframe tbody tr th {\n",
       "        vertical-align: top;\n",
       "    }\n",
       "\n",
       "    .dataframe thead th {\n",
       "        text-align: right;\n",
       "    }\n",
       "</style>\n",
       "<table border=\"1\" class=\"dataframe\">\n",
       "  <thead>\n",
       "    <tr style=\"text-align: right;\">\n",
       "      <th></th>\n",
       "      <th>نماد</th>\n",
       "      <th>نام</th>\n",
       "      <th>تعداد</th>\n",
       "      <th>حجم</th>\n",
       "      <th>ارزش</th>\n",
       "      <th>دیروز</th>\n",
       "      <th>اولین</th>\n",
       "      <th>آخرین معامله - مقدار</th>\n",
       "      <th>آخرین معامله - تغییر</th>\n",
       "      <th>آخرین معامله - درصد</th>\n",
       "      <th>قیمت پایانی - مقدار</th>\n",
       "      <th>قیمت پایانی - تغییر</th>\n",
       "      <th>قیمت پایانی - درصد</th>\n",
       "      <th>کمترین</th>\n",
       "      <th>بیشترین</th>\n",
       "      <th>تاریخ شمسی</th>\n",
       "      <th>تاریخ میلادی</th>\n",
       "    </tr>\n",
       "  </thead>\n",
       "  <tbody>\n",
       "    <tr>\n",
       "      <th>2</th>\n",
       "      <td>اهرم</td>\n",
       "      <td>صندوق س سهامي كاريزما- اهرمي</td>\n",
       "      <td>11348</td>\n",
       "      <td>120413172</td>\n",
       "      <td>2616918044630</td>\n",
       "      <td>21630</td>\n",
       "      <td>21570</td>\n",
       "      <td>21620</td>\n",
       "      <td>-10</td>\n",
       "      <td>-0.05</td>\n",
       "      <td>21730</td>\n",
       "      <td>100</td>\n",
       "      <td>0.46</td>\n",
       "      <td>21450</td>\n",
       "      <td>21950</td>\n",
       "      <td>1402-10-02</td>\n",
       "      <td>2023-12-23</td>\n",
       "    </tr>\n",
       "    <tr>\n",
       "      <th>1246</th>\n",
       "      <td>اهرم</td>\n",
       "      <td>صندوق س سهامي كاريزما- اهرمي</td>\n",
       "      <td>14521</td>\n",
       "      <td>134327686</td>\n",
       "      <td>2854168929260</td>\n",
       "      <td>21730</td>\n",
       "      <td>21670</td>\n",
       "      <td>21020</td>\n",
       "      <td>-710</td>\n",
       "      <td>-3.27</td>\n",
       "      <td>21250</td>\n",
       "      <td>-480</td>\n",
       "      <td>-2.21</td>\n",
       "      <td>20930</td>\n",
       "      <td>21720</td>\n",
       "      <td>1402-10-03</td>\n",
       "      <td>2023-12-24</td>\n",
       "    </tr>\n",
       "    <tr>\n",
       "      <th>2549</th>\n",
       "      <td>اهرم</td>\n",
       "      <td>صندوق س سهامي كاريزما- اهرمي</td>\n",
       "      <td>10733</td>\n",
       "      <td>126679067</td>\n",
       "      <td>2671165531840</td>\n",
       "      <td>21250</td>\n",
       "      <td>20990</td>\n",
       "      <td>21200</td>\n",
       "      <td>-50</td>\n",
       "      <td>-0.24</td>\n",
       "      <td>21090</td>\n",
       "      <td>-160</td>\n",
       "      <td>-0.75</td>\n",
       "      <td>20800</td>\n",
       "      <td>21350</td>\n",
       "      <td>1402-10-04</td>\n",
       "      <td>2023-12-25</td>\n",
       "    </tr>\n",
       "    <tr>\n",
       "      <th>3983</th>\n",
       "      <td>اهرم</td>\n",
       "      <td>صندوق س سهامي كاريزما- اهرمي</td>\n",
       "      <td>8142</td>\n",
       "      <td>99709575</td>\n",
       "      <td>2083806625290</td>\n",
       "      <td>21090</td>\n",
       "      <td>21050</td>\n",
       "      <td>20760</td>\n",
       "      <td>-330</td>\n",
       "      <td>-1.56</td>\n",
       "      <td>20900</td>\n",
       "      <td>-190</td>\n",
       "      <td>-0.90</td>\n",
       "      <td>20740</td>\n",
       "      <td>21060</td>\n",
       "      <td>1402-10-05</td>\n",
       "      <td>2023-12-26</td>\n",
       "    </tr>\n",
       "    <tr>\n",
       "      <th>5295</th>\n",
       "      <td>اهرم</td>\n",
       "      <td>صندوق س سهامي كاريزما- اهرمي</td>\n",
       "      <td>13115</td>\n",
       "      <td>167053757</td>\n",
       "      <td>3525442259750</td>\n",
       "      <td>20900</td>\n",
       "      <td>20800</td>\n",
       "      <td>21330</td>\n",
       "      <td>430</td>\n",
       "      <td>2.06</td>\n",
       "      <td>21100</td>\n",
       "      <td>200</td>\n",
       "      <td>0.96</td>\n",
       "      <td>20800</td>\n",
       "      <td>21340</td>\n",
       "      <td>1402-10-06</td>\n",
       "      <td>2023-12-27</td>\n",
       "    </tr>\n",
       "    <tr>\n",
       "      <th>6591</th>\n",
       "      <td>اهرم</td>\n",
       "      <td>صندوق س سهامي كاريزما- اهرمي</td>\n",
       "      <td>13886</td>\n",
       "      <td>169217134</td>\n",
       "      <td>3619838332400</td>\n",
       "      <td>21100</td>\n",
       "      <td>21580</td>\n",
       "      <td>21130</td>\n",
       "      <td>30</td>\n",
       "      <td>0.14</td>\n",
       "      <td>21390</td>\n",
       "      <td>290</td>\n",
       "      <td>1.37</td>\n",
       "      <td>21080</td>\n",
       "      <td>21810</td>\n",
       "      <td>1402-10-09</td>\n",
       "      <td>2023-12-30</td>\n",
       "    </tr>\n",
       "    <tr>\n",
       "      <th>7873</th>\n",
       "      <td>اهرم</td>\n",
       "      <td>صندوق س سهامي كاريزما- اهرمي</td>\n",
       "      <td>6976</td>\n",
       "      <td>90621952</td>\n",
       "      <td>1913855377180</td>\n",
       "      <td>21390</td>\n",
       "      <td>21250</td>\n",
       "      <td>21150</td>\n",
       "      <td>-240</td>\n",
       "      <td>-1.12</td>\n",
       "      <td>21120</td>\n",
       "      <td>-270</td>\n",
       "      <td>-1.26</td>\n",
       "      <td>21000</td>\n",
       "      <td>21280</td>\n",
       "      <td>1402-10-10</td>\n",
       "      <td>2023-12-31</td>\n",
       "    </tr>\n",
       "  </tbody>\n",
       "</table>\n",
       "</div>"
      ],
      "text/plain": [
       "      نماد                           نام  تعداد        حجم           ارزش  \\\n",
       "2     اهرم  صندوق س سهامي كاريزما- اهرمي  11348  120413172  2616918044630   \n",
       "1246  اهرم  صندوق س سهامي كاريزما- اهرمي  14521  134327686  2854168929260   \n",
       "2549  اهرم  صندوق س سهامي كاريزما- اهرمي  10733  126679067  2671165531840   \n",
       "3983  اهرم  صندوق س سهامي كاريزما- اهرمي   8142   99709575  2083806625290   \n",
       "5295  اهرم  صندوق س سهامي كاريزما- اهرمي  13115  167053757  3525442259750   \n",
       "6591  اهرم  صندوق س سهامي كاريزما- اهرمي  13886  169217134  3619838332400   \n",
       "7873  اهرم  صندوق س سهامي كاريزما- اهرمي   6976   90621952  1913855377180   \n",
       "\n",
       "      دیروز  اولین  آخرین معامله - مقدار  آخرین معامله - تغییر  \\\n",
       "2     21630  21570                 21620                   -10   \n",
       "1246  21730  21670                 21020                  -710   \n",
       "2549  21250  20990                 21200                   -50   \n",
       "3983  21090  21050                 20760                  -330   \n",
       "5295  20900  20800                 21330                   430   \n",
       "6591  21100  21580                 21130                    30   \n",
       "7873  21390  21250                 21150                  -240   \n",
       "\n",
       "      آخرین معامله - درصد  قیمت پایانی - مقدار  قیمت پایانی - تغییر  \\\n",
       "2                   -0.05                21730                  100   \n",
       "1246                -3.27                21250                 -480   \n",
       "2549                -0.24                21090                 -160   \n",
       "3983                -1.56                20900                 -190   \n",
       "5295                 2.06                21100                  200   \n",
       "6591                 0.14                21390                  290   \n",
       "7873                -1.12                21120                 -270   \n",
       "\n",
       "      قیمت پایانی - درصد  کمترین  بیشترین  تاریخ شمسی تاریخ میلادی  \n",
       "2                   0.46   21450    21950  1402-10-02   2023-12-23  \n",
       "1246               -2.21   20930    21720  1402-10-03   2023-12-24  \n",
       "2549               -0.75   20800    21350  1402-10-04   2023-12-25  \n",
       "3983               -0.90   20740    21060  1402-10-05   2023-12-26  \n",
       "5295                0.96   20800    21340  1402-10-06   2023-12-27  \n",
       "6591                1.37   21080    21810  1402-10-09   2023-12-30  \n",
       "7873               -1.26   21000    21280  1402-10-10   2023-12-31  "
      ]
     },
     "execution_count": 69,
     "metadata": {},
     "output_type": "execute_result"
    }
   ],
   "source": [
    "a"
   ]
  },
  {
   "cell_type": "code",
   "execution_count": 90,
   "metadata": {},
   "outputs": [],
   "source": [
    "top_10_stock = df.groupby(\"نماد\")[\"حجم\"].sum().sort_values(ascending=False)[:20]"
   ]
  },
  {
   "cell_type": "code",
   "execution_count": 91,
   "metadata": {},
   "outputs": [
    {
     "data": {
      "text/plain": [
       "[5349158345,\n",
       " 2941646292,\n",
       " 2772986533,\n",
       " 1888904122,\n",
       " 1884867343,\n",
       " 1758000000,\n",
       " 1743236401,\n",
       " 1490723936,\n",
       " 1432936546,\n",
       " 1376800000,\n",
       " 1346241522,\n",
       " 1343115712,\n",
       " 1336608767,\n",
       " 1236070000,\n",
       " 1161135607,\n",
       " 1120900000,\n",
       " 1090000000,\n",
       " 1085976813,\n",
       " 1031257236,\n",
       " 1019339262]"
      ]
     },
     "execution_count": 91,
     "metadata": {},
     "output_type": "execute_result"
    }
   ],
   "source": [
    "list(top_10_stock.values)"
   ]
  },
  {
   "cell_type": "code",
   "execution_count": 95,
   "metadata": {},
   "outputs": [
    {
     "data": {
      "application/vnd.plotly.v1+json": {
       "config": {
        "plotlyServerURL": "https://plot.ly"
       },
       "data": [
        {
         "alignmentgroup": "True",
         "hovertemplate": "نماد=%{x}<br>حجم=%{y}<br>color=%{marker.color}<extra></extra>",
         "legendgroup": "",
         "marker": {
          "color": [
           5349158345,
           2941646292,
           2772986533,
           1888904122,
           1884867343,
           1758000000,
           1743236401,
           1490723936,
           1432936546,
           1376800000,
           1346241522,
           1343115712,
           1336608767,
           1236070000,
           1161135607,
           1120900000,
           1090000000,
           1085976813,
           1031257236,
           1019339262
          ],
          "coloraxis": "coloraxis",
          "pattern": {
           "shape": ""
          }
         },
         "name": "",
         "offsetgroup": "",
         "orientation": "v",
         "showlegend": false,
         "textposition": "auto",
         "type": "bar",
         "x": [
          "دي",
          "شهر4",
          "شستا2",
          "شستا",
          "وبصادر2",
          "داتام4",
          "كارا",
          "افران",
          "حفارس",
          "پاداش2",
          "كارين4",
          "وبملت2",
          "ياقوت",
          "وتجارت2",
          "هماي",
          "كارا2",
          "فجهانح2",
          "خودرو",
          "وبملت",
          "داتام"
         ],
         "xaxis": "x",
         "y": [
          5349158345,
          2941646292,
          2772986533,
          1888904122,
          1884867343,
          1758000000,
          1743236401,
          1490723936,
          1432936546,
          1376800000,
          1346241522,
          1343115712,
          1336608767,
          1236070000,
          1161135607,
          1120900000,
          1090000000,
          1085976813,
          1031257236,
          1019339262
         ],
         "yaxis": "y"
        }
       ],
       "layout": {
        "barmode": "relative",
        "coloraxis": {
         "colorbar": {
          "title": {
           "text": "color"
          }
         },
         "colorscale": [
          [
           0,
           "#0d0887"
          ],
          [
           0.1111111111111111,
           "#46039f"
          ],
          [
           0.2222222222222222,
           "#7201a8"
          ],
          [
           0.3333333333333333,
           "#9c179e"
          ],
          [
           0.4444444444444444,
           "#bd3786"
          ],
          [
           0.5555555555555556,
           "#d8576b"
          ],
          [
           0.6666666666666666,
           "#ed7953"
          ],
          [
           0.7777777777777778,
           "#fb9f3a"
          ],
          [
           0.8888888888888888,
           "#fdca26"
          ],
          [
           1,
           "#f0f921"
          ]
         ]
        },
        "height": 400,
        "legend": {
         "tracegroupgap": 0
        },
        "margin": {
         "t": 60
        },
        "template": {
         "data": {
          "bar": [
           {
            "error_x": {
             "color": "#2a3f5f"
            },
            "error_y": {
             "color": "#2a3f5f"
            },
            "marker": {
             "line": {
              "color": "#E5ECF6",
              "width": 0.5
             },
             "pattern": {
              "fillmode": "overlay",
              "size": 10,
              "solidity": 0.2
             }
            },
            "type": "bar"
           }
          ],
          "barpolar": [
           {
            "marker": {
             "line": {
              "color": "#E5ECF6",
              "width": 0.5
             },
             "pattern": {
              "fillmode": "overlay",
              "size": 10,
              "solidity": 0.2
             }
            },
            "type": "barpolar"
           }
          ],
          "carpet": [
           {
            "aaxis": {
             "endlinecolor": "#2a3f5f",
             "gridcolor": "white",
             "linecolor": "white",
             "minorgridcolor": "white",
             "startlinecolor": "#2a3f5f"
            },
            "baxis": {
             "endlinecolor": "#2a3f5f",
             "gridcolor": "white",
             "linecolor": "white",
             "minorgridcolor": "white",
             "startlinecolor": "#2a3f5f"
            },
            "type": "carpet"
           }
          ],
          "choropleth": [
           {
            "colorbar": {
             "outlinewidth": 0,
             "ticks": ""
            },
            "type": "choropleth"
           }
          ],
          "contour": [
           {
            "colorbar": {
             "outlinewidth": 0,
             "ticks": ""
            },
            "colorscale": [
             [
              0,
              "#0d0887"
             ],
             [
              0.1111111111111111,
              "#46039f"
             ],
             [
              0.2222222222222222,
              "#7201a8"
             ],
             [
              0.3333333333333333,
              "#9c179e"
             ],
             [
              0.4444444444444444,
              "#bd3786"
             ],
             [
              0.5555555555555556,
              "#d8576b"
             ],
             [
              0.6666666666666666,
              "#ed7953"
             ],
             [
              0.7777777777777778,
              "#fb9f3a"
             ],
             [
              0.8888888888888888,
              "#fdca26"
             ],
             [
              1,
              "#f0f921"
             ]
            ],
            "type": "contour"
           }
          ],
          "contourcarpet": [
           {
            "colorbar": {
             "outlinewidth": 0,
             "ticks": ""
            },
            "type": "contourcarpet"
           }
          ],
          "heatmap": [
           {
            "colorbar": {
             "outlinewidth": 0,
             "ticks": ""
            },
            "colorscale": [
             [
              0,
              "#0d0887"
             ],
             [
              0.1111111111111111,
              "#46039f"
             ],
             [
              0.2222222222222222,
              "#7201a8"
             ],
             [
              0.3333333333333333,
              "#9c179e"
             ],
             [
              0.4444444444444444,
              "#bd3786"
             ],
             [
              0.5555555555555556,
              "#d8576b"
             ],
             [
              0.6666666666666666,
              "#ed7953"
             ],
             [
              0.7777777777777778,
              "#fb9f3a"
             ],
             [
              0.8888888888888888,
              "#fdca26"
             ],
             [
              1,
              "#f0f921"
             ]
            ],
            "type": "heatmap"
           }
          ],
          "heatmapgl": [
           {
            "colorbar": {
             "outlinewidth": 0,
             "ticks": ""
            },
            "colorscale": [
             [
              0,
              "#0d0887"
             ],
             [
              0.1111111111111111,
              "#46039f"
             ],
             [
              0.2222222222222222,
              "#7201a8"
             ],
             [
              0.3333333333333333,
              "#9c179e"
             ],
             [
              0.4444444444444444,
              "#bd3786"
             ],
             [
              0.5555555555555556,
              "#d8576b"
             ],
             [
              0.6666666666666666,
              "#ed7953"
             ],
             [
              0.7777777777777778,
              "#fb9f3a"
             ],
             [
              0.8888888888888888,
              "#fdca26"
             ],
             [
              1,
              "#f0f921"
             ]
            ],
            "type": "heatmapgl"
           }
          ],
          "histogram": [
           {
            "marker": {
             "pattern": {
              "fillmode": "overlay",
              "size": 10,
              "solidity": 0.2
             }
            },
            "type": "histogram"
           }
          ],
          "histogram2d": [
           {
            "colorbar": {
             "outlinewidth": 0,
             "ticks": ""
            },
            "colorscale": [
             [
              0,
              "#0d0887"
             ],
             [
              0.1111111111111111,
              "#46039f"
             ],
             [
              0.2222222222222222,
              "#7201a8"
             ],
             [
              0.3333333333333333,
              "#9c179e"
             ],
             [
              0.4444444444444444,
              "#bd3786"
             ],
             [
              0.5555555555555556,
              "#d8576b"
             ],
             [
              0.6666666666666666,
              "#ed7953"
             ],
             [
              0.7777777777777778,
              "#fb9f3a"
             ],
             [
              0.8888888888888888,
              "#fdca26"
             ],
             [
              1,
              "#f0f921"
             ]
            ],
            "type": "histogram2d"
           }
          ],
          "histogram2dcontour": [
           {
            "colorbar": {
             "outlinewidth": 0,
             "ticks": ""
            },
            "colorscale": [
             [
              0,
              "#0d0887"
             ],
             [
              0.1111111111111111,
              "#46039f"
             ],
             [
              0.2222222222222222,
              "#7201a8"
             ],
             [
              0.3333333333333333,
              "#9c179e"
             ],
             [
              0.4444444444444444,
              "#bd3786"
             ],
             [
              0.5555555555555556,
              "#d8576b"
             ],
             [
              0.6666666666666666,
              "#ed7953"
             ],
             [
              0.7777777777777778,
              "#fb9f3a"
             ],
             [
              0.8888888888888888,
              "#fdca26"
             ],
             [
              1,
              "#f0f921"
             ]
            ],
            "type": "histogram2dcontour"
           }
          ],
          "mesh3d": [
           {
            "colorbar": {
             "outlinewidth": 0,
             "ticks": ""
            },
            "type": "mesh3d"
           }
          ],
          "parcoords": [
           {
            "line": {
             "colorbar": {
              "outlinewidth": 0,
              "ticks": ""
             }
            },
            "type": "parcoords"
           }
          ],
          "pie": [
           {
            "automargin": true,
            "type": "pie"
           }
          ],
          "scatter": [
           {
            "fillpattern": {
             "fillmode": "overlay",
             "size": 10,
             "solidity": 0.2
            },
            "type": "scatter"
           }
          ],
          "scatter3d": [
           {
            "line": {
             "colorbar": {
              "outlinewidth": 0,
              "ticks": ""
             }
            },
            "marker": {
             "colorbar": {
              "outlinewidth": 0,
              "ticks": ""
             }
            },
            "type": "scatter3d"
           }
          ],
          "scattercarpet": [
           {
            "marker": {
             "colorbar": {
              "outlinewidth": 0,
              "ticks": ""
             }
            },
            "type": "scattercarpet"
           }
          ],
          "scattergeo": [
           {
            "marker": {
             "colorbar": {
              "outlinewidth": 0,
              "ticks": ""
             }
            },
            "type": "scattergeo"
           }
          ],
          "scattergl": [
           {
            "marker": {
             "colorbar": {
              "outlinewidth": 0,
              "ticks": ""
             }
            },
            "type": "scattergl"
           }
          ],
          "scattermapbox": [
           {
            "marker": {
             "colorbar": {
              "outlinewidth": 0,
              "ticks": ""
             }
            },
            "type": "scattermapbox"
           }
          ],
          "scatterpolar": [
           {
            "marker": {
             "colorbar": {
              "outlinewidth": 0,
              "ticks": ""
             }
            },
            "type": "scatterpolar"
           }
          ],
          "scatterpolargl": [
           {
            "marker": {
             "colorbar": {
              "outlinewidth": 0,
              "ticks": ""
             }
            },
            "type": "scatterpolargl"
           }
          ],
          "scatterternary": [
           {
            "marker": {
             "colorbar": {
              "outlinewidth": 0,
              "ticks": ""
             }
            },
            "type": "scatterternary"
           }
          ],
          "surface": [
           {
            "colorbar": {
             "outlinewidth": 0,
             "ticks": ""
            },
            "colorscale": [
             [
              0,
              "#0d0887"
             ],
             [
              0.1111111111111111,
              "#46039f"
             ],
             [
              0.2222222222222222,
              "#7201a8"
             ],
             [
              0.3333333333333333,
              "#9c179e"
             ],
             [
              0.4444444444444444,
              "#bd3786"
             ],
             [
              0.5555555555555556,
              "#d8576b"
             ],
             [
              0.6666666666666666,
              "#ed7953"
             ],
             [
              0.7777777777777778,
              "#fb9f3a"
             ],
             [
              0.8888888888888888,
              "#fdca26"
             ],
             [
              1,
              "#f0f921"
             ]
            ],
            "type": "surface"
           }
          ],
          "table": [
           {
            "cells": {
             "fill": {
              "color": "#EBF0F8"
             },
             "line": {
              "color": "white"
             }
            },
            "header": {
             "fill": {
              "color": "#C8D4E3"
             },
             "line": {
              "color": "white"
             }
            },
            "type": "table"
           }
          ]
         },
         "layout": {
          "annotationdefaults": {
           "arrowcolor": "#2a3f5f",
           "arrowhead": 0,
           "arrowwidth": 1
          },
          "autotypenumbers": "strict",
          "coloraxis": {
           "colorbar": {
            "outlinewidth": 0,
            "ticks": ""
           }
          },
          "colorscale": {
           "diverging": [
            [
             0,
             "#8e0152"
            ],
            [
             0.1,
             "#c51b7d"
            ],
            [
             0.2,
             "#de77ae"
            ],
            [
             0.3,
             "#f1b6da"
            ],
            [
             0.4,
             "#fde0ef"
            ],
            [
             0.5,
             "#f7f7f7"
            ],
            [
             0.6,
             "#e6f5d0"
            ],
            [
             0.7,
             "#b8e186"
            ],
            [
             0.8,
             "#7fbc41"
            ],
            [
             0.9,
             "#4d9221"
            ],
            [
             1,
             "#276419"
            ]
           ],
           "sequential": [
            [
             0,
             "#0d0887"
            ],
            [
             0.1111111111111111,
             "#46039f"
            ],
            [
             0.2222222222222222,
             "#7201a8"
            ],
            [
             0.3333333333333333,
             "#9c179e"
            ],
            [
             0.4444444444444444,
             "#bd3786"
            ],
            [
             0.5555555555555556,
             "#d8576b"
            ],
            [
             0.6666666666666666,
             "#ed7953"
            ],
            [
             0.7777777777777778,
             "#fb9f3a"
            ],
            [
             0.8888888888888888,
             "#fdca26"
            ],
            [
             1,
             "#f0f921"
            ]
           ],
           "sequentialminus": [
            [
             0,
             "#0d0887"
            ],
            [
             0.1111111111111111,
             "#46039f"
            ],
            [
             0.2222222222222222,
             "#7201a8"
            ],
            [
             0.3333333333333333,
             "#9c179e"
            ],
            [
             0.4444444444444444,
             "#bd3786"
            ],
            [
             0.5555555555555556,
             "#d8576b"
            ],
            [
             0.6666666666666666,
             "#ed7953"
            ],
            [
             0.7777777777777778,
             "#fb9f3a"
            ],
            [
             0.8888888888888888,
             "#fdca26"
            ],
            [
             1,
             "#f0f921"
            ]
           ]
          },
          "colorway": [
           "#636efa",
           "#EF553B",
           "#00cc96",
           "#ab63fa",
           "#FFA15A",
           "#19d3f3",
           "#FF6692",
           "#B6E880",
           "#FF97FF",
           "#FECB52"
          ],
          "font": {
           "color": "#2a3f5f"
          },
          "geo": {
           "bgcolor": "white",
           "lakecolor": "white",
           "landcolor": "#E5ECF6",
           "showlakes": true,
           "showland": true,
           "subunitcolor": "white"
          },
          "hoverlabel": {
           "align": "left"
          },
          "hovermode": "closest",
          "mapbox": {
           "style": "light"
          },
          "paper_bgcolor": "white",
          "plot_bgcolor": "#E5ECF6",
          "polar": {
           "angularaxis": {
            "gridcolor": "white",
            "linecolor": "white",
            "ticks": ""
           },
           "bgcolor": "#E5ECF6",
           "radialaxis": {
            "gridcolor": "white",
            "linecolor": "white",
            "ticks": ""
           }
          },
          "scene": {
           "xaxis": {
            "backgroundcolor": "#E5ECF6",
            "gridcolor": "white",
            "gridwidth": 2,
            "linecolor": "white",
            "showbackground": true,
            "ticks": "",
            "zerolinecolor": "white"
           },
           "yaxis": {
            "backgroundcolor": "#E5ECF6",
            "gridcolor": "white",
            "gridwidth": 2,
            "linecolor": "white",
            "showbackground": true,
            "ticks": "",
            "zerolinecolor": "white"
           },
           "zaxis": {
            "backgroundcolor": "#E5ECF6",
            "gridcolor": "white",
            "gridwidth": 2,
            "linecolor": "white",
            "showbackground": true,
            "ticks": "",
            "zerolinecolor": "white"
           }
          },
          "shapedefaults": {
           "line": {
            "color": "#2a3f5f"
           }
          },
          "ternary": {
           "aaxis": {
            "gridcolor": "white",
            "linecolor": "white",
            "ticks": ""
           },
           "baxis": {
            "gridcolor": "white",
            "linecolor": "white",
            "ticks": ""
           },
           "bgcolor": "#E5ECF6",
           "caxis": {
            "gridcolor": "white",
            "linecolor": "white",
            "ticks": ""
           }
          },
          "title": {
           "x": 0.05
          },
          "xaxis": {
           "automargin": true,
           "gridcolor": "white",
           "linecolor": "white",
           "ticks": "",
           "title": {
            "standoff": 15
           },
           "zerolinecolor": "white",
           "zerolinewidth": 2
          },
          "yaxis": {
           "automargin": true,
           "gridcolor": "white",
           "linecolor": "white",
           "ticks": "",
           "title": {
            "standoff": 15
           },
           "zerolinecolor": "white",
           "zerolinewidth": 2
          }
         }
        },
        "xaxis": {
         "anchor": "y",
         "domain": [
          0,
          1
         ],
         "title": {
          "text": "نماد"
         }
        },
        "yaxis": {
         "anchor": "x",
         "domain": [
          0,
          1
         ],
         "title": {
          "text": "حجم"
         }
        }
       }
      },
      "text/html": [
       "<div>                            <div id=\"f70b11c3-9b33-4cc3-a973-2608d8d02f3b\" class=\"plotly-graph-div\" style=\"height:400px; width:100%;\"></div>            <script type=\"text/javascript\">                require([\"plotly\"], function(Plotly) {                    window.PLOTLYENV=window.PLOTLYENV || {};                                    if (document.getElementById(\"f70b11c3-9b33-4cc3-a973-2608d8d02f3b\")) {                    Plotly.newPlot(                        \"f70b11c3-9b33-4cc3-a973-2608d8d02f3b\",                        [{\"alignmentgroup\":\"True\",\"hovertemplate\":\"\\u0646\\u0645\\u0627\\u062f=%{x}\\u003cbr\\u003e\\u062d\\u062c\\u0645=%{y}\\u003cbr\\u003ecolor=%{marker.color}\\u003cextra\\u003e\\u003c\\u002fextra\\u003e\",\"legendgroup\":\"\",\"marker\":{\"color\":[5349158345,2941646292,2772986533,1888904122,1884867343,1758000000,1743236401,1490723936,1432936546,1376800000,1346241522,1343115712,1336608767,1236070000,1161135607,1120900000,1090000000,1085976813,1031257236,1019339262],\"coloraxis\":\"coloraxis\",\"pattern\":{\"shape\":\"\"}},\"name\":\"\",\"offsetgroup\":\"\",\"orientation\":\"v\",\"showlegend\":false,\"textposition\":\"auto\",\"x\":[\"\\u062f\\u064a\",\"\\u0634\\u0647\\u06314\",\"\\u0634\\u0633\\u062a\\u06272\",\"\\u0634\\u0633\\u062a\\u0627\",\"\\u0648\\u0628\\u0635\\u0627\\u062f\\u06312\",\"\\u062f\\u0627\\u062a\\u0627\\u06454\",\"\\u0643\\u0627\\u0631\\u0627\",\"\\u0627\\u0641\\u0631\\u0627\\u0646\",\"\\u062d\\u0641\\u0627\\u0631\\u0633\",\"\\u067e\\u0627\\u062f\\u0627\\u06342\",\"\\u0643\\u0627\\u0631\\u064a\\u06464\",\"\\u0648\\u0628\\u0645\\u0644\\u062a2\",\"\\u064a\\u0627\\u0642\\u0648\\u062a\",\"\\u0648\\u062a\\u062c\\u0627\\u0631\\u062a2\",\"\\u0647\\u0645\\u0627\\u064a\",\"\\u0643\\u0627\\u0631\\u06272\",\"\\u0641\\u062c\\u0647\\u0627\\u0646\\u062d2\",\"\\u062e\\u0648\\u062f\\u0631\\u0648\",\"\\u0648\\u0628\\u0645\\u0644\\u062a\",\"\\u062f\\u0627\\u062a\\u0627\\u0645\"],\"xaxis\":\"x\",\"y\":[5349158345,2941646292,2772986533,1888904122,1884867343,1758000000,1743236401,1490723936,1432936546,1376800000,1346241522,1343115712,1336608767,1236070000,1161135607,1120900000,1090000000,1085976813,1031257236,1019339262],\"yaxis\":\"y\",\"type\":\"bar\"}],                        {\"template\":{\"data\":{\"histogram2dcontour\":[{\"type\":\"histogram2dcontour\",\"colorbar\":{\"outlinewidth\":0,\"ticks\":\"\"},\"colorscale\":[[0.0,\"#0d0887\"],[0.1111111111111111,\"#46039f\"],[0.2222222222222222,\"#7201a8\"],[0.3333333333333333,\"#9c179e\"],[0.4444444444444444,\"#bd3786\"],[0.5555555555555556,\"#d8576b\"],[0.6666666666666666,\"#ed7953\"],[0.7777777777777778,\"#fb9f3a\"],[0.8888888888888888,\"#fdca26\"],[1.0,\"#f0f921\"]]}],\"choropleth\":[{\"type\":\"choropleth\",\"colorbar\":{\"outlinewidth\":0,\"ticks\":\"\"}}],\"histogram2d\":[{\"type\":\"histogram2d\",\"colorbar\":{\"outlinewidth\":0,\"ticks\":\"\"},\"colorscale\":[[0.0,\"#0d0887\"],[0.1111111111111111,\"#46039f\"],[0.2222222222222222,\"#7201a8\"],[0.3333333333333333,\"#9c179e\"],[0.4444444444444444,\"#bd3786\"],[0.5555555555555556,\"#d8576b\"],[0.6666666666666666,\"#ed7953\"],[0.7777777777777778,\"#fb9f3a\"],[0.8888888888888888,\"#fdca26\"],[1.0,\"#f0f921\"]]}],\"heatmap\":[{\"type\":\"heatmap\",\"colorbar\":{\"outlinewidth\":0,\"ticks\":\"\"},\"colorscale\":[[0.0,\"#0d0887\"],[0.1111111111111111,\"#46039f\"],[0.2222222222222222,\"#7201a8\"],[0.3333333333333333,\"#9c179e\"],[0.4444444444444444,\"#bd3786\"],[0.5555555555555556,\"#d8576b\"],[0.6666666666666666,\"#ed7953\"],[0.7777777777777778,\"#fb9f3a\"],[0.8888888888888888,\"#fdca26\"],[1.0,\"#f0f921\"]]}],\"heatmapgl\":[{\"type\":\"heatmapgl\",\"colorbar\":{\"outlinewidth\":0,\"ticks\":\"\"},\"colorscale\":[[0.0,\"#0d0887\"],[0.1111111111111111,\"#46039f\"],[0.2222222222222222,\"#7201a8\"],[0.3333333333333333,\"#9c179e\"],[0.4444444444444444,\"#bd3786\"],[0.5555555555555556,\"#d8576b\"],[0.6666666666666666,\"#ed7953\"],[0.7777777777777778,\"#fb9f3a\"],[0.8888888888888888,\"#fdca26\"],[1.0,\"#f0f921\"]]}],\"contourcarpet\":[{\"type\":\"contourcarpet\",\"colorbar\":{\"outlinewidth\":0,\"ticks\":\"\"}}],\"contour\":[{\"type\":\"contour\",\"colorbar\":{\"outlinewidth\":0,\"ticks\":\"\"},\"colorscale\":[[0.0,\"#0d0887\"],[0.1111111111111111,\"#46039f\"],[0.2222222222222222,\"#7201a8\"],[0.3333333333333333,\"#9c179e\"],[0.4444444444444444,\"#bd3786\"],[0.5555555555555556,\"#d8576b\"],[0.6666666666666666,\"#ed7953\"],[0.7777777777777778,\"#fb9f3a\"],[0.8888888888888888,\"#fdca26\"],[1.0,\"#f0f921\"]]}],\"surface\":[{\"type\":\"surface\",\"colorbar\":{\"outlinewidth\":0,\"ticks\":\"\"},\"colorscale\":[[0.0,\"#0d0887\"],[0.1111111111111111,\"#46039f\"],[0.2222222222222222,\"#7201a8\"],[0.3333333333333333,\"#9c179e\"],[0.4444444444444444,\"#bd3786\"],[0.5555555555555556,\"#d8576b\"],[0.6666666666666666,\"#ed7953\"],[0.7777777777777778,\"#fb9f3a\"],[0.8888888888888888,\"#fdca26\"],[1.0,\"#f0f921\"]]}],\"mesh3d\":[{\"type\":\"mesh3d\",\"colorbar\":{\"outlinewidth\":0,\"ticks\":\"\"}}],\"scatter\":[{\"fillpattern\":{\"fillmode\":\"overlay\",\"size\":10,\"solidity\":0.2},\"type\":\"scatter\"}],\"parcoords\":[{\"type\":\"parcoords\",\"line\":{\"colorbar\":{\"outlinewidth\":0,\"ticks\":\"\"}}}],\"scatterpolargl\":[{\"type\":\"scatterpolargl\",\"marker\":{\"colorbar\":{\"outlinewidth\":0,\"ticks\":\"\"}}}],\"bar\":[{\"error_x\":{\"color\":\"#2a3f5f\"},\"error_y\":{\"color\":\"#2a3f5f\"},\"marker\":{\"line\":{\"color\":\"#E5ECF6\",\"width\":0.5},\"pattern\":{\"fillmode\":\"overlay\",\"size\":10,\"solidity\":0.2}},\"type\":\"bar\"}],\"scattergeo\":[{\"type\":\"scattergeo\",\"marker\":{\"colorbar\":{\"outlinewidth\":0,\"ticks\":\"\"}}}],\"scatterpolar\":[{\"type\":\"scatterpolar\",\"marker\":{\"colorbar\":{\"outlinewidth\":0,\"ticks\":\"\"}}}],\"histogram\":[{\"marker\":{\"pattern\":{\"fillmode\":\"overlay\",\"size\":10,\"solidity\":0.2}},\"type\":\"histogram\"}],\"scattergl\":[{\"type\":\"scattergl\",\"marker\":{\"colorbar\":{\"outlinewidth\":0,\"ticks\":\"\"}}}],\"scatter3d\":[{\"type\":\"scatter3d\",\"line\":{\"colorbar\":{\"outlinewidth\":0,\"ticks\":\"\"}},\"marker\":{\"colorbar\":{\"outlinewidth\":0,\"ticks\":\"\"}}}],\"scattermapbox\":[{\"type\":\"scattermapbox\",\"marker\":{\"colorbar\":{\"outlinewidth\":0,\"ticks\":\"\"}}}],\"scatterternary\":[{\"type\":\"scatterternary\",\"marker\":{\"colorbar\":{\"outlinewidth\":0,\"ticks\":\"\"}}}],\"scattercarpet\":[{\"type\":\"scattercarpet\",\"marker\":{\"colorbar\":{\"outlinewidth\":0,\"ticks\":\"\"}}}],\"carpet\":[{\"aaxis\":{\"endlinecolor\":\"#2a3f5f\",\"gridcolor\":\"white\",\"linecolor\":\"white\",\"minorgridcolor\":\"white\",\"startlinecolor\":\"#2a3f5f\"},\"baxis\":{\"endlinecolor\":\"#2a3f5f\",\"gridcolor\":\"white\",\"linecolor\":\"white\",\"minorgridcolor\":\"white\",\"startlinecolor\":\"#2a3f5f\"},\"type\":\"carpet\"}],\"table\":[{\"cells\":{\"fill\":{\"color\":\"#EBF0F8\"},\"line\":{\"color\":\"white\"}},\"header\":{\"fill\":{\"color\":\"#C8D4E3\"},\"line\":{\"color\":\"white\"}},\"type\":\"table\"}],\"barpolar\":[{\"marker\":{\"line\":{\"color\":\"#E5ECF6\",\"width\":0.5},\"pattern\":{\"fillmode\":\"overlay\",\"size\":10,\"solidity\":0.2}},\"type\":\"barpolar\"}],\"pie\":[{\"automargin\":true,\"type\":\"pie\"}]},\"layout\":{\"autotypenumbers\":\"strict\",\"colorway\":[\"#636efa\",\"#EF553B\",\"#00cc96\",\"#ab63fa\",\"#FFA15A\",\"#19d3f3\",\"#FF6692\",\"#B6E880\",\"#FF97FF\",\"#FECB52\"],\"font\":{\"color\":\"#2a3f5f\"},\"hovermode\":\"closest\",\"hoverlabel\":{\"align\":\"left\"},\"paper_bgcolor\":\"white\",\"plot_bgcolor\":\"#E5ECF6\",\"polar\":{\"bgcolor\":\"#E5ECF6\",\"angularaxis\":{\"gridcolor\":\"white\",\"linecolor\":\"white\",\"ticks\":\"\"},\"radialaxis\":{\"gridcolor\":\"white\",\"linecolor\":\"white\",\"ticks\":\"\"}},\"ternary\":{\"bgcolor\":\"#E5ECF6\",\"aaxis\":{\"gridcolor\":\"white\",\"linecolor\":\"white\",\"ticks\":\"\"},\"baxis\":{\"gridcolor\":\"white\",\"linecolor\":\"white\",\"ticks\":\"\"},\"caxis\":{\"gridcolor\":\"white\",\"linecolor\":\"white\",\"ticks\":\"\"}},\"coloraxis\":{\"colorbar\":{\"outlinewidth\":0,\"ticks\":\"\"}},\"colorscale\":{\"sequential\":[[0.0,\"#0d0887\"],[0.1111111111111111,\"#46039f\"],[0.2222222222222222,\"#7201a8\"],[0.3333333333333333,\"#9c179e\"],[0.4444444444444444,\"#bd3786\"],[0.5555555555555556,\"#d8576b\"],[0.6666666666666666,\"#ed7953\"],[0.7777777777777778,\"#fb9f3a\"],[0.8888888888888888,\"#fdca26\"],[1.0,\"#f0f921\"]],\"sequentialminus\":[[0.0,\"#0d0887\"],[0.1111111111111111,\"#46039f\"],[0.2222222222222222,\"#7201a8\"],[0.3333333333333333,\"#9c179e\"],[0.4444444444444444,\"#bd3786\"],[0.5555555555555556,\"#d8576b\"],[0.6666666666666666,\"#ed7953\"],[0.7777777777777778,\"#fb9f3a\"],[0.8888888888888888,\"#fdca26\"],[1.0,\"#f0f921\"]],\"diverging\":[[0,\"#8e0152\"],[0.1,\"#c51b7d\"],[0.2,\"#de77ae\"],[0.3,\"#f1b6da\"],[0.4,\"#fde0ef\"],[0.5,\"#f7f7f7\"],[0.6,\"#e6f5d0\"],[0.7,\"#b8e186\"],[0.8,\"#7fbc41\"],[0.9,\"#4d9221\"],[1,\"#276419\"]]},\"xaxis\":{\"gridcolor\":\"white\",\"linecolor\":\"white\",\"ticks\":\"\",\"title\":{\"standoff\":15},\"zerolinecolor\":\"white\",\"automargin\":true,\"zerolinewidth\":2},\"yaxis\":{\"gridcolor\":\"white\",\"linecolor\":\"white\",\"ticks\":\"\",\"title\":{\"standoff\":15},\"zerolinecolor\":\"white\",\"automargin\":true,\"zerolinewidth\":2},\"scene\":{\"xaxis\":{\"backgroundcolor\":\"#E5ECF6\",\"gridcolor\":\"white\",\"linecolor\":\"white\",\"showbackground\":true,\"ticks\":\"\",\"zerolinecolor\":\"white\",\"gridwidth\":2},\"yaxis\":{\"backgroundcolor\":\"#E5ECF6\",\"gridcolor\":\"white\",\"linecolor\":\"white\",\"showbackground\":true,\"ticks\":\"\",\"zerolinecolor\":\"white\",\"gridwidth\":2},\"zaxis\":{\"backgroundcolor\":\"#E5ECF6\",\"gridcolor\":\"white\",\"linecolor\":\"white\",\"showbackground\":true,\"ticks\":\"\",\"zerolinecolor\":\"white\",\"gridwidth\":2}},\"shapedefaults\":{\"line\":{\"color\":\"#2a3f5f\"}},\"annotationdefaults\":{\"arrowcolor\":\"#2a3f5f\",\"arrowhead\":0,\"arrowwidth\":1},\"geo\":{\"bgcolor\":\"white\",\"landcolor\":\"#E5ECF6\",\"subunitcolor\":\"white\",\"showland\":true,\"showlakes\":true,\"lakecolor\":\"white\"},\"title\":{\"x\":0.05},\"mapbox\":{\"style\":\"light\"}}},\"xaxis\":{\"anchor\":\"y\",\"domain\":[0.0,1.0],\"title\":{\"text\":\"\\u0646\\u0645\\u0627\\u062f\"}},\"yaxis\":{\"anchor\":\"x\",\"domain\":[0.0,1.0],\"title\":{\"text\":\"\\u062d\\u062c\\u0645\"}},\"coloraxis\":{\"colorbar\":{\"title\":{\"text\":\"color\"}},\"colorscale\":[[0.0,\"#0d0887\"],[0.1111111111111111,\"#46039f\"],[0.2222222222222222,\"#7201a8\"],[0.3333333333333333,\"#9c179e\"],[0.4444444444444444,\"#bd3786\"],[0.5555555555555556,\"#d8576b\"],[0.6666666666666666,\"#ed7953\"],[0.7777777777777778,\"#fb9f3a\"],[0.8888888888888888,\"#fdca26\"],[1.0,\"#f0f921\"]]},\"legend\":{\"tracegroupgap\":0},\"margin\":{\"t\":60},\"barmode\":\"relative\",\"height\":400},                        {\"responsive\": true}                    ).then(function(){\n",
       "                            \n",
       "var gd = document.getElementById('f70b11c3-9b33-4cc3-a973-2608d8d02f3b');\n",
       "var x = new MutationObserver(function (mutations, observer) {{\n",
       "        var display = window.getComputedStyle(gd).display;\n",
       "        if (!display || display === 'none') {{\n",
       "            console.log([gd, 'removed!']);\n",
       "            Plotly.purge(gd);\n",
       "            observer.disconnect();\n",
       "        }}\n",
       "}});\n",
       "\n",
       "// Listen for the removal of the full notebook cells\n",
       "var notebookContainer = gd.closest('#notebook-container');\n",
       "if (notebookContainer) {{\n",
       "    x.observe(notebookContainer, {childList: true});\n",
       "}}\n",
       "\n",
       "// Listen for the clearing of the current output cell\n",
       "var outputEl = gd.closest('.output');\n",
       "if (outputEl) {{\n",
       "    x.observe(outputEl, {childList: true});\n",
       "}}\n",
       "\n",
       "                        })                };                });            </script>        </div>"
      ]
     },
     "metadata": {},
     "output_type": "display_data"
    }
   ],
   "source": [
    "import plotly.express as px\n",
    "\n",
    "fig = px.bar(x=list(top_10_stock.index), y=list(top_10_stock.values), color=list(top_10_stock.values),height=400, color_discrete_sequence=px.colors.qualitative.Plotly, labels={\n",
    "                     \"x\": \"نماد\",\n",
    "                     \"y\": \"حجم\",\n",
    "                 },)\n",
    "fig.show()"
   ]
  },
  {
   "cell_type": "code",
   "execution_count": 103,
   "metadata": {},
   "outputs": [],
   "source": [
    "import pandas as pd\n",
    "\n",
    "def calculate_daily_returns(df):\n",
    "    \"\"\"\n",
    "    Calculate daily percentage returns.\n",
    "\n",
    "    Parameters:\n",
    "    - df: DataFrame with 'Symbol' and 'Close' prices.\n",
    "\n",
    "    Returns:\n",
    "    - df: DataFrame with 'Daily_Return' column.\n",
    "    \"\"\"\n",
    "    df['Daily_Return'] = df.groupby('نماد')['قیمت پایانی - مقدار'].pct_change()\n",
    "    return df.dropna()\n",
    "\n",
    "def calculate_volatility(df, window=20):\n",
    "    \"\"\"\n",
    "    Calculate volatility using the rolling standard deviation of daily returns.\n",
    "\n",
    "    Parameters:\n",
    "    - df: DataFrame with 'Symbol' and 'Daily_Return' columns.\n",
    "    - window: Rolling window size (default: 20).\n",
    "\n",
    "    Returns:\n",
    "    - df: DataFrame with 'Volatility' column.\n",
    "    \"\"\"\n",
    "    df['Volatility'] = df.groupby('Symbol')['Daily_Return'].rolling(window=window).std().reset_index(level=0, drop=True)\n",
    "    return df.dropna()\n",
    "\n",
    "def calculate_rolling_average(df, column, window=20):\n",
    "    \"\"\"\n",
    "    Calculate rolling average of a specific column.\n",
    "\n",
    "    Parameters:\n",
    "    - df: DataFrame with 'Symbol' and the specified column.\n",
    "    - column: Column for which rolling average is calculated.\n",
    "    - window: Rolling window size (default: 20).\n",
    "\n",
    "    Returns:\n",
    "    - df: DataFrame with 'Rolling_Average' column.\n",
    "    \"\"\"\n",
    "    df['Rolling_Average'] = df.groupby('Symbol')[column].rolling(window=window).mean().reset_index(level=0, drop=True)\n",
    "    return df.dropna()\n"
   ]
  },
  {
   "cell_type": "code",
   "execution_count": 104,
   "metadata": {},
   "outputs": [
    {
     "data": {
      "text/html": [
       "<div>\n",
       "<style scoped>\n",
       "    .dataframe tbody tr th:only-of-type {\n",
       "        vertical-align: middle;\n",
       "    }\n",
       "\n",
       "    .dataframe tbody tr th {\n",
       "        vertical-align: top;\n",
       "    }\n",
       "\n",
       "    .dataframe thead th {\n",
       "        text-align: right;\n",
       "    }\n",
       "</style>\n",
       "<table border=\"1\" class=\"dataframe\">\n",
       "  <thead>\n",
       "    <tr style=\"text-align: right;\">\n",
       "      <th></th>\n",
       "      <th>نماد</th>\n",
       "      <th>نام</th>\n",
       "      <th>تعداد</th>\n",
       "      <th>حجم</th>\n",
       "      <th>ارزش</th>\n",
       "      <th>دیروز</th>\n",
       "      <th>اولین</th>\n",
       "      <th>آخرین معامله - مقدار</th>\n",
       "      <th>آخرین معامله - تغییر</th>\n",
       "      <th>آخرین معامله - درصد</th>\n",
       "      <th>قیمت پایانی - مقدار</th>\n",
       "      <th>قیمت پایانی - تغییر</th>\n",
       "      <th>قیمت پایانی - درصد</th>\n",
       "      <th>کمترین</th>\n",
       "      <th>بیشترین</th>\n",
       "      <th>تاریخ شمسی</th>\n",
       "      <th>تاریخ میلادی</th>\n",
       "      <th>Daily_Return</th>\n",
       "    </tr>\n",
       "  </thead>\n",
       "  <tbody>\n",
       "    <tr>\n",
       "      <th>1245</th>\n",
       "      <td>كروميت</td>\n",
       "      <td>توسعه معادن كروميت كاوندگان</td>\n",
       "      <td>21804</td>\n",
       "      <td>48162726</td>\n",
       "      <td>598081218260</td>\n",
       "      <td>13000</td>\n",
       "      <td>12660</td>\n",
       "      <td>12420</td>\n",
       "      <td>-580</td>\n",
       "      <td>-4.46</td>\n",
       "      <td>12420</td>\n",
       "      <td>-580</td>\n",
       "      <td>-4.46</td>\n",
       "      <td>12350</td>\n",
       "      <td>12750</td>\n",
       "      <td>1402-10-03</td>\n",
       "      <td>2023-12-24</td>\n",
       "      <td>-0.044615</td>\n",
       "    </tr>\n",
       "    <tr>\n",
       "      <th>1246</th>\n",
       "      <td>اهرم</td>\n",
       "      <td>صندوق س سهامي كاريزما- اهرمي</td>\n",
       "      <td>14521</td>\n",
       "      <td>134327686</td>\n",
       "      <td>2854168929260</td>\n",
       "      <td>21730</td>\n",
       "      <td>21670</td>\n",
       "      <td>21020</td>\n",
       "      <td>-710</td>\n",
       "      <td>-3.27</td>\n",
       "      <td>21250</td>\n",
       "      <td>-480</td>\n",
       "      <td>-2.21</td>\n",
       "      <td>20930</td>\n",
       "      <td>21720</td>\n",
       "      <td>1402-10-03</td>\n",
       "      <td>2023-12-24</td>\n",
       "      <td>-0.022089</td>\n",
       "    </tr>\n",
       "    <tr>\n",
       "      <th>1247</th>\n",
       "      <td>شهر</td>\n",
       "      <td>گروه مالي شهر</td>\n",
       "      <td>7979</td>\n",
       "      <td>190261194</td>\n",
       "      <td>389101956859</td>\n",
       "      <td>1983</td>\n",
       "      <td>2020</td>\n",
       "      <td>2040</td>\n",
       "      <td>57</td>\n",
       "      <td>2.87</td>\n",
       "      <td>2045</td>\n",
       "      <td>62</td>\n",
       "      <td>3.13</td>\n",
       "      <td>2004</td>\n",
       "      <td>2079</td>\n",
       "      <td>1402-10-03</td>\n",
       "      <td>2023-12-24</td>\n",
       "      <td>0.031266</td>\n",
       "    </tr>\n",
       "    <tr>\n",
       "      <th>1248</th>\n",
       "      <td>تسه1402</td>\n",
       "      <td>امتيازتسهيلات مسكن سال1402</td>\n",
       "      <td>7941</td>\n",
       "      <td>471900</td>\n",
       "      <td>567925482091</td>\n",
       "      <td>1175055</td>\n",
       "      <td>1176001</td>\n",
       "      <td>1203000</td>\n",
       "      <td>27945</td>\n",
       "      <td>2.38</td>\n",
       "      <td>1203487</td>\n",
       "      <td>28432</td>\n",
       "      <td>2.42</td>\n",
       "      <td>1176001</td>\n",
       "      <td>1214000</td>\n",
       "      <td>1402-10-03</td>\n",
       "      <td>2023-12-24</td>\n",
       "      <td>0.024196</td>\n",
       "    </tr>\n",
       "    <tr>\n",
       "      <th>1249</th>\n",
       "      <td>دي</td>\n",
       "      <td>بانك دي</td>\n",
       "      <td>7858</td>\n",
       "      <td>547934313</td>\n",
       "      <td>575842148896</td>\n",
       "      <td>1068</td>\n",
       "      <td>1070</td>\n",
       "      <td>1037</td>\n",
       "      <td>-31</td>\n",
       "      <td>-2.90</td>\n",
       "      <td>1051</td>\n",
       "      <td>-17</td>\n",
       "      <td>-1.59</td>\n",
       "      <td>1036</td>\n",
       "      <td>1080</td>\n",
       "      <td>1402-10-03</td>\n",
       "      <td>2023-12-24</td>\n",
       "      <td>-0.015918</td>\n",
       "    </tr>\n",
       "    <tr>\n",
       "      <th>...</th>\n",
       "      <td>...</td>\n",
       "      <td>...</td>\n",
       "      <td>...</td>\n",
       "      <td>...</td>\n",
       "      <td>...</td>\n",
       "      <td>...</td>\n",
       "      <td>...</td>\n",
       "      <td>...</td>\n",
       "      <td>...</td>\n",
       "      <td>...</td>\n",
       "      <td>...</td>\n",
       "      <td>...</td>\n",
       "      <td>...</td>\n",
       "      <td>...</td>\n",
       "      <td>...</td>\n",
       "      <td>...</td>\n",
       "      <td>...</td>\n",
       "      <td>...</td>\n",
       "    </tr>\n",
       "    <tr>\n",
       "      <th>9177</th>\n",
       "      <td>اراد502</td>\n",
       "      <td>مرابحه عام دولت5-ش.خ0302</td>\n",
       "      <td>1</td>\n",
       "      <td>900</td>\n",
       "      <td>900000000</td>\n",
       "      <td>1000000</td>\n",
       "      <td>1000000</td>\n",
       "      <td>1000000</td>\n",
       "      <td>0</td>\n",
       "      <td>0.00</td>\n",
       "      <td>1000000</td>\n",
       "      <td>0</td>\n",
       "      <td>0.00</td>\n",
       "      <td>1000000</td>\n",
       "      <td>1000000</td>\n",
       "      <td>1402-10-10</td>\n",
       "      <td>2023-12-31</td>\n",
       "      <td>0.000000</td>\n",
       "    </tr>\n",
       "    <tr>\n",
       "      <th>9178</th>\n",
       "      <td>فزر2</td>\n",
       "      <td>پويا زركان آق دره</td>\n",
       "      <td>1</td>\n",
       "      <td>800000</td>\n",
       "      <td>37320000000</td>\n",
       "      <td>46850</td>\n",
       "      <td>46650</td>\n",
       "      <td>46650</td>\n",
       "      <td>-200</td>\n",
       "      <td>-0.43</td>\n",
       "      <td>46650</td>\n",
       "      <td>-200</td>\n",
       "      <td>-0.43</td>\n",
       "      <td>46650</td>\n",
       "      <td>46650</td>\n",
       "      <td>1402-10-10</td>\n",
       "      <td>2023-12-31</td>\n",
       "      <td>0.007559</td>\n",
       "    </tr>\n",
       "    <tr>\n",
       "      <th>9179</th>\n",
       "      <td>ضشنا1208</td>\n",
       "      <td>اختيارخ شپنا-11000-1402/12/02</td>\n",
       "      <td>1</td>\n",
       "      <td>1000</td>\n",
       "      <td>25000000</td>\n",
       "      <td>109</td>\n",
       "      <td>25</td>\n",
       "      <td>25</td>\n",
       "      <td>-84</td>\n",
       "      <td>-77.06</td>\n",
       "      <td>25</td>\n",
       "      <td>-84</td>\n",
       "      <td>-77.06</td>\n",
       "      <td>25</td>\n",
       "      <td>25</td>\n",
       "      <td>1402-10-10</td>\n",
       "      <td>2023-12-31</td>\n",
       "      <td>-0.770642</td>\n",
       "    </tr>\n",
       "    <tr>\n",
       "      <th>9180</th>\n",
       "      <td>ضخود0115</td>\n",
       "      <td>اختيارخ خودرو-1900-1403/01/08</td>\n",
       "      <td>1</td>\n",
       "      <td>10</td>\n",
       "      <td>10450000</td>\n",
       "      <td>1070</td>\n",
       "      <td>1045</td>\n",
       "      <td>1045</td>\n",
       "      <td>-25</td>\n",
       "      <td>-2.34</td>\n",
       "      <td>1045</td>\n",
       "      <td>-25</td>\n",
       "      <td>-2.34</td>\n",
       "      <td>1045</td>\n",
       "      <td>1045</td>\n",
       "      <td>1402-10-10</td>\n",
       "      <td>2023-12-31</td>\n",
       "      <td>-0.023364</td>\n",
       "    </tr>\n",
       "    <tr>\n",
       "      <th>9181</th>\n",
       "      <td>عقيق2</td>\n",
       "      <td>صندوق سرمايه گذاري عقيق-سهام</td>\n",
       "      <td>1</td>\n",
       "      <td>400000</td>\n",
       "      <td>400000</td>\n",
       "      <td>78700</td>\n",
       "      <td>1</td>\n",
       "      <td>1</td>\n",
       "      <td>-78699</td>\n",
       "      <td>-100.00</td>\n",
       "      <td>1</td>\n",
       "      <td>-78699</td>\n",
       "      <td>-100.00</td>\n",
       "      <td>1</td>\n",
       "      <td>1</td>\n",
       "      <td>1402-10-10</td>\n",
       "      <td>2023-12-31</td>\n",
       "      <td>0.000000</td>\n",
       "    </tr>\n",
       "  </tbody>\n",
       "</table>\n",
       "<p>7176 rows × 18 columns</p>\n",
       "</div>"
      ],
      "text/plain": [
       "          نماد                            نام  تعداد        حجم  \\\n",
       "1245    كروميت    توسعه معادن كروميت كاوندگان  21804   48162726   \n",
       "1246      اهرم   صندوق س سهامي كاريزما- اهرمي  14521  134327686   \n",
       "1247       شهر                  گروه مالي شهر   7979  190261194   \n",
       "1248   تسه1402     امتيازتسهيلات مسكن سال1402   7941     471900   \n",
       "1249        دي                        بانك دي   7858  547934313   \n",
       "...        ...                            ...    ...        ...   \n",
       "9177   اراد502       مرابحه عام دولت5-ش.خ0302      1        900   \n",
       "9178      فزر2              پويا زركان آق دره      1     800000   \n",
       "9179  ضشنا1208  اختيارخ شپنا-11000-1402/12/02      1       1000   \n",
       "9180  ضخود0115  اختيارخ خودرو-1900-1403/01/08      1         10   \n",
       "9181     عقيق2   صندوق سرمايه گذاري عقيق-سهام      1     400000   \n",
       "\n",
       "               ارزش    دیروز    اولین  آخرین معامله - مقدار  \\\n",
       "1245   598081218260    13000    12660                 12420   \n",
       "1246  2854168929260    21730    21670                 21020   \n",
       "1247   389101956859     1983     2020                  2040   \n",
       "1248   567925482091  1175055  1176001               1203000   \n",
       "1249   575842148896     1068     1070                  1037   \n",
       "...             ...      ...      ...                   ...   \n",
       "9177      900000000  1000000  1000000               1000000   \n",
       "9178    37320000000    46850    46650                 46650   \n",
       "9179       25000000      109       25                    25   \n",
       "9180       10450000     1070     1045                  1045   \n",
       "9181         400000    78700        1                     1   \n",
       "\n",
       "      آخرین معامله - تغییر  آخرین معامله - درصد  قیمت پایانی - مقدار  \\\n",
       "1245                  -580                -4.46                12420   \n",
       "1246                  -710                -3.27                21250   \n",
       "1247                    57                 2.87                 2045   \n",
       "1248                 27945                 2.38              1203487   \n",
       "1249                   -31                -2.90                 1051   \n",
       "...                    ...                  ...                  ...   \n",
       "9177                     0                 0.00              1000000   \n",
       "9178                  -200                -0.43                46650   \n",
       "9179                   -84               -77.06                   25   \n",
       "9180                   -25                -2.34                 1045   \n",
       "9181                -78699              -100.00                    1   \n",
       "\n",
       "      قیمت پایانی - تغییر  قیمت پایانی - درصد   کمترین  بیشترین  تاریخ شمسی  \\\n",
       "1245                 -580               -4.46    12350    12750  1402-10-03   \n",
       "1246                 -480               -2.21    20930    21720  1402-10-03   \n",
       "1247                   62                3.13     2004     2079  1402-10-03   \n",
       "1248                28432                2.42  1176001  1214000  1402-10-03   \n",
       "1249                  -17               -1.59     1036     1080  1402-10-03   \n",
       "...                   ...                 ...      ...      ...         ...   \n",
       "9177                    0                0.00  1000000  1000000  1402-10-10   \n",
       "9178                 -200               -0.43    46650    46650  1402-10-10   \n",
       "9179                  -84              -77.06       25       25  1402-10-10   \n",
       "9180                  -25               -2.34     1045     1045  1402-10-10   \n",
       "9181               -78699             -100.00        1        1  1402-10-10   \n",
       "\n",
       "     تاریخ میلادی  Daily_Return  \n",
       "1245   2023-12-24     -0.044615  \n",
       "1246   2023-12-24     -0.022089  \n",
       "1247   2023-12-24      0.031266  \n",
       "1248   2023-12-24      0.024196  \n",
       "1249   2023-12-24     -0.015918  \n",
       "...           ...           ...  \n",
       "9177   2023-12-31      0.000000  \n",
       "9178   2023-12-31      0.007559  \n",
       "9179   2023-12-31     -0.770642  \n",
       "9180   2023-12-31     -0.023364  \n",
       "9181   2023-12-31      0.000000  \n",
       "\n",
       "[7176 rows x 18 columns]"
      ]
     },
     "execution_count": 104,
     "metadata": {},
     "output_type": "execute_result"
    }
   ],
   "source": [
    "calculate_daily_returns(df)"
   ]
  },
  {
   "cell_type": "code",
   "execution_count": 105,
   "metadata": {},
   "outputs": [
    {
     "ename": "NameError",
     "evalue": "name 'یب' is not defined",
     "output_type": "error",
     "traceback": [
      "\u001b[0;31m---------------------------------------------------------------------------\u001b[0m",
      "\u001b[0;31mNameError\u001b[0m                                 Traceback (most recent call last)",
      "Cell \u001b[0;32mIn[105], line 1\u001b[0m\n\u001b[0;32m----> 1\u001b[0m \u001b[43mیب\u001b[49m\n",
      "\u001b[0;31mNameError\u001b[0m: name 'یب' is not defined"
     ]
    }
   ],
   "source": [
    "یب"
   ]
  },
  {
   "cell_type": "code",
   "execution_count": 113,
   "metadata": {},
   "outputs": [
    {
     "data": {
      "text/html": [
       "<div>\n",
       "<style scoped>\n",
       "    .dataframe tbody tr th:only-of-type {\n",
       "        vertical-align: middle;\n",
       "    }\n",
       "\n",
       "    .dataframe tbody tr th {\n",
       "        vertical-align: top;\n",
       "    }\n",
       "\n",
       "    .dataframe thead th {\n",
       "        text-align: right;\n",
       "    }\n",
       "</style>\n",
       "<table border=\"1\" class=\"dataframe\">\n",
       "  <thead>\n",
       "    <tr style=\"text-align: right;\">\n",
       "      <th></th>\n",
       "      <th>نماد</th>\n",
       "      <th>نام</th>\n",
       "      <th>تعداد</th>\n",
       "      <th>حجم</th>\n",
       "      <th>ارزش</th>\n",
       "      <th>دیروز</th>\n",
       "      <th>اولین</th>\n",
       "      <th>آخرین معامله - مقدار</th>\n",
       "      <th>آخرین معامله - تغییر</th>\n",
       "      <th>آخرین معامله - درصد</th>\n",
       "      <th>قیمت پایانی - مقدار</th>\n",
       "      <th>قیمت پایانی - تغییر</th>\n",
       "      <th>قیمت پایانی - درصد</th>\n",
       "      <th>کمترین</th>\n",
       "      <th>بیشترین</th>\n",
       "      <th>تاریخ شمسی</th>\n",
       "      <th>تاریخ میلادی</th>\n",
       "    </tr>\n",
       "  </thead>\n",
       "  <tbody>\n",
       "    <tr>\n",
       "      <th>2</th>\n",
       "      <td>اهرم</td>\n",
       "      <td>صندوق س سهامي كاريزما- اهرمي</td>\n",
       "      <td>11348</td>\n",
       "      <td>120413172</td>\n",
       "      <td>2616918044630</td>\n",
       "      <td>21630</td>\n",
       "      <td>21570</td>\n",
       "      <td>21620</td>\n",
       "      <td>-10</td>\n",
       "      <td>-0.05</td>\n",
       "      <td>21730</td>\n",
       "      <td>100</td>\n",
       "      <td>0.46</td>\n",
       "      <td>21450</td>\n",
       "      <td>21950</td>\n",
       "      <td>1402-10-02</td>\n",
       "      <td>2023-12-23</td>\n",
       "    </tr>\n",
       "    <tr>\n",
       "      <th>1246</th>\n",
       "      <td>اهرم</td>\n",
       "      <td>صندوق س سهامي كاريزما- اهرمي</td>\n",
       "      <td>14521</td>\n",
       "      <td>134327686</td>\n",
       "      <td>2854168929260</td>\n",
       "      <td>21730</td>\n",
       "      <td>21670</td>\n",
       "      <td>21020</td>\n",
       "      <td>-710</td>\n",
       "      <td>-3.27</td>\n",
       "      <td>21250</td>\n",
       "      <td>-480</td>\n",
       "      <td>-2.21</td>\n",
       "      <td>20930</td>\n",
       "      <td>21720</td>\n",
       "      <td>1402-10-03</td>\n",
       "      <td>2023-12-24</td>\n",
       "    </tr>\n",
       "    <tr>\n",
       "      <th>2549</th>\n",
       "      <td>اهرم</td>\n",
       "      <td>صندوق س سهامي كاريزما- اهرمي</td>\n",
       "      <td>10733</td>\n",
       "      <td>126679067</td>\n",
       "      <td>2671165531840</td>\n",
       "      <td>21250</td>\n",
       "      <td>20990</td>\n",
       "      <td>21200</td>\n",
       "      <td>-50</td>\n",
       "      <td>-0.24</td>\n",
       "      <td>21090</td>\n",
       "      <td>-160</td>\n",
       "      <td>-0.75</td>\n",
       "      <td>20800</td>\n",
       "      <td>21350</td>\n",
       "      <td>1402-10-04</td>\n",
       "      <td>2023-12-25</td>\n",
       "    </tr>\n",
       "    <tr>\n",
       "      <th>3983</th>\n",
       "      <td>اهرم</td>\n",
       "      <td>صندوق س سهامي كاريزما- اهرمي</td>\n",
       "      <td>8142</td>\n",
       "      <td>99709575</td>\n",
       "      <td>2083806625290</td>\n",
       "      <td>21090</td>\n",
       "      <td>21050</td>\n",
       "      <td>20760</td>\n",
       "      <td>-330</td>\n",
       "      <td>-1.56</td>\n",
       "      <td>20900</td>\n",
       "      <td>-190</td>\n",
       "      <td>-0.90</td>\n",
       "      <td>20740</td>\n",
       "      <td>21060</td>\n",
       "      <td>1402-10-05</td>\n",
       "      <td>2023-12-26</td>\n",
       "    </tr>\n",
       "    <tr>\n",
       "      <th>5295</th>\n",
       "      <td>اهرم</td>\n",
       "      <td>صندوق س سهامي كاريزما- اهرمي</td>\n",
       "      <td>13115</td>\n",
       "      <td>167053757</td>\n",
       "      <td>3525442259750</td>\n",
       "      <td>20900</td>\n",
       "      <td>20800</td>\n",
       "      <td>21330</td>\n",
       "      <td>430</td>\n",
       "      <td>2.06</td>\n",
       "      <td>21100</td>\n",
       "      <td>200</td>\n",
       "      <td>0.96</td>\n",
       "      <td>20800</td>\n",
       "      <td>21340</td>\n",
       "      <td>1402-10-06</td>\n",
       "      <td>2023-12-27</td>\n",
       "    </tr>\n",
       "    <tr>\n",
       "      <th>6591</th>\n",
       "      <td>اهرم</td>\n",
       "      <td>صندوق س سهامي كاريزما- اهرمي</td>\n",
       "      <td>13886</td>\n",
       "      <td>169217134</td>\n",
       "      <td>3619838332400</td>\n",
       "      <td>21100</td>\n",
       "      <td>21580</td>\n",
       "      <td>21130</td>\n",
       "      <td>30</td>\n",
       "      <td>0.14</td>\n",
       "      <td>21390</td>\n",
       "      <td>290</td>\n",
       "      <td>1.37</td>\n",
       "      <td>21080</td>\n",
       "      <td>21810</td>\n",
       "      <td>1402-10-09</td>\n",
       "      <td>2023-12-30</td>\n",
       "    </tr>\n",
       "    <tr>\n",
       "      <th>7873</th>\n",
       "      <td>اهرم</td>\n",
       "      <td>صندوق س سهامي كاريزما- اهرمي</td>\n",
       "      <td>6976</td>\n",
       "      <td>90621952</td>\n",
       "      <td>1913855377180</td>\n",
       "      <td>21390</td>\n",
       "      <td>21250</td>\n",
       "      <td>21150</td>\n",
       "      <td>-240</td>\n",
       "      <td>-1.12</td>\n",
       "      <td>21120</td>\n",
       "      <td>-270</td>\n",
       "      <td>-1.26</td>\n",
       "      <td>21000</td>\n",
       "      <td>21280</td>\n",
       "      <td>1402-10-10</td>\n",
       "      <td>2023-12-31</td>\n",
       "    </tr>\n",
       "  </tbody>\n",
       "</table>\n",
       "</div>"
      ],
      "text/plain": [
       "      نماد                           نام  تعداد        حجم           ارزش  \\\n",
       "2     اهرم  صندوق س سهامي كاريزما- اهرمي  11348  120413172  2616918044630   \n",
       "1246  اهرم  صندوق س سهامي كاريزما- اهرمي  14521  134327686  2854168929260   \n",
       "2549  اهرم  صندوق س سهامي كاريزما- اهرمي  10733  126679067  2671165531840   \n",
       "3983  اهرم  صندوق س سهامي كاريزما- اهرمي   8142   99709575  2083806625290   \n",
       "5295  اهرم  صندوق س سهامي كاريزما- اهرمي  13115  167053757  3525442259750   \n",
       "6591  اهرم  صندوق س سهامي كاريزما- اهرمي  13886  169217134  3619838332400   \n",
       "7873  اهرم  صندوق س سهامي كاريزما- اهرمي   6976   90621952  1913855377180   \n",
       "\n",
       "      دیروز  اولین  آخرین معامله - مقدار  آخرین معامله - تغییر  \\\n",
       "2     21630  21570                 21620                   -10   \n",
       "1246  21730  21670                 21020                  -710   \n",
       "2549  21250  20990                 21200                   -50   \n",
       "3983  21090  21050                 20760                  -330   \n",
       "5295  20900  20800                 21330                   430   \n",
       "6591  21100  21580                 21130                    30   \n",
       "7873  21390  21250                 21150                  -240   \n",
       "\n",
       "      آخرین معامله - درصد  قیمت پایانی - مقدار  قیمت پایانی - تغییر  \\\n",
       "2                   -0.05                21730                  100   \n",
       "1246                -3.27                21250                 -480   \n",
       "2549                -0.24                21090                 -160   \n",
       "3983                -1.56                20900                 -190   \n",
       "5295                 2.06                21100                  200   \n",
       "6591                 0.14                21390                  290   \n",
       "7873                -1.12                21120                 -270   \n",
       "\n",
       "      قیمت پایانی - درصد  کمترین  بیشترین  تاریخ شمسی تاریخ میلادی  \n",
       "2                   0.46   21450    21950  1402-10-02   2023-12-23  \n",
       "1246               -2.21   20930    21720  1402-10-03   2023-12-24  \n",
       "2549               -0.75   20800    21350  1402-10-04   2023-12-25  \n",
       "3983               -0.90   20740    21060  1402-10-05   2023-12-26  \n",
       "5295                0.96   20800    21340  1402-10-06   2023-12-27  \n",
       "6591                1.37   21080    21810  1402-10-09   2023-12-30  \n",
       "7873               -1.26   21000    21280  1402-10-10   2023-12-31  "
      ]
     },
     "execution_count": 113,
     "metadata": {},
     "output_type": "execute_result"
    }
   ],
   "source": [
    "a[]"
   ]
  },
  {
   "cell_type": "code",
   "execution_count": 112,
   "metadata": {},
   "outputs": [
    {
     "data": {
      "text/plain": [
       "2      -0.741771\n",
       "1246    1.938163\n",
       "2549   -0.476417\n",
       "3983    0.712589\n",
       "5295   -1.442308\n",
       "6591    0.880445\n",
       "7873    0.611765\n",
       "dtype: float64"
      ]
     },
     "execution_count": 112,
     "metadata": {},
     "output_type": "execute_result"
    }
   ],
   "source": [
    "(a[\"اولین\"] - a[\"قیمت پایانی - مقدار\"]) / a[\"اولین\"] *100"
   ]
  },
  {
   "cell_type": "code",
   "execution_count": 123,
   "metadata": {},
   "outputs": [],
   "source": [
    "import numpy as np\n",
    "\n",
    "def MFI(df):\n",
    "    # typical price\n",
    "    df['tp'] = (df['بیشترین']+df['کمترین']+df['قیمت پایانی - مقدار'])/3\n",
    "    #raw money flow\n",
    "    df['rmf'] = df['tp'] * df['حجم']\n",
    "    \n",
    "    # positive and negative money flow\n",
    "    df['pmf'] = np.where(df['tp'] > df['tp'].shift(1), df['tp'], 0)\n",
    "    df['nmf'] = np.where(df['tp'] < df['tp'].shift(1), df['tp'], 0)\n",
    "\n",
    "    # money flow ratio\n",
    "    df['mfr'] = df['pmf'].rolling(window=14,center=False).sum()/df['nmf'].rolling(window=14,center=False).sum()\n",
    "    df['Money_Flow_Index'] = 100 - 100 / (1 + df['mfr'])"
   ]
  },
  {
   "cell_type": "code",
   "execution_count": 125,
   "metadata": {},
   "outputs": [
    {
     "name": "stderr",
     "output_type": "stream",
     "text": [
      "/tmp/ipykernel_229905/3369297976.py:5: SettingWithCopyWarning:\n",
      "\n",
      "\n",
      "A value is trying to be set on a copy of a slice from a DataFrame.\n",
      "Try using .loc[row_indexer,col_indexer] = value instead\n",
      "\n",
      "See the caveats in the documentation: https://pandas.pydata.org/pandas-docs/stable/user_guide/indexing.html#returning-a-view-versus-a-copy\n",
      "\n",
      "/tmp/ipykernel_229905/3369297976.py:7: SettingWithCopyWarning:\n",
      "\n",
      "\n",
      "A value is trying to be set on a copy of a slice from a DataFrame.\n",
      "Try using .loc[row_indexer,col_indexer] = value instead\n",
      "\n",
      "See the caveats in the documentation: https://pandas.pydata.org/pandas-docs/stable/user_guide/indexing.html#returning-a-view-versus-a-copy\n",
      "\n",
      "/tmp/ipykernel_229905/3369297976.py:10: SettingWithCopyWarning:\n",
      "\n",
      "\n",
      "A value is trying to be set on a copy of a slice from a DataFrame.\n",
      "Try using .loc[row_indexer,col_indexer] = value instead\n",
      "\n",
      "See the caveats in the documentation: https://pandas.pydata.org/pandas-docs/stable/user_guide/indexing.html#returning-a-view-versus-a-copy\n",
      "\n",
      "/tmp/ipykernel_229905/3369297976.py:11: SettingWithCopyWarning:\n",
      "\n",
      "\n",
      "A value is trying to be set on a copy of a slice from a DataFrame.\n",
      "Try using .loc[row_indexer,col_indexer] = value instead\n",
      "\n",
      "See the caveats in the documentation: https://pandas.pydata.org/pandas-docs/stable/user_guide/indexing.html#returning-a-view-versus-a-copy\n",
      "\n",
      "/tmp/ipykernel_229905/3369297976.py:14: SettingWithCopyWarning:\n",
      "\n",
      "\n",
      "A value is trying to be set on a copy of a slice from a DataFrame.\n",
      "Try using .loc[row_indexer,col_indexer] = value instead\n",
      "\n",
      "See the caveats in the documentation: https://pandas.pydata.org/pandas-docs/stable/user_guide/indexing.html#returning-a-view-versus-a-copy\n",
      "\n",
      "/tmp/ipykernel_229905/3369297976.py:15: SettingWithCopyWarning:\n",
      "\n",
      "\n",
      "A value is trying to be set on a copy of a slice from a DataFrame.\n",
      "Try using .loc[row_indexer,col_indexer] = value instead\n",
      "\n",
      "See the caveats in the documentation: https://pandas.pydata.org/pandas-docs/stable/user_guide/indexing.html#returning-a-view-versus-a-copy\n",
      "\n"
     ]
    },
    {
     "data": {
      "text/plain": [
       "NoneType"
      ]
     },
     "execution_count": 125,
     "metadata": {},
     "output_type": "execute_result"
    }
   ],
   "source": []
  },
  {
   "cell_type": "code",
   "execution_count": 148,
   "metadata": {},
   "outputs": [],
   "source": [
    "import pathlib\n",
    "import pandas as pd\n",
    "import jdatetime\n",
    "from loguru import logger\n",
    "import re\n",
    "\n",
    "def extract_date_from_file_path(file_path):\n",
    "    pattern = r'(\\d{4}-\\d{2}-\\d{2})'\n",
    "    match = re.search(pattern, file_path)\n",
    "    if match:\n",
    "        extracted_date = match.group(1)\n",
    "        return extracted_date\n",
    "    else:\n",
    "        return None\n",
    "\n",
    "\n",
    "class StockAnalysis:\n",
    "    \n",
    "    def __init__(self, datalake_path):\n",
    "        \n",
    "        self.datalake_path = datalake_path\n",
    "        self.data = self.data_preparation()\n",
    "    \n",
    "    \n",
    "    def data_preparation(self):\n",
    "        datalake_path = pathlib.Path(self.datalake_path)\n",
    "        csv_files = datalake_path.glob('*.csv')\n",
    "        dfs = []\n",
    "\n",
    "        for csv_file in csv_files:\n",
    "            df = pd.read_csv(csv_file)\n",
    "            \n",
    "            \n",
    "            logger.info(f\" Data read from {csv_file} successfully!\")\n",
    "            logger.info(f\" Shape of Data:  {df.shape} successfully!\")\n",
    "            # logger.info(f\" Sample of Data:  {df.sample(3)} successfully!\")\n",
    "            \n",
    "            date = extract_date_from_file_path(str(csv_file))\n",
    "            df[\"تاریخ شمسی\"] = date\n",
    "            df[\"تاریخ میلادی\"] = jdatetime.date.togregorian(jdatetime.datetime.strptime(date, format=\"%Y-%m-%d\"))      \n",
    "            \n",
    "            dfs.append(df)\n",
    "            \n",
    "        concatenated_df = pd.concat(dfs, ignore_index=True)\n",
    "        concatenated_df[\"تاریخ میلادی\"] = pd.to_datetime(concatenated_df[\"تاریخ میلادی\"])\n",
    "\n",
    "        return concatenated_df\n",
    "    \n",
    "    \n",
    "    def get_top_volume_stock_symbols(self, number=10):\n",
    "        return self.data.groupby(\"نماد\")[\"حجم\"].sum().sort_values(ascending=False)[:number]\n",
    "    \n",
    "    def get_top_value_stock_symbols(self, number=10):\n",
    "        return self.data.groupby(\"نماد\")[\"ارزش\"].sum().sort_values(ascending=False)[:number]\n",
    "    \n",
    "    def get_statistical_analysis_by_symbol(self, symbol):\n",
    "        df = self.data\n",
    "        df = df[df['نماد'] == symbol].describe()\n",
    "        \n",
    "        return df.T\n",
    "    \n",
    "    \n",
    "    \n",
    "    \n",
    "    \n",
    "    \n",
    "    \n",
    "\n",
    "        \n",
    "    "
   ]
  },
  {
   "cell_type": "code",
   "execution_count": 149,
   "metadata": {},
   "outputs": [
    {
     "name": "stderr",
     "output_type": "stream",
     "text": [
      "\u001b[32m2024-01-20 08:47:13.400\u001b[0m | \u001b[1mINFO    \u001b[0m | \u001b[36m__main__\u001b[0m:\u001b[36mdata_preparation\u001b[0m:\u001b[36m34\u001b[0m - \u001b[1m Data read from /mnt/c/Users/user/OneDrive/Desktop/data-engineer-roadmap/projects/Filager/src/datalake/tehran_stock_exchange_1402-10-02.csv successfully!\u001b[0m\n",
      "\u001b[32m2024-01-20 08:47:13.401\u001b[0m | \u001b[1mINFO    \u001b[0m | \u001b[36m__main__\u001b[0m:\u001b[36mdata_preparation\u001b[0m:\u001b[36m35\u001b[0m - \u001b[1m Shape of Data:  (1245, 15) successfully!\u001b[0m\n",
      "\u001b[32m2024-01-20 08:47:13.412\u001b[0m | \u001b[1mINFO    \u001b[0m | \u001b[36m__main__\u001b[0m:\u001b[36mdata_preparation\u001b[0m:\u001b[36m34\u001b[0m - \u001b[1m Data read from /mnt/c/Users/user/OneDrive/Desktop/data-engineer-roadmap/projects/Filager/src/datalake/tehran_stock_exchange_1402-10-03.csv successfully!\u001b[0m\n",
      "\u001b[32m2024-01-20 08:47:13.413\u001b[0m | \u001b[1mINFO    \u001b[0m | \u001b[36m__main__\u001b[0m:\u001b[36mdata_preparation\u001b[0m:\u001b[36m35\u001b[0m - \u001b[1m Shape of Data:  (1301, 15) successfully!\u001b[0m\n",
      "\u001b[32m2024-01-20 08:47:13.423\u001b[0m | \u001b[1mINFO    \u001b[0m | \u001b[36m__main__\u001b[0m:\u001b[36mdata_preparation\u001b[0m:\u001b[36m34\u001b[0m - \u001b[1m Data read from /mnt/c/Users/user/OneDrive/Desktop/data-engineer-roadmap/projects/Filager/src/datalake/tehran_stock_exchange_1402-10-04.csv successfully!\u001b[0m\n",
      "\u001b[32m2024-01-20 08:47:13.425\u001b[0m | \u001b[1mINFO    \u001b[0m | \u001b[36m__main__\u001b[0m:\u001b[36mdata_preparation\u001b[0m:\u001b[36m35\u001b[0m - \u001b[1m Shape of Data:  (1435, 15) successfully!\u001b[0m\n",
      "\u001b[32m2024-01-20 08:47:13.439\u001b[0m | \u001b[1mINFO    \u001b[0m | \u001b[36m__main__\u001b[0m:\u001b[36mdata_preparation\u001b[0m:\u001b[36m34\u001b[0m - \u001b[1m Data read from /mnt/c/Users/user/OneDrive/Desktop/data-engineer-roadmap/projects/Filager/src/datalake/tehran_stock_exchange_1402-10-05.csv successfully!\u001b[0m\n",
      "\u001b[32m2024-01-20 08:47:13.441\u001b[0m | \u001b[1mINFO    \u001b[0m | \u001b[36m__main__\u001b[0m:\u001b[36mdata_preparation\u001b[0m:\u001b[36m35\u001b[0m - \u001b[1m Shape of Data:  (1311, 15) successfully!\u001b[0m\n",
      "\u001b[32m2024-01-20 08:47:13.454\u001b[0m | \u001b[1mINFO    \u001b[0m | \u001b[36m__main__\u001b[0m:\u001b[36mdata_preparation\u001b[0m:\u001b[36m34\u001b[0m - \u001b[1m Data read from /mnt/c/Users/user/OneDrive/Desktop/data-engineer-roadmap/projects/Filager/src/datalake/tehran_stock_exchange_1402-10-06.csv successfully!\u001b[0m\n",
      "\u001b[32m2024-01-20 08:47:13.455\u001b[0m | \u001b[1mINFO    \u001b[0m | \u001b[36m__main__\u001b[0m:\u001b[36mdata_preparation\u001b[0m:\u001b[36m35\u001b[0m - \u001b[1m Shape of Data:  (1299, 15) successfully!\u001b[0m\n"
     ]
    },
    {
     "name": "stderr",
     "output_type": "stream",
     "text": [
      "\u001b[32m2024-01-20 08:47:13.469\u001b[0m | \u001b[1mINFO    \u001b[0m | \u001b[36m__main__\u001b[0m:\u001b[36mdata_preparation\u001b[0m:\u001b[36m34\u001b[0m - \u001b[1m Data read from /mnt/c/Users/user/OneDrive/Desktop/data-engineer-roadmap/projects/Filager/src/datalake/tehran_stock_exchange_1402-10-09.csv successfully!\u001b[0m\n",
      "\u001b[32m2024-01-20 08:47:13.470\u001b[0m | \u001b[1mINFO    \u001b[0m | \u001b[36m__main__\u001b[0m:\u001b[36mdata_preparation\u001b[0m:\u001b[36m35\u001b[0m - \u001b[1m Shape of Data:  (1280, 15) successfully!\u001b[0m\n",
      "\u001b[32m2024-01-20 08:47:13.485\u001b[0m | \u001b[1mINFO    \u001b[0m | \u001b[36m__main__\u001b[0m:\u001b[36mdata_preparation\u001b[0m:\u001b[36m34\u001b[0m - \u001b[1m Data read from /mnt/c/Users/user/OneDrive/Desktop/data-engineer-roadmap/projects/Filager/src/datalake/tehran_stock_exchange_1402-10-10.csv successfully!\u001b[0m\n",
      "\u001b[32m2024-01-20 08:47:13.486\u001b[0m | \u001b[1mINFO    \u001b[0m | \u001b[36m__main__\u001b[0m:\u001b[36mdata_preparation\u001b[0m:\u001b[36m35\u001b[0m - \u001b[1m Shape of Data:  (1312, 15) successfully!\u001b[0m\n"
     ]
    }
   ],
   "source": [
    "obj = StockAnalysis(\"/mnt/c/Users/user/OneDrive/Desktop/data-engineer-roadmap/projects/Filager/src/datalake\")"
   ]
  },
  {
   "cell_type": "code",
   "execution_count": 150,
   "metadata": {},
   "outputs": [
    {
     "data": {
      "text/html": [
       "<div>\n",
       "<style scoped>\n",
       "    .dataframe tbody tr th:only-of-type {\n",
       "        vertical-align: middle;\n",
       "    }\n",
       "\n",
       "    .dataframe tbody tr th {\n",
       "        vertical-align: top;\n",
       "    }\n",
       "\n",
       "    .dataframe thead th {\n",
       "        text-align: right;\n",
       "    }\n",
       "</style>\n",
       "<table border=\"1\" class=\"dataframe\">\n",
       "  <thead>\n",
       "    <tr style=\"text-align: right;\">\n",
       "      <th></th>\n",
       "      <th>count</th>\n",
       "      <th>mean</th>\n",
       "      <th>min</th>\n",
       "      <th>25%</th>\n",
       "      <th>50%</th>\n",
       "      <th>75%</th>\n",
       "      <th>max</th>\n",
       "      <th>std</th>\n",
       "    </tr>\n",
       "  </thead>\n",
       "  <tbody>\n",
       "    <tr>\n",
       "      <th>تعداد</th>\n",
       "      <td>7.0</td>\n",
       "      <td>10215.714286</td>\n",
       "      <td>4543.0</td>\n",
       "      <td>6109.0</td>\n",
       "      <td>7858.0</td>\n",
       "      <td>12493.0</td>\n",
       "      <td>21905.0</td>\n",
       "      <td>6192.447489</td>\n",
       "    </tr>\n",
       "    <tr>\n",
       "      <th>حجم</th>\n",
       "      <td>7.0</td>\n",
       "      <td>764165477.857143</td>\n",
       "      <td>344142575.0</td>\n",
       "      <td>511849472.0</td>\n",
       "      <td>547934313.0</td>\n",
       "      <td>887645843.0</td>\n",
       "      <td>1658090827.0</td>\n",
       "      <td>445877578.309892</td>\n",
       "    </tr>\n",
       "    <tr>\n",
       "      <th>ارزش</th>\n",
       "      <td>7.0</td>\n",
       "      <td>816579163730.285767</td>\n",
       "      <td>367758376610.0</td>\n",
       "      <td>551397073224.0</td>\n",
       "      <td>575842148896.0</td>\n",
       "      <td>949440326757.0</td>\n",
       "      <td>1770778820644.0</td>\n",
       "      <td>476001110306.693054</td>\n",
       "    </tr>\n",
       "    <tr>\n",
       "      <th>دیروز</th>\n",
       "      <td>7.0</td>\n",
       "      <td>1057.714286</td>\n",
       "      <td>1000.0</td>\n",
       "      <td>1059.0</td>\n",
       "      <td>1068.0</td>\n",
       "      <td>1071.0</td>\n",
       "      <td>1076.0</td>\n",
       "      <td>26.656546</td>\n",
       "    </tr>\n",
       "    <tr>\n",
       "      <th>اولین</th>\n",
       "      <td>7.0</td>\n",
       "      <td>1076.0</td>\n",
       "      <td>1056.0</td>\n",
       "      <td>1069.0</td>\n",
       "      <td>1079.0</td>\n",
       "      <td>1084.5</td>\n",
       "      <td>1090.0</td>\n",
       "      <td>12.179217</td>\n",
       "    </tr>\n",
       "    <tr>\n",
       "      <th>آخرین معامله - مقدار</th>\n",
       "      <td>7.0</td>\n",
       "      <td>1066.428571</td>\n",
       "      <td>1037.0</td>\n",
       "      <td>1060.0</td>\n",
       "      <td>1067.0</td>\n",
       "      <td>1077.0</td>\n",
       "      <td>1087.0</td>\n",
       "      <td>16.511179</td>\n",
       "    </tr>\n",
       "    <tr>\n",
       "      <th>آخرین معامله - تغییر</th>\n",
       "      <td>7.0</td>\n",
       "      <td>8.714286</td>\n",
       "      <td>-31.0</td>\n",
       "      <td>1.0</td>\n",
       "      <td>3.0</td>\n",
       "      <td>11.5</td>\n",
       "      <td>64.0</td>\n",
       "      <td>28.540698</td>\n",
       "    </tr>\n",
       "    <tr>\n",
       "      <th>آخرین معامله - درصد</th>\n",
       "      <td>7.0</td>\n",
       "      <td>0.875714</td>\n",
       "      <td>-2.9</td>\n",
       "      <td>0.095</td>\n",
       "      <td>0.28</td>\n",
       "      <td>1.08</td>\n",
       "      <td>6.4</td>\n",
       "      <td>2.803842</td>\n",
       "    </tr>\n",
       "    <tr>\n",
       "      <th>قیمت پایانی - مقدار</th>\n",
       "      <td>7.0</td>\n",
       "      <td>1068.857143</td>\n",
       "      <td>1051.0</td>\n",
       "      <td>1067.5</td>\n",
       "      <td>1069.0</td>\n",
       "      <td>1074.5</td>\n",
       "      <td>1078.0</td>\n",
       "      <td>8.896227</td>\n",
       "    </tr>\n",
       "    <tr>\n",
       "      <th>قیمت پایانی - تغییر</th>\n",
       "      <td>7.0</td>\n",
       "      <td>11.142857</td>\n",
       "      <td>-17.0</td>\n",
       "      <td>2.0</td>\n",
       "      <td>3.0</td>\n",
       "      <td>10.0</td>\n",
       "      <td>68.0</td>\n",
       "      <td>26.872716</td>\n",
       "    </tr>\n",
       "    <tr>\n",
       "      <th>قیمت پایانی - درصد</th>\n",
       "      <td>7.0</td>\n",
       "      <td>1.108571</td>\n",
       "      <td>-1.59</td>\n",
       "      <td>0.19</td>\n",
       "      <td>0.28</td>\n",
       "      <td>0.945</td>\n",
       "      <td>6.8</td>\n",
       "      <td>2.669691</td>\n",
       "    </tr>\n",
       "    <tr>\n",
       "      <th>کمترین</th>\n",
       "      <td>7.0</td>\n",
       "      <td>1058.142857</td>\n",
       "      <td>1032.0</td>\n",
       "      <td>1046.5</td>\n",
       "      <td>1063.0</td>\n",
       "      <td>1071.5</td>\n",
       "      <td>1076.0</td>\n",
       "      <td>17.733477</td>\n",
       "    </tr>\n",
       "    <tr>\n",
       "      <th>بیشترین</th>\n",
       "      <td>7.0</td>\n",
       "      <td>1088.0</td>\n",
       "      <td>1075.0</td>\n",
       "      <td>1080.5</td>\n",
       "      <td>1082.0</td>\n",
       "      <td>1089.5</td>\n",
       "      <td>1119.0</td>\n",
       "      <td>14.628739</td>\n",
       "    </tr>\n",
       "    <tr>\n",
       "      <th>تاریخ میلادی</th>\n",
       "      <td>7</td>\n",
       "      <td>2023-12-26 13:42:51.428571392</td>\n",
       "      <td>2023-12-23 00:00:00</td>\n",
       "      <td>2023-12-24 12:00:00</td>\n",
       "      <td>2023-12-26 00:00:00</td>\n",
       "      <td>2023-12-28 12:00:00</td>\n",
       "      <td>2023-12-31 00:00:00</td>\n",
       "      <td>NaN</td>\n",
       "    </tr>\n",
       "  </tbody>\n",
       "</table>\n",
       "</div>"
      ],
      "text/plain": [
       "                     count                           mean  \\\n",
       "تعداد                  7.0                   10215.714286   \n",
       "حجم                    7.0               764165477.857143   \n",
       "ارزش                   7.0            816579163730.285767   \n",
       "دیروز                  7.0                    1057.714286   \n",
       "اولین                  7.0                         1076.0   \n",
       "آخرین معامله - مقدار   7.0                    1066.428571   \n",
       "آخرین معامله - تغییر   7.0                       8.714286   \n",
       "آخرین معامله - درصد    7.0                       0.875714   \n",
       "قیمت پایانی - مقدار    7.0                    1068.857143   \n",
       "قیمت پایانی - تغییر    7.0                      11.142857   \n",
       "قیمت پایانی - درصد     7.0                       1.108571   \n",
       "کمترین                 7.0                    1058.142857   \n",
       "بیشترین                7.0                         1088.0   \n",
       "تاریخ میلادی             7  2023-12-26 13:42:51.428571392   \n",
       "\n",
       "                                      min                  25%  \\\n",
       "تعداد                              4543.0               6109.0   \n",
       "حجم                           344142575.0          511849472.0   \n",
       "ارزش                       367758376610.0       551397073224.0   \n",
       "دیروز                              1000.0               1059.0   \n",
       "اولین                              1056.0               1069.0   \n",
       "آخرین معامله - مقدار               1037.0               1060.0   \n",
       "آخرین معامله - تغییر                -31.0                  1.0   \n",
       "آخرین معامله - درصد                  -2.9                0.095   \n",
       "قیمت پایانی - مقدار                1051.0               1067.5   \n",
       "قیمت پایانی - تغییر                 -17.0                  2.0   \n",
       "قیمت پایانی - درصد                  -1.59                 0.19   \n",
       "کمترین                             1032.0               1046.5   \n",
       "بیشترین                            1075.0               1080.5   \n",
       "تاریخ میلادی          2023-12-23 00:00:00  2023-12-24 12:00:00   \n",
       "\n",
       "                                      50%                  75%  \\\n",
       "تعداد                              7858.0              12493.0   \n",
       "حجم                           547934313.0          887645843.0   \n",
       "ارزش                       575842148896.0       949440326757.0   \n",
       "دیروز                              1068.0               1071.0   \n",
       "اولین                              1079.0               1084.5   \n",
       "آخرین معامله - مقدار               1067.0               1077.0   \n",
       "آخرین معامله - تغییر                  3.0                 11.5   \n",
       "آخرین معامله - درصد                  0.28                 1.08   \n",
       "قیمت پایانی - مقدار                1069.0               1074.5   \n",
       "قیمت پایانی - تغییر                   3.0                 10.0   \n",
       "قیمت پایانی - درصد                   0.28                0.945   \n",
       "کمترین                             1063.0               1071.5   \n",
       "بیشترین                            1082.0               1089.5   \n",
       "تاریخ میلادی          2023-12-26 00:00:00  2023-12-28 12:00:00   \n",
       "\n",
       "                                      max                  std  \n",
       "تعداد                             21905.0          6192.447489  \n",
       "حجم                          1658090827.0     445877578.309892  \n",
       "ارزش                      1770778820644.0  476001110306.693054  \n",
       "دیروز                              1076.0            26.656546  \n",
       "اولین                              1090.0            12.179217  \n",
       "آخرین معامله - مقدار               1087.0            16.511179  \n",
       "آخرین معامله - تغییر                 64.0            28.540698  \n",
       "آخرین معامله - درصد                   6.4             2.803842  \n",
       "قیمت پایانی - مقدار                1078.0             8.896227  \n",
       "قیمت پایانی - تغییر                  68.0            26.872716  \n",
       "قیمت پایانی - درصد                    6.8             2.669691  \n",
       "کمترین                             1076.0            17.733477  \n",
       "بیشترین                            1119.0            14.628739  \n",
       "تاریخ میلادی          2023-12-31 00:00:00                  NaN  "
      ]
     },
     "execution_count": 150,
     "metadata": {},
     "output_type": "execute_result"
    }
   ],
   "source": [
    "obj.get_statistical_analysis_by_symbol(\"دي\")"
   ]
  },
  {
   "cell_type": "code",
   "execution_count": 143,
   "metadata": {},
   "outputs": [
    {
     "data": {
      "text/html": [
       "<div>\n",
       "<style scoped>\n",
       "    .dataframe tbody tr th:only-of-type {\n",
       "        vertical-align: middle;\n",
       "    }\n",
       "\n",
       "    .dataframe tbody tr th {\n",
       "        vertical-align: top;\n",
       "    }\n",
       "\n",
       "    .dataframe thead th {\n",
       "        text-align: right;\n",
       "    }\n",
       "</style>\n",
       "<table border=\"1\" class=\"dataframe\">\n",
       "  <thead>\n",
       "    <tr style=\"text-align: right;\">\n",
       "      <th></th>\n",
       "      <th>نماد</th>\n",
       "      <th>نام</th>\n",
       "      <th>تعداد</th>\n",
       "      <th>حجم</th>\n",
       "      <th>ارزش</th>\n",
       "      <th>دیروز</th>\n",
       "      <th>اولین</th>\n",
       "      <th>آخرین معامله - مقدار</th>\n",
       "      <th>آخرین معامله - تغییر</th>\n",
       "      <th>آخرین معامله - درصد</th>\n",
       "      <th>قیمت پایانی - مقدار</th>\n",
       "      <th>قیمت پایانی - تغییر</th>\n",
       "      <th>قیمت پایانی - درصد</th>\n",
       "      <th>کمترین</th>\n",
       "      <th>بیشترین</th>\n",
       "      <th>تاریخ شمسی</th>\n",
       "      <th>تاریخ میلادی</th>\n",
       "      <th>Daily_Return</th>\n",
       "    </tr>\n",
       "  </thead>\n",
       "  <tbody>\n",
       "    <tr>\n",
       "      <th>0</th>\n",
       "      <td>دي</td>\n",
       "      <td>بانك دي</td>\n",
       "      <td>21905</td>\n",
       "      <td>1658090827</td>\n",
       "      <td>1770778820644</td>\n",
       "      <td>1000</td>\n",
       "      <td>1089</td>\n",
       "      <td>1064</td>\n",
       "      <td>64</td>\n",
       "      <td>6.40</td>\n",
       "      <td>1068</td>\n",
       "      <td>68</td>\n",
       "      <td>6.80</td>\n",
       "      <td>1057</td>\n",
       "      <td>1119</td>\n",
       "      <td>1402-10-02</td>\n",
       "      <td>2023-12-23</td>\n",
       "      <td>NaN</td>\n",
       "    </tr>\n",
       "    <tr>\n",
       "      <th>1</th>\n",
       "      <td>كروميت</td>\n",
       "      <td>توسعه معادن كروميت كاوندگان</td>\n",
       "      <td>17801</td>\n",
       "      <td>76610745</td>\n",
       "      <td>996189539570</td>\n",
       "      <td>12550</td>\n",
       "      <td>12940</td>\n",
       "      <td>12700</td>\n",
       "      <td>150</td>\n",
       "      <td>1.20</td>\n",
       "      <td>13000</td>\n",
       "      <td>450</td>\n",
       "      <td>3.59</td>\n",
       "      <td>12500</td>\n",
       "      <td>13170</td>\n",
       "      <td>1402-10-02</td>\n",
       "      <td>2023-12-23</td>\n",
       "      <td>NaN</td>\n",
       "    </tr>\n",
       "    <tr>\n",
       "      <th>2</th>\n",
       "      <td>اهرم</td>\n",
       "      <td>صندوق س سهامي كاريزما- اهرمي</td>\n",
       "      <td>11348</td>\n",
       "      <td>120413172</td>\n",
       "      <td>2616918044630</td>\n",
       "      <td>21630</td>\n",
       "      <td>21570</td>\n",
       "      <td>21620</td>\n",
       "      <td>-10</td>\n",
       "      <td>-0.05</td>\n",
       "      <td>21730</td>\n",
       "      <td>100</td>\n",
       "      <td>0.46</td>\n",
       "      <td>21450</td>\n",
       "      <td>21950</td>\n",
       "      <td>1402-10-02</td>\n",
       "      <td>2023-12-23</td>\n",
       "      <td>NaN</td>\n",
       "    </tr>\n",
       "    <tr>\n",
       "      <th>3</th>\n",
       "      <td>دارا يكم</td>\n",
       "      <td>صندوق واسطه گري مالي يكم-سهام</td>\n",
       "      <td>9405</td>\n",
       "      <td>7645507</td>\n",
       "      <td>1367886108350</td>\n",
       "      <td>177100</td>\n",
       "      <td>177450</td>\n",
       "      <td>178750</td>\n",
       "      <td>1650</td>\n",
       "      <td>0.93</td>\n",
       "      <td>178910</td>\n",
       "      <td>1810</td>\n",
       "      <td>1.02</td>\n",
       "      <td>176160</td>\n",
       "      <td>180850</td>\n",
       "      <td>1402-10-02</td>\n",
       "      <td>2023-12-23</td>\n",
       "      <td>NaN</td>\n",
       "    </tr>\n",
       "    <tr>\n",
       "      <th>4</th>\n",
       "      <td>تسه1402</td>\n",
       "      <td>امتيازتسهيلات مسكن سال1402</td>\n",
       "      <td>9207</td>\n",
       "      <td>579747</td>\n",
       "      <td>681234700824</td>\n",
       "      <td>1177937</td>\n",
       "      <td>1178000</td>\n",
       "      <td>1183000</td>\n",
       "      <td>5063</td>\n",
       "      <td>0.43</td>\n",
       "      <td>1175055</td>\n",
       "      <td>-2882</td>\n",
       "      <td>-0.24</td>\n",
       "      <td>1145000</td>\n",
       "      <td>1200000</td>\n",
       "      <td>1402-10-02</td>\n",
       "      <td>2023-12-23</td>\n",
       "      <td>NaN</td>\n",
       "    </tr>\n",
       "    <tr>\n",
       "      <th>...</th>\n",
       "      <td>...</td>\n",
       "      <td>...</td>\n",
       "      <td>...</td>\n",
       "      <td>...</td>\n",
       "      <td>...</td>\n",
       "      <td>...</td>\n",
       "      <td>...</td>\n",
       "      <td>...</td>\n",
       "      <td>...</td>\n",
       "      <td>...</td>\n",
       "      <td>...</td>\n",
       "      <td>...</td>\n",
       "      <td>...</td>\n",
       "      <td>...</td>\n",
       "      <td>...</td>\n",
       "      <td>...</td>\n",
       "      <td>...</td>\n",
       "      <td>...</td>\n",
       "    </tr>\n",
       "    <tr>\n",
       "      <th>9178</th>\n",
       "      <td>فزر2</td>\n",
       "      <td>پويا زركان آق دره</td>\n",
       "      <td>1</td>\n",
       "      <td>800000</td>\n",
       "      <td>37320000000</td>\n",
       "      <td>46850</td>\n",
       "      <td>46650</td>\n",
       "      <td>46650</td>\n",
       "      <td>-200</td>\n",
       "      <td>-0.43</td>\n",
       "      <td>46650</td>\n",
       "      <td>-200</td>\n",
       "      <td>-0.43</td>\n",
       "      <td>46650</td>\n",
       "      <td>46650</td>\n",
       "      <td>1402-10-10</td>\n",
       "      <td>2023-12-31</td>\n",
       "      <td>0.007559</td>\n",
       "    </tr>\n",
       "    <tr>\n",
       "      <th>9179</th>\n",
       "      <td>ضشنا1208</td>\n",
       "      <td>اختيارخ شپنا-11000-1402/12/02</td>\n",
       "      <td>1</td>\n",
       "      <td>1000</td>\n",
       "      <td>25000000</td>\n",
       "      <td>109</td>\n",
       "      <td>25</td>\n",
       "      <td>25</td>\n",
       "      <td>-84</td>\n",
       "      <td>-77.06</td>\n",
       "      <td>25</td>\n",
       "      <td>-84</td>\n",
       "      <td>-77.06</td>\n",
       "      <td>25</td>\n",
       "      <td>25</td>\n",
       "      <td>1402-10-10</td>\n",
       "      <td>2023-12-31</td>\n",
       "      <td>-0.770642</td>\n",
       "    </tr>\n",
       "    <tr>\n",
       "      <th>9180</th>\n",
       "      <td>ضخود0115</td>\n",
       "      <td>اختيارخ خودرو-1900-1403/01/08</td>\n",
       "      <td>1</td>\n",
       "      <td>10</td>\n",
       "      <td>10450000</td>\n",
       "      <td>1070</td>\n",
       "      <td>1045</td>\n",
       "      <td>1045</td>\n",
       "      <td>-25</td>\n",
       "      <td>-2.34</td>\n",
       "      <td>1045</td>\n",
       "      <td>-25</td>\n",
       "      <td>-2.34</td>\n",
       "      <td>1045</td>\n",
       "      <td>1045</td>\n",
       "      <td>1402-10-10</td>\n",
       "      <td>2023-12-31</td>\n",
       "      <td>-0.023364</td>\n",
       "    </tr>\n",
       "    <tr>\n",
       "      <th>9181</th>\n",
       "      <td>عقيق2</td>\n",
       "      <td>صندوق سرمايه گذاري عقيق-سهام</td>\n",
       "      <td>1</td>\n",
       "      <td>400000</td>\n",
       "      <td>400000</td>\n",
       "      <td>78700</td>\n",
       "      <td>1</td>\n",
       "      <td>1</td>\n",
       "      <td>-78699</td>\n",
       "      <td>-100.00</td>\n",
       "      <td>1</td>\n",
       "      <td>-78699</td>\n",
       "      <td>-100.00</td>\n",
       "      <td>1</td>\n",
       "      <td>1</td>\n",
       "      <td>1402-10-10</td>\n",
       "      <td>2023-12-31</td>\n",
       "      <td>0.000000</td>\n",
       "    </tr>\n",
       "    <tr>\n",
       "      <th>9182</th>\n",
       "      <td>شسپا2</td>\n",
       "      <td>نفت سپاهان</td>\n",
       "      <td>1</td>\n",
       "      <td>4000000</td>\n",
       "      <td>20000000000</td>\n",
       "      <td>5030</td>\n",
       "      <td>5000</td>\n",
       "      <td>5000</td>\n",
       "      <td>-30</td>\n",
       "      <td>-0.60</td>\n",
       "      <td>5000</td>\n",
       "      <td>-30</td>\n",
       "      <td>-0.60</td>\n",
       "      <td>5000</td>\n",
       "      <td>5000</td>\n",
       "      <td>1402-10-10</td>\n",
       "      <td>2023-12-31</td>\n",
       "      <td>NaN</td>\n",
       "    </tr>\n",
       "  </tbody>\n",
       "</table>\n",
       "<p>9183 rows × 18 columns</p>\n",
       "</div>"
      ],
      "text/plain": [
       "          نماد                            نام  تعداد         حجم  \\\n",
       "0           دي                        بانك دي  21905  1658090827   \n",
       "1       كروميت    توسعه معادن كروميت كاوندگان  17801    76610745   \n",
       "2         اهرم   صندوق س سهامي كاريزما- اهرمي  11348   120413172   \n",
       "3     دارا يكم  صندوق واسطه گري مالي يكم-سهام   9405     7645507   \n",
       "4      تسه1402     امتيازتسهيلات مسكن سال1402   9207      579747   \n",
       "...        ...                            ...    ...         ...   \n",
       "9178      فزر2              پويا زركان آق دره      1      800000   \n",
       "9179  ضشنا1208  اختيارخ شپنا-11000-1402/12/02      1        1000   \n",
       "9180  ضخود0115  اختيارخ خودرو-1900-1403/01/08      1          10   \n",
       "9181     عقيق2   صندوق سرمايه گذاري عقيق-سهام      1      400000   \n",
       "9182     شسپا2                     نفت سپاهان      1     4000000   \n",
       "\n",
       "               ارزش    دیروز    اولین  آخرین معامله - مقدار  \\\n",
       "0     1770778820644     1000     1089                  1064   \n",
       "1      996189539570    12550    12940                 12700   \n",
       "2     2616918044630    21630    21570                 21620   \n",
       "3     1367886108350   177100   177450                178750   \n",
       "4      681234700824  1177937  1178000               1183000   \n",
       "...             ...      ...      ...                   ...   \n",
       "9178    37320000000    46850    46650                 46650   \n",
       "9179       25000000      109       25                    25   \n",
       "9180       10450000     1070     1045                  1045   \n",
       "9181         400000    78700        1                     1   \n",
       "9182    20000000000     5030     5000                  5000   \n",
       "\n",
       "      آخرین معامله - تغییر  آخرین معامله - درصد  قیمت پایانی - مقدار  \\\n",
       "0                       64                 6.40                 1068   \n",
       "1                      150                 1.20                13000   \n",
       "2                      -10                -0.05                21730   \n",
       "3                     1650                 0.93               178910   \n",
       "4                     5063                 0.43              1175055   \n",
       "...                    ...                  ...                  ...   \n",
       "9178                  -200                -0.43                46650   \n",
       "9179                   -84               -77.06                   25   \n",
       "9180                   -25                -2.34                 1045   \n",
       "9181                -78699              -100.00                    1   \n",
       "9182                   -30                -0.60                 5000   \n",
       "\n",
       "      قیمت پایانی - تغییر  قیمت پایانی - درصد   کمترین  بیشترین  تاریخ شمسی  \\\n",
       "0                      68                6.80     1057     1119  1402-10-02   \n",
       "1                     450                3.59    12500    13170  1402-10-02   \n",
       "2                     100                0.46    21450    21950  1402-10-02   \n",
       "3                    1810                1.02   176160   180850  1402-10-02   \n",
       "4                   -2882               -0.24  1145000  1200000  1402-10-02   \n",
       "...                   ...                 ...      ...      ...         ...   \n",
       "9178                 -200               -0.43    46650    46650  1402-10-10   \n",
       "9179                  -84              -77.06       25       25  1402-10-10   \n",
       "9180                  -25               -2.34     1045     1045  1402-10-10   \n",
       "9181               -78699             -100.00        1        1  1402-10-10   \n",
       "9182                  -30               -0.60     5000     5000  1402-10-10   \n",
       "\n",
       "     تاریخ میلادی  Daily_Return  \n",
       "0      2023-12-23           NaN  \n",
       "1      2023-12-23           NaN  \n",
       "2      2023-12-23           NaN  \n",
       "3      2023-12-23           NaN  \n",
       "4      2023-12-23           NaN  \n",
       "...           ...           ...  \n",
       "9178   2023-12-31      0.007559  \n",
       "9179   2023-12-31     -0.770642  \n",
       "9180   2023-12-31     -0.023364  \n",
       "9181   2023-12-31      0.000000  \n",
       "9182   2023-12-31           NaN  \n",
       "\n",
       "[9183 rows x 18 columns]"
      ]
     },
     "execution_count": 143,
     "metadata": {},
     "output_type": "execute_result"
    }
   ],
   "source": [
    "df"
   ]
  },
  {
   "cell_type": "code",
   "execution_count": null,
   "metadata": {},
   "outputs": [],
   "source": []
  }
 ],
 "metadata": {
  "kernelspec": {
   "display_name": "ai_blog",
   "language": "python",
   "name": "python3"
  },
  "language_info": {
   "codemirror_mode": {
    "name": "ipython",
    "version": 3
   },
   "file_extension": ".py",
   "mimetype": "text/x-python",
   "name": "python",
   "nbconvert_exporter": "python",
   "pygments_lexer": "ipython3",
   "version": "3.10.13"
  }
 },
 "nbformat": 4,
 "nbformat_minor": 2
}
