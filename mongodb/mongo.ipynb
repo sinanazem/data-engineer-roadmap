{
 "cells": [
  {
   "cell_type": "code",
   "execution_count": 4,
   "metadata": {},
   "outputs": [],
   "source": [
    "# import json\n",
    "# import requests"
   ]
  },
  {
   "cell_type": "markdown",
   "metadata": {},
   "source": [
    "## Read Nobel Data"
   ]
  },
  {
   "cell_type": "code",
   "execution_count": null,
   "metadata": {},
   "outputs": [],
   "source": [
    "# Nobel Data from DataCamp\n",
    "\n",
    "# # prizes\n",
    "# response_prizes = requests.get(\n",
    "#     \"https://assets.datacamp.com/production/repositories/1838/ \\\n",
    "#     datasets/3fde64719bc3226b593a1c261f715566ea6284b2/prizes.json\")\n",
    "\n",
    "# # laureates\n",
    "# response_laureates = requests.get(\n",
    "#     \"https://assets.datacamp.com/production/repositories/1838/ \\\n",
    "#     datasets/f402fa7be837b9cd4890f4e1c59a7377693ba36c/laureates.json\")\n",
    "\n",
    "# data_prizes = response_prizes.json()\n",
    "# data_laureates = response_laureates.json()"
   ]
  },
  {
   "cell_type": "markdown",
   "metadata": {},
   "source": [
    "### Helper Functions"
   ]
  },
  {
   "cell_type": "code",
   "execution_count": 13,
   "metadata": {},
   "outputs": [],
   "source": [
    "# def write_json(file_path, data):\n",
    "#     with open(file_path, \"w\") as f:\n",
    "#         json.dump(data, f, indent=4)\n",
    "\n",
    "\n",
    "# def read_json(file_path):\n",
    "#     with open(file_path) as f:\n",
    "#         data = json.load(f)\n",
    "#     return data"
   ]
  },
  {
   "cell_type": "code",
   "execution_count": null,
   "metadata": {},
   "outputs": [],
   "source": [
    "# store in JSON file\n",
    "# DATA_DIR = \"/mnt/c/Users/user/OneDrive/Desktop\"\n",
    "# write_json(DATA_DIR + \"nobel.json\", data_prizes)\n",
    "# write_json(DATA_DIR + \"nobel_laureates.json\", data_laureates)"
   ]
  },
  {
   "cell_type": "code",
   "execution_count": null,
   "metadata": {},
   "outputs": [],
   "source": [
    "# DATA_DIR = \"/mnt/c/Users/user/OneDrive/Desktop\"\n",
    "# data_prizes = read_json(DATA_DIR + \"nobel.json\")\n",
    "# data_laureates = read_json(DATA_DIR + \"nobel_laureates.json\")"
   ]
  },
  {
   "cell_type": "markdown",
   "metadata": {},
   "source": [
    "## Connect to MongoDB with Python"
   ]
  },
  {
   "cell_type": "code",
   "execution_count": 15,
   "metadata": {},
   "outputs": [],
   "source": [
    "from pymongo import MongoClient"
   ]
  },
  {
   "cell_type": "code",
   "execution_count": 14,
   "metadata": {},
   "outputs": [
    {
     "data": {
      "text/plain": [
       "<pymongo.results.InsertManyResult at 0x7f4fa6f2f460>"
      ]
     },
     "execution_count": 14,
     "metadata": {},
     "output_type": "execute_result"
    }
   ],
   "source": [
    "client = MongoClient()\n",
    "db = client['nobel']\n",
    "# db[\"laureates\"].insert_many(data)"
   ]
  },
  {
   "cell_type": "code",
   "execution_count": 20,
   "metadata": {},
   "outputs": [
    {
     "name": "stdout",
     "output_type": "stream",
     "text": [
      "590\n",
      "934\n"
     ]
    }
   ],
   "source": [
    "# filter\n",
    "filter_ = {}\n",
    "\n",
    "# count document in a collection\n",
    "print( db.prizes.count_documents(filter_))\n",
    "print( db.laureates.count_documents(filter_))"
   ]
  },
  {
   "cell_type": "code",
   "execution_count": 22,
   "metadata": {},
   "outputs": [
    {
     "data": {
      "text/plain": [
       "{'_id': ObjectId('64a48047d22c3e6dfe0d309e'),\n",
       " 'year': '2018',\n",
       " 'category': 'physics',\n",
       " 'overallMotivation': '“for groundbreaking inventions in the field of laser physics”',\n",
       " 'laureates': [{'id': '960',\n",
       "   'firstname': 'Arthur',\n",
       "   'surname': 'Ashkin',\n",
       "   'motivation': '\"for the optical tweezers and their application to biological systems\"',\n",
       "   'share': '2'},\n",
       "  {'id': '961',\n",
       "   'firstname': 'Gérard',\n",
       "   'surname': 'Mourou',\n",
       "   'motivation': '\"for their method of generating high-intensity, ultra-short optical pulses\"',\n",
       "   'share': '4'},\n",
       "  {'id': '962',\n",
       "   'firstname': 'Donna',\n",
       "   'surname': 'Strickland',\n",
       "   'motivation': '\"for their method of generating high-intensity, ultra-short optical pulses\"',\n",
       "   'share': '4'}]}"
      ]
     },
     "execution_count": 22,
     "metadata": {},
     "output_type": "execute_result"
    }
   ],
   "source": [
    "# find one document\n",
    "db.prizes.find_one(filter_)"
   ]
  },
  {
   "cell_type": "code",
   "execution_count": 24,
   "metadata": {},
   "outputs": [
    {
     "data": {
      "text/plain": [
       "['admin',\n",
       " 'config',\n",
       " 'isfahan_university',\n",
       " 'local',\n",
       " 'nobel',\n",
       " 'tehran_university']"
      ]
     },
     "execution_count": 24,
     "metadata": {},
     "output_type": "execute_result"
    }
   ],
   "source": [
    "client.list_database_names()"
   ]
  },
  {
   "cell_type": "code",
   "execution_count": 25,
   "metadata": {},
   "outputs": [
    {
     "data": {
      "text/plain": [
       "['prizes', 'laureates']"
      ]
     },
     "execution_count": 25,
     "metadata": {},
     "output_type": "execute_result"
    }
   ],
   "source": [
    "client.nobel.list_collection_names()"
   ]
  },
  {
   "cell_type": "code",
   "execution_count": 26,
   "metadata": {},
   "outputs": [
    {
     "data": {
      "text/plain": [
       "<pymongo.cursor.Cursor at 0x7f4fa405a760>"
      ]
     },
     "execution_count": 26,
     "metadata": {},
     "output_type": "execute_result"
    }
   ],
   "source": [
    "db.laureates.find({})"
   ]
  },
  {
   "cell_type": "code",
   "execution_count": null,
   "metadata": {},
   "outputs": [],
   "source": []
  }
 ],
 "metadata": {
  "kernelspec": {
   "display_name": "py39",
   "language": "python",
   "name": "python3"
  },
  "language_info": {
   "codemirror_mode": {
    "name": "ipython",
    "version": 3
   },
   "file_extension": ".py",
   "mimetype": "text/x-python",
   "name": "python",
   "nbconvert_exporter": "python",
   "pygments_lexer": "ipython3",
   "version": "3.9.16"
  },
  "orig_nbformat": 4
 },
 "nbformat": 4,
 "nbformat_minor": 2
}
