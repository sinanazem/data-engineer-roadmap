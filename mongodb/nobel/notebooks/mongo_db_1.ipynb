{
 "cells": [
  {
   "cell_type": "markdown",
   "id": "1b7bfe09-9683-4417-beda-cc49932f74f8",
   "metadata": {},
   "source": [
    "# Data Crawling"
   ]
  },
  {
   "cell_type": "code",
   "execution_count": 1,
   "id": "43e96123-7021-4af7-8bc8-1ba45ff12091",
   "metadata": {},
   "outputs": [],
   "source": [
    "from loguru import logger\n",
    "import requests\n",
    "from pymongo import MongoClient"
   ]
  },
  {
   "cell_type": "code",
   "execution_count": 2,
   "id": "d4e2f9dd-b5a7-424c-9443-b4c54a9f6ba7",
   "metadata": {},
   "outputs": [],
   "source": [
    "def get_json_from_url(url):\n",
    "    response = requests.get(url)\n",
    "    response.raise_for_status()\n",
    "    return response.json()\n",
    "\n",
    "def insert_data_into_collection(db, collection_name, data):\n",
    "    collection = db[collection_name]\n",
    "    collection.insert_many(data)\n",
    "    return collection.count_documents({})\n",
    "\n",
    "def nobel_data_crawler():\n",
    "    # URLs\n",
    "    data_url = \"https://assets.datacamp.com/production/repositories/1838/datasets/\"\n",
    "    laureates_url = data_url + \"f402fa7be837b9cd4890f4e1c59a7377693ba36c/laureates.json\"\n",
    "    prizes_url = data_url + \"3fde64719bc3226b593a1c261f715566ea6284b2/prizes.json\"\n",
    "\n",
    "    # MongoDB client\n",
    "    client = MongoClient()\n",
    "    db = client[\"nobel\"]\n",
    "\n",
    "    try:\n",
    "        # Laureates\n",
    "        laureates_data = get_json_from_url(laureates_url)\n",
    "        laureates_count = insert_data_into_collection(db, \"laureates\", laureates_data)\n",
    "        logger.info(f\"{laureates_count} documents stored in laureates collection\")\n",
    "\n",
    "        # Prizes\n",
    "        prizes_data = get_json_from_url(prizes_url)\n",
    "        prizes_count = insert_data_into_collection(db, \"prizes\", prizes_data)\n",
    "        logger.info(f\"{prizes_count} documents stored in prizes collection\")\n",
    "\n",
    "    except requests.exceptions.RequestException as e:\n",
    "        logger.error(f\"Error during data retrieval: {e}\")\n"
   ]
  },
  {
   "cell_type": "code",
   "execution_count": 3,
   "id": "1d969b32-93b5-4d4d-b4f0-310325c6e3f0",
   "metadata": {},
   "outputs": [
    {
     "name": "stderr",
     "output_type": "stream",
     "text": [
      "\u001b[32m2023-11-16 22:35:31.903\u001b[0m | \u001b[1mINFO    \u001b[0m | \u001b[36m__main__\u001b[0m:\u001b[36mnobel_data_crawler\u001b[0m:\u001b[36m25\u001b[0m - \u001b[1m13076 documents stored in laureates collection\u001b[0m\n",
      "\u001b[32m2023-11-16 22:35:32.877\u001b[0m | \u001b[1mINFO    \u001b[0m | \u001b[36m__main__\u001b[0m:\u001b[36mnobel_data_crawler\u001b[0m:\u001b[36m30\u001b[0m - \u001b[1m7670 documents stored in prizes collection\u001b[0m\n"
     ]
    }
   ],
   "source": [
    "nobel_data_crawler()"
   ]
  },
  {
   "cell_type": "code",
   "execution_count": 81,
   "id": "38d6f60b-2209-4376-9518-4094d305e1e4",
   "metadata": {},
   "outputs": [],
   "source": []
  },
  {
   "cell_type": "code",
   "execution_count": null,
   "id": "a4114251-2f35-4874-8404-02239c5117f8",
   "metadata": {},
   "outputs": [],
   "source": []
  }
 ],
 "metadata": {
  "kernelspec": {
   "display_name": "Python 3 (ipykernel)",
   "language": "python",
   "name": "python3"
  },
  "language_info": {
   "codemirror_mode": {
    "name": "ipython",
    "version": 3
   },
   "file_extension": ".py",
   "mimetype": "text/x-python",
   "name": "python",
   "nbconvert_exporter": "python",
   "pygments_lexer": "ipython3",
   "version": "3.11.3"
  }
 },
 "nbformat": 4,
 "nbformat_minor": 5
}
